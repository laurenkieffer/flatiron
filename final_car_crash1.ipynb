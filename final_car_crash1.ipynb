{
 "cells": [
  {
   "cell_type": "markdown",
   "metadata": {},
   "source": [
    "# Final Project \n",
    "### Vehicle Crashes in NY 2014-2016"
   ]
  },
  {
   "cell_type": "markdown",
   "metadata": {},
   "source": [
    "## Load the Data"
   ]
  },
  {
   "cell_type": "code",
   "execution_count": 1,
   "metadata": {},
   "outputs": [],
   "source": [
    "import warnings\n",
    "warnings.filterwarnings('ignore')"
   ]
  },
  {
   "cell_type": "code",
   "execution_count": 2,
   "metadata": {},
   "outputs": [],
   "source": [
    "import pandas as pd\n",
    "import numpy as np\n",
    "%matplotlib inline\n",
    "import matplotlib.pyplot as plt\n",
    "from plotnine import *"
   ]
  },
  {
   "cell_type": "code",
   "execution_count": 3,
   "metadata": {},
   "outputs": [
    {
     "name": "stdout",
     "output_type": "stream",
     "text": [
      "(1048575, 19)\n"
     ]
    },
    {
     "data": {
      "text/html": [
       "<div>\n",
       "<style scoped>\n",
       "    .dataframe tbody tr th:only-of-type {\n",
       "        vertical-align: middle;\n",
       "    }\n",
       "\n",
       "    .dataframe tbody tr th {\n",
       "        vertical-align: top;\n",
       "    }\n",
       "\n",
       "    .dataframe thead th {\n",
       "        text-align: right;\n",
       "    }\n",
       "</style>\n",
       "<table border=\"1\" class=\"dataframe\">\n",
       "  <thead>\n",
       "    <tr style=\"text-align: right;\">\n",
       "      <th></th>\n",
       "      <th>Year</th>\n",
       "      <th>Case Vehicle ID</th>\n",
       "      <th>Vehicle Body Type</th>\n",
       "      <th>Registration Class</th>\n",
       "      <th>Action Prior to Accident</th>\n",
       "      <th>Type / Axles of Truck or Bus</th>\n",
       "      <th>Direction of Travel</th>\n",
       "      <th>Fuel Type</th>\n",
       "      <th>Vehicle Year</th>\n",
       "      <th>State of Registration</th>\n",
       "      <th>Number of Occupants</th>\n",
       "      <th>Engine Cylinders</th>\n",
       "      <th>Vehicle Make</th>\n",
       "      <th>Contributing Factor 1</th>\n",
       "      <th>Contributing Factor 1 Description</th>\n",
       "      <th>Contributing Factor 2</th>\n",
       "      <th>Contributing Factor 2 Description</th>\n",
       "      <th>Event Type</th>\n",
       "      <th>Partial VIN</th>\n",
       "    </tr>\n",
       "  </thead>\n",
       "  <tbody>\n",
       "    <tr>\n",
       "      <th>0</th>\n",
       "      <td>2016</td>\n",
       "      <td>13364291</td>\n",
       "      <td>SUBURBAN</td>\n",
       "      <td>PASSENGER OR SUBURBAN</td>\n",
       "      <td>Changing Lanes</td>\n",
       "      <td>Not Entered</td>\n",
       "      <td>West</td>\n",
       "      <td>Gas</td>\n",
       "      <td>2012.0</td>\n",
       "      <td>NY</td>\n",
       "      <td>1.0</td>\n",
       "      <td>4.0</td>\n",
       "      <td>MINI</td>\n",
       "      <td>HUMAN</td>\n",
       "      <td>Unsafe Lane Changing</td>\n",
       "      <td>HUMAN</td>\n",
       "      <td>Not Applicable</td>\n",
       "      <td>Not Applicable</td>\n",
       "      <td>WMWZC3C57CWL81108</td>\n",
       "    </tr>\n",
       "    <tr>\n",
       "      <th>1</th>\n",
       "      <td>2016</td>\n",
       "      <td>13364304</td>\n",
       "      <td>PICKUP TRUCK</td>\n",
       "      <td>PASSENGER OR SUBURBAN</td>\n",
       "      <td>Going Straight Ahead</td>\n",
       "      <td>Not Entered</td>\n",
       "      <td>East</td>\n",
       "      <td>Gas</td>\n",
       "      <td>2014.0</td>\n",
       "      <td>NY</td>\n",
       "      <td>2.0</td>\n",
       "      <td>6.0</td>\n",
       "      <td>CHEVR</td>\n",
       "      <td>ENVMT</td>\n",
       "      <td>Pavement Slippery</td>\n",
       "      <td>HUMAN</td>\n",
       "      <td>Not Applicable</td>\n",
       "      <td>Not Applicable</td>\n",
       "      <td>3GCUKREH8EG196335</td>\n",
       "    </tr>\n",
       "  </tbody>\n",
       "</table>\n",
       "</div>"
      ],
      "text/plain": [
       "   Year  Case Vehicle ID Vehicle Body Type     Registration Class  \\\n",
       "0  2016         13364291          SUBURBAN  PASSENGER OR SUBURBAN   \n",
       "1  2016         13364304      PICKUP TRUCK  PASSENGER OR SUBURBAN   \n",
       "\n",
       "  Action Prior to Accident Type / Axles of Truck or Bus Direction of Travel  \\\n",
       "0           Changing Lanes                  Not Entered                West   \n",
       "1     Going Straight Ahead                  Not Entered                East   \n",
       "\n",
       "  Fuel Type  Vehicle Year State of Registration  Number of Occupants  \\\n",
       "0       Gas        2012.0                    NY                  1.0   \n",
       "1       Gas        2014.0                    NY                  2.0   \n",
       "\n",
       "   Engine Cylinders Vehicle Make Contributing Factor 1  \\\n",
       "0               4.0         MINI                 HUMAN   \n",
       "1               6.0        CHEVR                 ENVMT   \n",
       "\n",
       "  Contributing Factor 1 Description Contributing Factor 2  \\\n",
       "0              Unsafe Lane Changing                 HUMAN   \n",
       "1                 Pavement Slippery                 HUMAN   \n",
       "\n",
       "  Contributing Factor 2 Description      Event Type        Partial VIN  \n",
       "0                    Not Applicable  Not Applicable  WMWZC3C57CWL81108  \n",
       "1                    Not Applicable  Not Applicable  3GCUKREH8EG196335  "
      ]
     },
     "execution_count": 3,
     "metadata": {},
     "output_type": "execute_result"
    }
   ],
   "source": [
    "df = pd.read_csv('Motor_Vehicle_Crashes.csv')\n",
    "print(df.shape)\n",
    "df.head(2)"
   ]
  },
  {
   "cell_type": "code",
   "execution_count": 4,
   "metadata": {},
   "outputs": [
    {
     "name": "stdout",
     "output_type": "stream",
     "text": [
      "<class 'pandas.core.frame.DataFrame'>\n",
      "RangeIndex: 1048575 entries, 0 to 1048574\n",
      "Data columns (total 19 columns):\n",
      "Year                                 1048575 non-null int64\n",
      "Case Vehicle ID                      1048575 non-null int64\n",
      "Vehicle Body Type                    1048575 non-null object\n",
      "Registration Class                   1048575 non-null object\n",
      "Action Prior to Accident             1048575 non-null object\n",
      "Type / Axles of Truck or Bus         1048575 non-null object\n",
      "Direction of Travel                  1048575 non-null object\n",
      "Fuel Type                            1048575 non-null object\n",
      "Vehicle Year                         890678 non-null float64\n",
      "State of Registration                965273 non-null object\n",
      "Number of Occupants                  917269 non-null float64\n",
      "Engine Cylinders                     834192 non-null float64\n",
      "Vehicle Make                         891552 non-null object\n",
      "Contributing Factor 1                1048552 non-null object\n",
      "Contributing Factor 1 Description    1048552 non-null object\n",
      "Contributing Factor 2                1048553 non-null object\n",
      "Contributing Factor 2 Description    1048553 non-null object\n",
      "Event Type                           1028946 non-null object\n",
      "Partial VIN                          864316 non-null object\n",
      "dtypes: float64(3), int64(2), object(14)\n",
      "memory usage: 152.0+ MB\n"
     ]
    }
   ],
   "source": [
    "df.info()"
   ]
  },
  {
   "cell_type": "markdown",
   "metadata": {},
   "source": [
    "## Clean the Data"
   ]
  },
  {
   "cell_type": "code",
   "execution_count": 5,
   "metadata": {},
   "outputs": [
    {
     "data": {
      "text/plain": [
       "Index(['Year', 'Case Vehicle ID', 'Vehicle Body Type', 'Registration Class',\n",
       "       'Action Prior to Accident', 'Type / Axles of Truck or Bus',\n",
       "       'Direction of Travel', 'Fuel Type', 'Vehicle Year',\n",
       "       'State of Registration', 'Number of Occupants', 'Engine Cylinders',\n",
       "       'Vehicle Make', 'Contributing Factor 1',\n",
       "       'Contributing Factor 1 Description', 'Contributing Factor 2',\n",
       "       'Contributing Factor 2 Description', 'Event Type', 'Partial VIN'],\n",
       "      dtype='object')"
      ]
     },
     "execution_count": 5,
     "metadata": {},
     "output_type": "execute_result"
    }
   ],
   "source": [
    "df.columns"
   ]
  },
  {
   "cell_type": "code",
   "execution_count": 6,
   "metadata": {},
   "outputs": [],
   "source": [
    "df.columns = df.columns.str.replace(\"[ ]\", \"_\")"
   ]
  },
  {
   "cell_type": "code",
   "execution_count": 7,
   "metadata": {},
   "outputs": [
    {
     "data": {
      "text/plain": [
       "Index(['Year', 'Case_Vehicle_ID', 'Vehicle_Body_Type', 'Registration_Class',\n",
       "       'Action_Prior_to_Accident', 'Type_/_Axles_of_Truck_or_Bus',\n",
       "       'Direction_of_Travel', 'Fuel_Type', 'Vehicle_Year',\n",
       "       'State_of_Registration', 'Number_of_Occupants', 'Engine_Cylinders',\n",
       "       'Vehicle_Make', 'Contributing_Factor_1',\n",
       "       'Contributing_Factor_1_Description', 'Contributing_Factor_2',\n",
       "       'Contributing_Factor_2_Description', 'Event_Type', 'Partial_VIN'],\n",
       "      dtype='object')"
      ]
     },
     "execution_count": 7,
     "metadata": {},
     "output_type": "execute_result"
    }
   ],
   "source": [
    "df.columns"
   ]
  },
  {
   "cell_type": "code",
   "execution_count": 8,
   "metadata": {},
   "outputs": [],
   "source": [
    "df = df.dropna()"
   ]
  },
  {
   "cell_type": "code",
   "execution_count": 9,
   "metadata": {},
   "outputs": [
    {
     "name": "stdout",
     "output_type": "stream",
     "text": [
      "(765135, 19)\n"
     ]
    }
   ],
   "source": [
    "print(df.shape)"
   ]
  },
  {
   "cell_type": "code",
   "execution_count": 10,
   "metadata": {},
   "outputs": [],
   "source": [
    "# There are three variables that are saved as float, but we want to have as integer.\n",
    "df['Vehicle_Year'] = df['Vehicle_Year'].astype(int)\n",
    "df['Number_of_Occupants'] = df['Number_of_Occupants'].astype(int)\n",
    "df['Engine_Cylinders'] = df['Engine_Cylinders'].astype(int)"
   ]
  },
  {
   "cell_type": "code",
   "execution_count": 11,
   "metadata": {},
   "outputs": [
    {
     "name": "stdout",
     "output_type": "stream",
     "text": [
      "<class 'pandas.core.frame.DataFrame'>\n",
      "Int64Index: 765135 entries, 0 to 1048574\n",
      "Data columns (total 19 columns):\n",
      "Year                                 765135 non-null int64\n",
      "Case_Vehicle_ID                      765135 non-null int64\n",
      "Vehicle_Body_Type                    765135 non-null object\n",
      "Registration_Class                   765135 non-null object\n",
      "Action_Prior_to_Accident             765135 non-null object\n",
      "Type_/_Axles_of_Truck_or_Bus         765135 non-null object\n",
      "Direction_of_Travel                  765135 non-null object\n",
      "Fuel_Type                            765135 non-null object\n",
      "Vehicle_Year                         765135 non-null int32\n",
      "State_of_Registration                765135 non-null object\n",
      "Number_of_Occupants                  765135 non-null int32\n",
      "Engine_Cylinders                     765135 non-null int32\n",
      "Vehicle_Make                         765135 non-null object\n",
      "Contributing_Factor_1                765135 non-null object\n",
      "Contributing_Factor_1_Description    765135 non-null object\n",
      "Contributing_Factor_2                765135 non-null object\n",
      "Contributing_Factor_2_Description    765135 non-null object\n",
      "Event_Type                           765135 non-null object\n",
      "Partial_VIN                          765135 non-null object\n",
      "dtypes: int32(3), int64(2), object(14)\n",
      "memory usage: 108.0+ MB\n"
     ]
    }
   ],
   "source": [
    "df.info()"
   ]
  },
  {
   "cell_type": "code",
   "execution_count": 11,
   "metadata": {},
   "outputs": [],
   "source": [
    "df = df.drop(columns='Case_Vehicle_ID')"
   ]
  },
  {
   "cell_type": "code",
   "execution_count": 12,
   "metadata": {},
   "outputs": [],
   "source": [
    "df = df.drop(columns='Partial_VIN')"
   ]
  },
  {
   "cell_type": "markdown",
   "metadata": {},
   "source": [
    "## Exploratory Data Analysis"
   ]
  },
  {
   "cell_type": "code",
   "execution_count": 15,
   "metadata": {},
   "outputs": [
    {
     "data": {
      "text/html": [
       "<div>\n",
       "<style scoped>\n",
       "    .dataframe tbody tr th:only-of-type {\n",
       "        vertical-align: middle;\n",
       "    }\n",
       "\n",
       "    .dataframe tbody tr th {\n",
       "        vertical-align: top;\n",
       "    }\n",
       "\n",
       "    .dataframe thead th {\n",
       "        text-align: right;\n",
       "    }\n",
       "</style>\n",
       "<table border=\"1\" class=\"dataframe\">\n",
       "  <thead>\n",
       "    <tr style=\"text-align: right;\">\n",
       "      <th></th>\n",
       "      <th>Year</th>\n",
       "      <th>Vehicle_Body_Type</th>\n",
       "      <th>Registration_Class</th>\n",
       "      <th>Action_Prior_to_Accident</th>\n",
       "      <th>Type_/_Axles_of_Truck_or_Bus</th>\n",
       "      <th>Direction_of_Travel</th>\n",
       "      <th>Fuel_Type</th>\n",
       "      <th>Vehicle_Year</th>\n",
       "      <th>State_of_Registration</th>\n",
       "      <th>Number_of_Occupants</th>\n",
       "      <th>Engine_Cylinders</th>\n",
       "      <th>Vehicle_Make</th>\n",
       "      <th>Contributing_Factor_1</th>\n",
       "      <th>Contributing_Factor_1_Description</th>\n",
       "      <th>Contributing_Factor_2</th>\n",
       "      <th>Contributing_Factor_2_Description</th>\n",
       "      <th>Event_Type</th>\n",
       "    </tr>\n",
       "  </thead>\n",
       "  <tbody>\n",
       "    <tr>\n",
       "      <th>count</th>\n",
       "      <td>765135.00</td>\n",
       "      <td>765135</td>\n",
       "      <td>765135</td>\n",
       "      <td>765135</td>\n",
       "      <td>765135</td>\n",
       "      <td>765135</td>\n",
       "      <td>765135</td>\n",
       "      <td>765135.00</td>\n",
       "      <td>765135</td>\n",
       "      <td>765135.00</td>\n",
       "      <td>765135.00</td>\n",
       "      <td>765135</td>\n",
       "      <td>765135</td>\n",
       "      <td>765135</td>\n",
       "      <td>765135</td>\n",
       "      <td>765135</td>\n",
       "      <td>765135</td>\n",
       "    </tr>\n",
       "    <tr>\n",
       "      <th>unique</th>\n",
       "      <td>nan</td>\n",
       "      <td>48</td>\n",
       "      <td>63</td>\n",
       "      <td>21</td>\n",
       "      <td>16</td>\n",
       "      <td>10</td>\n",
       "      <td>9</td>\n",
       "      <td>nan</td>\n",
       "      <td>3</td>\n",
       "      <td>nan</td>\n",
       "      <td>nan</td>\n",
       "      <td>940</td>\n",
       "      <td>3</td>\n",
       "      <td>57</td>\n",
       "      <td>3</td>\n",
       "      <td>57</td>\n",
       "      <td>35</td>\n",
       "    </tr>\n",
       "    <tr>\n",
       "      <th>top</th>\n",
       "      <td>nan</td>\n",
       "      <td>4 DOOR SEDAN</td>\n",
       "      <td>PASSENGER OR SUBURBAN</td>\n",
       "      <td>Going Straight Ahead</td>\n",
       "      <td>Not Entered</td>\n",
       "      <td>East</td>\n",
       "      <td>Gas</td>\n",
       "      <td>nan</td>\n",
       "      <td>NY</td>\n",
       "      <td>nan</td>\n",
       "      <td>nan</td>\n",
       "      <td>TOYOT</td>\n",
       "      <td>HUMAN</td>\n",
       "      <td>Not Applicable</td>\n",
       "      <td>HUMAN</td>\n",
       "      <td>Not Applicable</td>\n",
       "      <td>Not Applicable</td>\n",
       "    </tr>\n",
       "    <tr>\n",
       "      <th>freq</th>\n",
       "      <td>nan</td>\n",
       "      <td>345177</td>\n",
       "      <td>657192</td>\n",
       "      <td>388170</td>\n",
       "      <td>765089</td>\n",
       "      <td>168953</td>\n",
       "      <td>733942</td>\n",
       "      <td>nan</td>\n",
       "      <td>765133</td>\n",
       "      <td>nan</td>\n",
       "      <td>nan</td>\n",
       "      <td>94705</td>\n",
       "      <td>723411</td>\n",
       "      <td>332964</td>\n",
       "      <td>691938</td>\n",
       "      <td>309077</td>\n",
       "      <td>455432</td>\n",
       "    </tr>\n",
       "    <tr>\n",
       "      <th>mean</th>\n",
       "      <td>2014.51</td>\n",
       "      <td>NaN</td>\n",
       "      <td>NaN</td>\n",
       "      <td>NaN</td>\n",
       "      <td>NaN</td>\n",
       "      <td>NaN</td>\n",
       "      <td>NaN</td>\n",
       "      <td>2007.19</td>\n",
       "      <td>NaN</td>\n",
       "      <td>1.38</td>\n",
       "      <td>5.31</td>\n",
       "      <td>NaN</td>\n",
       "      <td>NaN</td>\n",
       "      <td>NaN</td>\n",
       "      <td>NaN</td>\n",
       "      <td>NaN</td>\n",
       "      <td>NaN</td>\n",
       "    </tr>\n",
       "    <tr>\n",
       "      <th>std</th>\n",
       "      <td>0.50</td>\n",
       "      <td>NaN</td>\n",
       "      <td>NaN</td>\n",
       "      <td>NaN</td>\n",
       "      <td>NaN</td>\n",
       "      <td>NaN</td>\n",
       "      <td>NaN</td>\n",
       "      <td>5.54</td>\n",
       "      <td>NaN</td>\n",
       "      <td>1.36</td>\n",
       "      <td>1.44</td>\n",
       "      <td>NaN</td>\n",
       "      <td>NaN</td>\n",
       "      <td>NaN</td>\n",
       "      <td>NaN</td>\n",
       "      <td>NaN</td>\n",
       "      <td>NaN</td>\n",
       "    </tr>\n",
       "    <tr>\n",
       "      <th>min</th>\n",
       "      <td>2014.00</td>\n",
       "      <td>NaN</td>\n",
       "      <td>NaN</td>\n",
       "      <td>NaN</td>\n",
       "      <td>NaN</td>\n",
       "      <td>NaN</td>\n",
       "      <td>NaN</td>\n",
       "      <td>1923.00</td>\n",
       "      <td>NaN</td>\n",
       "      <td>0.00</td>\n",
       "      <td>0.00</td>\n",
       "      <td>NaN</td>\n",
       "      <td>NaN</td>\n",
       "      <td>NaN</td>\n",
       "      <td>NaN</td>\n",
       "      <td>NaN</td>\n",
       "      <td>NaN</td>\n",
       "    </tr>\n",
       "    <tr>\n",
       "      <th>25%</th>\n",
       "      <td>2014.00</td>\n",
       "      <td>NaN</td>\n",
       "      <td>NaN</td>\n",
       "      <td>NaN</td>\n",
       "      <td>NaN</td>\n",
       "      <td>NaN</td>\n",
       "      <td>NaN</td>\n",
       "      <td>2004.00</td>\n",
       "      <td>NaN</td>\n",
       "      <td>1.00</td>\n",
       "      <td>4.00</td>\n",
       "      <td>NaN</td>\n",
       "      <td>NaN</td>\n",
       "      <td>NaN</td>\n",
       "      <td>NaN</td>\n",
       "      <td>NaN</td>\n",
       "      <td>NaN</td>\n",
       "    </tr>\n",
       "    <tr>\n",
       "      <th>50%</th>\n",
       "      <td>2015.00</td>\n",
       "      <td>NaN</td>\n",
       "      <td>NaN</td>\n",
       "      <td>NaN</td>\n",
       "      <td>NaN</td>\n",
       "      <td>NaN</td>\n",
       "      <td>NaN</td>\n",
       "      <td>2008.00</td>\n",
       "      <td>NaN</td>\n",
       "      <td>1.00</td>\n",
       "      <td>6.00</td>\n",
       "      <td>NaN</td>\n",
       "      <td>NaN</td>\n",
       "      <td>NaN</td>\n",
       "      <td>NaN</td>\n",
       "      <td>NaN</td>\n",
       "      <td>NaN</td>\n",
       "    </tr>\n",
       "    <tr>\n",
       "      <th>75%</th>\n",
       "      <td>2015.00</td>\n",
       "      <td>NaN</td>\n",
       "      <td>NaN</td>\n",
       "      <td>NaN</td>\n",
       "      <td>NaN</td>\n",
       "      <td>NaN</td>\n",
       "      <td>NaN</td>\n",
       "      <td>2012.00</td>\n",
       "      <td>NaN</td>\n",
       "      <td>2.00</td>\n",
       "      <td>6.00</td>\n",
       "      <td>NaN</td>\n",
       "      <td>NaN</td>\n",
       "      <td>NaN</td>\n",
       "      <td>NaN</td>\n",
       "      <td>NaN</td>\n",
       "      <td>NaN</td>\n",
       "    </tr>\n",
       "    <tr>\n",
       "      <th>max</th>\n",
       "      <td>2016.00</td>\n",
       "      <td>NaN</td>\n",
       "      <td>NaN</td>\n",
       "      <td>NaN</td>\n",
       "      <td>NaN</td>\n",
       "      <td>NaN</td>\n",
       "      <td>NaN</td>\n",
       "      <td>2016.00</td>\n",
       "      <td>NaN</td>\n",
       "      <td>601.00</td>\n",
       "      <td>16.00</td>\n",
       "      <td>NaN</td>\n",
       "      <td>NaN</td>\n",
       "      <td>NaN</td>\n",
       "      <td>NaN</td>\n",
       "      <td>NaN</td>\n",
       "      <td>NaN</td>\n",
       "    </tr>\n",
       "  </tbody>\n",
       "</table>\n",
       "</div>"
      ],
      "text/plain": [
       "            Year Vehicle_Body_Type     Registration_Class  \\\n",
       "count  765135.00            765135                 765135   \n",
       "unique       nan                48                     63   \n",
       "top          nan      4 DOOR SEDAN  PASSENGER OR SUBURBAN   \n",
       "freq         nan            345177                 657192   \n",
       "mean     2014.51               NaN                    NaN   \n",
       "std         0.50               NaN                    NaN   \n",
       "min      2014.00               NaN                    NaN   \n",
       "25%      2014.00               NaN                    NaN   \n",
       "50%      2015.00               NaN                    NaN   \n",
       "75%      2015.00               NaN                    NaN   \n",
       "max      2016.00               NaN                    NaN   \n",
       "\n",
       "       Action_Prior_to_Accident Type_/_Axles_of_Truck_or_Bus  \\\n",
       "count                    765135                       765135   \n",
       "unique                       21                           16   \n",
       "top        Going Straight Ahead                  Not Entered   \n",
       "freq                     388170                       765089   \n",
       "mean                        NaN                          NaN   \n",
       "std                         NaN                          NaN   \n",
       "min                         NaN                          NaN   \n",
       "25%                         NaN                          NaN   \n",
       "50%                         NaN                          NaN   \n",
       "75%                         NaN                          NaN   \n",
       "max                         NaN                          NaN   \n",
       "\n",
       "       Direction_of_Travel Fuel_Type  Vehicle_Year State_of_Registration  \\\n",
       "count               765135    765135     765135.00                765135   \n",
       "unique                  10         9           nan                     3   \n",
       "top                   East       Gas           nan                    NY   \n",
       "freq                168953    733942           nan                765133   \n",
       "mean                   NaN       NaN       2007.19                   NaN   \n",
       "std                    NaN       NaN          5.54                   NaN   \n",
       "min                    NaN       NaN       1923.00                   NaN   \n",
       "25%                    NaN       NaN       2004.00                   NaN   \n",
       "50%                    NaN       NaN       2008.00                   NaN   \n",
       "75%                    NaN       NaN       2012.00                   NaN   \n",
       "max                    NaN       NaN       2016.00                   NaN   \n",
       "\n",
       "        Number_of_Occupants  Engine_Cylinders Vehicle_Make  \\\n",
       "count             765135.00         765135.00       765135   \n",
       "unique                  nan               nan          940   \n",
       "top                     nan               nan        TOYOT   \n",
       "freq                    nan               nan        94705   \n",
       "mean                   1.38              5.31          NaN   \n",
       "std                    1.36              1.44          NaN   \n",
       "min                    0.00              0.00          NaN   \n",
       "25%                    1.00              4.00          NaN   \n",
       "50%                    1.00              6.00          NaN   \n",
       "75%                    2.00              6.00          NaN   \n",
       "max                  601.00             16.00          NaN   \n",
       "\n",
       "       Contributing_Factor_1 Contributing_Factor_1_Description  \\\n",
       "count                 765135                            765135   \n",
       "unique                     3                                57   \n",
       "top                    HUMAN                    Not Applicable   \n",
       "freq                  723411                            332964   \n",
       "mean                     NaN                               NaN   \n",
       "std                      NaN                               NaN   \n",
       "min                      NaN                               NaN   \n",
       "25%                      NaN                               NaN   \n",
       "50%                      NaN                               NaN   \n",
       "75%                      NaN                               NaN   \n",
       "max                      NaN                               NaN   \n",
       "\n",
       "       Contributing_Factor_2 Contributing_Factor_2_Description      Event_Type  \n",
       "count                 765135                            765135          765135  \n",
       "unique                     3                                57              35  \n",
       "top                    HUMAN                    Not Applicable  Not Applicable  \n",
       "freq                  691938                            309077          455432  \n",
       "mean                     NaN                               NaN             NaN  \n",
       "std                      NaN                               NaN             NaN  \n",
       "min                      NaN                               NaN             NaN  \n",
       "25%                      NaN                               NaN             NaN  \n",
       "50%                      NaN                               NaN             NaN  \n",
       "75%                      NaN                               NaN             NaN  \n",
       "max                      NaN                               NaN             NaN  "
      ]
     },
     "execution_count": 15,
     "metadata": {},
     "output_type": "execute_result"
    }
   ],
   "source": [
    "#Easier to read pandas numbers without scientific notation\n",
    "pd.options.display.float_format = '{:.2f}'.format \n",
    "\n",
    "df.describe(include='all')"
   ]
  },
  {
   "cell_type": "code",
   "execution_count": 10,
   "metadata": {},
   "outputs": [
    {
     "data": {
      "text/plain": [
       "TOYOT    94705\n",
       "FORD     84829\n",
       "HONDA    83306\n",
       "CHEVR    82184\n",
       "NISSA    61024\n",
       "DODGE    35923\n",
       "HYUND    33822\n",
       "JEEP     30915\n",
       "SUBAR    20580\n",
       "CHRYS    16766\n",
       "Name: Vehicle_Make, dtype: int64"
      ]
     },
     "execution_count": 10,
     "metadata": {},
     "output_type": "execute_result"
    }
   ],
   "source": [
    "df['Vehicle_Make'].value_counts()[:10]"
   ]
  },
  {
   "cell_type": "code",
   "execution_count": 13,
   "metadata": {},
   "outputs": [],
   "source": [
    "df['Vehicle_Make_Count'] = df['Vehicle_Make'].map(df['Vehicle_Make'].value_counts()) "
   ]
  },
  {
   "cell_type": "code",
   "execution_count": 18,
   "metadata": {},
   "outputs": [
    {
     "data": {
      "text/html": [
       "<div>\n",
       "<style scoped>\n",
       "    .dataframe tbody tr th:only-of-type {\n",
       "        vertical-align: middle;\n",
       "    }\n",
       "\n",
       "    .dataframe tbody tr th {\n",
       "        vertical-align: top;\n",
       "    }\n",
       "\n",
       "    .dataframe thead th {\n",
       "        text-align: right;\n",
       "    }\n",
       "</style>\n",
       "<table border=\"1\" class=\"dataframe\">\n",
       "  <thead>\n",
       "    <tr style=\"text-align: right;\">\n",
       "      <th></th>\n",
       "      <th>Year</th>\n",
       "      <th>Vehicle_Body_Type</th>\n",
       "      <th>Registration_Class</th>\n",
       "      <th>Action_Prior_to_Accident</th>\n",
       "      <th>Type_/_Axles_of_Truck_or_Bus</th>\n",
       "      <th>Direction_of_Travel</th>\n",
       "      <th>Fuel_Type</th>\n",
       "      <th>Vehicle_Year</th>\n",
       "      <th>State_of_Registration</th>\n",
       "      <th>Number_of_Occupants</th>\n",
       "      <th>Engine_Cylinders</th>\n",
       "      <th>Vehicle_Make</th>\n",
       "      <th>Contributing_Factor_1</th>\n",
       "      <th>Contributing_Factor_1_Description</th>\n",
       "      <th>Contributing_Factor_2</th>\n",
       "      <th>Contributing_Factor_2_Description</th>\n",
       "      <th>Event_Type</th>\n",
       "      <th>Vehicle_Make_Count</th>\n",
       "    </tr>\n",
       "  </thead>\n",
       "  <tbody>\n",
       "    <tr>\n",
       "      <th>0</th>\n",
       "      <td>2016</td>\n",
       "      <td>SUBURBAN</td>\n",
       "      <td>PASSENGER OR SUBURBAN</td>\n",
       "      <td>Changing Lanes</td>\n",
       "      <td>Not Entered</td>\n",
       "      <td>West</td>\n",
       "      <td>Gas</td>\n",
       "      <td>2012</td>\n",
       "      <td>NY</td>\n",
       "      <td>1</td>\n",
       "      <td>4</td>\n",
       "      <td>MINI</td>\n",
       "      <td>HUMAN</td>\n",
       "      <td>Unsafe Lane Changing</td>\n",
       "      <td>HUMAN</td>\n",
       "      <td>Not Applicable</td>\n",
       "      <td>Not Applicable</td>\n",
       "      <td>1259</td>\n",
       "    </tr>\n",
       "    <tr>\n",
       "      <th>1</th>\n",
       "      <td>2016</td>\n",
       "      <td>PICKUP TRUCK</td>\n",
       "      <td>PASSENGER OR SUBURBAN</td>\n",
       "      <td>Going Straight Ahead</td>\n",
       "      <td>Not Entered</td>\n",
       "      <td>East</td>\n",
       "      <td>Gas</td>\n",
       "      <td>2014</td>\n",
       "      <td>NY</td>\n",
       "      <td>2</td>\n",
       "      <td>6</td>\n",
       "      <td>CHEVR</td>\n",
       "      <td>ENVMT</td>\n",
       "      <td>Pavement Slippery</td>\n",
       "      <td>HUMAN</td>\n",
       "      <td>Not Applicable</td>\n",
       "      <td>Not Applicable</td>\n",
       "      <td>82184</td>\n",
       "    </tr>\n",
       "    <tr>\n",
       "      <th>2</th>\n",
       "      <td>2016</td>\n",
       "      <td>4 DOOR SEDAN</td>\n",
       "      <td>PASSENGER OR SUBURBAN</td>\n",
       "      <td>Going Straight Ahead</td>\n",
       "      <td>Not Entered</td>\n",
       "      <td>North</td>\n",
       "      <td>Gas</td>\n",
       "      <td>2007</td>\n",
       "      <td>NY</td>\n",
       "      <td>1</td>\n",
       "      <td>4</td>\n",
       "      <td>HONDA</td>\n",
       "      <td>ENVMT</td>\n",
       "      <td>Pavement Slippery</td>\n",
       "      <td>HUMAN</td>\n",
       "      <td>Not Applicable</td>\n",
       "      <td>Not Applicable</td>\n",
       "      <td>83306</td>\n",
       "    </tr>\n",
       "    <tr>\n",
       "      <th>3</th>\n",
       "      <td>2016</td>\n",
       "      <td>SUBURBAN</td>\n",
       "      <td>PASSENGER OR SUBURBAN</td>\n",
       "      <td>Going Straight Ahead</td>\n",
       "      <td>Not Entered</td>\n",
       "      <td>North</td>\n",
       "      <td>Gas</td>\n",
       "      <td>2011</td>\n",
       "      <td>NY</td>\n",
       "      <td>4</td>\n",
       "      <td>4</td>\n",
       "      <td>CHEVR</td>\n",
       "      <td>ENVMT</td>\n",
       "      <td>Pavement Slippery</td>\n",
       "      <td>ENVMT</td>\n",
       "      <td>Obstruction/ Debris</td>\n",
       "      <td>Unknown</td>\n",
       "      <td>82184</td>\n",
       "    </tr>\n",
       "    <tr>\n",
       "      <th>4</th>\n",
       "      <td>2016</td>\n",
       "      <td>SUBURBAN</td>\n",
       "      <td>PASSENGER OR SUBURBAN</td>\n",
       "      <td>Going Straight Ahead</td>\n",
       "      <td>Not Entered</td>\n",
       "      <td>North</td>\n",
       "      <td>Gas</td>\n",
       "      <td>2004</td>\n",
       "      <td>NY</td>\n",
       "      <td>1</td>\n",
       "      <td>6</td>\n",
       "      <td>BUICK</td>\n",
       "      <td>ENVMT</td>\n",
       "      <td>Pavement Slippery</td>\n",
       "      <td>HUMAN</td>\n",
       "      <td>Not Applicable</td>\n",
       "      <td>Snow Embankment, Collision With Fixed Object</td>\n",
       "      <td>10631</td>\n",
       "    </tr>\n",
       "  </tbody>\n",
       "</table>\n",
       "</div>"
      ],
      "text/plain": [
       "   Year Vehicle_Body_Type     Registration_Class Action_Prior_to_Accident  \\\n",
       "0  2016          SUBURBAN  PASSENGER OR SUBURBAN           Changing Lanes   \n",
       "1  2016      PICKUP TRUCK  PASSENGER OR SUBURBAN     Going Straight Ahead   \n",
       "2  2016      4 DOOR SEDAN  PASSENGER OR SUBURBAN     Going Straight Ahead   \n",
       "3  2016          SUBURBAN  PASSENGER OR SUBURBAN     Going Straight Ahead   \n",
       "4  2016          SUBURBAN  PASSENGER OR SUBURBAN     Going Straight Ahead   \n",
       "\n",
       "  Type_/_Axles_of_Truck_or_Bus Direction_of_Travel Fuel_Type  Vehicle_Year  \\\n",
       "0                  Not Entered                West       Gas          2012   \n",
       "1                  Not Entered                East       Gas          2014   \n",
       "2                  Not Entered               North       Gas          2007   \n",
       "3                  Not Entered               North       Gas          2011   \n",
       "4                  Not Entered               North       Gas          2004   \n",
       "\n",
       "  State_of_Registration  Number_of_Occupants  Engine_Cylinders Vehicle_Make  \\\n",
       "0                    NY                    1                 4         MINI   \n",
       "1                    NY                    2                 6        CHEVR   \n",
       "2                    NY                    1                 4        HONDA   \n",
       "3                    NY                    4                 4        CHEVR   \n",
       "4                    NY                    1                 6        BUICK   \n",
       "\n",
       "  Contributing_Factor_1 Contributing_Factor_1_Description  \\\n",
       "0                 HUMAN              Unsafe Lane Changing   \n",
       "1                 ENVMT                 Pavement Slippery   \n",
       "2                 ENVMT                 Pavement Slippery   \n",
       "3                 ENVMT                 Pavement Slippery   \n",
       "4                 ENVMT                 Pavement Slippery   \n",
       "\n",
       "  Contributing_Factor_2 Contributing_Factor_2_Description  \\\n",
       "0                 HUMAN                    Not Applicable   \n",
       "1                 HUMAN                    Not Applicable   \n",
       "2                 HUMAN                    Not Applicable   \n",
       "3                 ENVMT               Obstruction/ Debris   \n",
       "4                 HUMAN                    Not Applicable   \n",
       "\n",
       "                                     Event_Type  Vehicle_Make_Count  \n",
       "0                                Not Applicable                1259  \n",
       "1                                Not Applicable               82184  \n",
       "2                                Not Applicable               83306  \n",
       "3                                       Unknown               82184  \n",
       "4  Snow Embankment, Collision With Fixed Object               10631  "
      ]
     },
     "execution_count": 18,
     "metadata": {},
     "output_type": "execute_result"
    }
   ],
   "source": [
    "df.head()"
   ]
  },
  {
   "cell_type": "code",
   "execution_count": 14,
   "metadata": {},
   "outputs": [],
   "source": [
    "df = df[df['Vehicle_Make_Count'] > 5000]"
   ]
  },
  {
   "cell_type": "code",
   "execution_count": 20,
   "metadata": {},
   "outputs": [
    {
     "data": {
      "text/plain": [
       "Not Applicable                     314845\n",
       "Not Entered                        152590\n",
       "Driver Inattention/Distraction*     43650\n",
       "Following Too Closely               34539\n",
       "Failure to Yield Right-of-Way       32741\n",
       "Name: Contributing_Factor_1_Description, dtype: int64"
      ]
     },
     "execution_count": 20,
     "metadata": {},
     "output_type": "execute_result"
    }
   ],
   "source": [
    "df['Contributing_Factor_1_Description'].value_counts()[:5]"
   ]
  },
  {
   "cell_type": "code",
   "execution_count": 21,
   "metadata": {},
   "outputs": [
    {
     "data": {
      "text/plain": [
       "Going Straight Ahead    366572\n",
       "Stopped in Traffic       70022\n",
       "Slowing or Stopping      63679\n",
       "Making Left Turn         61746\n",
       "Unknown                  31308\n",
       "Parked                   24293\n",
       "Making Right Turn        24089\n",
       "Backing                  24059\n",
       "Changing Lanes           15760\n",
       "Starting in Traffic      12189\n",
       "Name: Action_Prior_to_Accident, dtype: int64"
      ]
     },
     "execution_count": 21,
     "metadata": {},
     "output_type": "execute_result"
    }
   ],
   "source": [
    "df['Action_Prior_to_Accident'].value_counts()[:10]"
   ]
  },
  {
   "cell_type": "code",
   "execution_count": 22,
   "metadata": {},
   "outputs": [
    {
     "name": "stdout",
     "output_type": "stream",
     "text": [
      "(723646, 18)\n"
     ]
    }
   ],
   "source": [
    "print(df.shape)"
   ]
  },
  {
   "cell_type": "code",
   "execution_count": 23,
   "metadata": {},
   "outputs": [
    {
     "data": {
      "text/plain": [
       "Not Applicable                                                  431193\n",
       "Not Entered                                                     223178\n",
       "Other Motor Vehicle, Collision With                              29699\n",
       "Tree, Collision With Fixed Object                                 5179\n",
       "Earth Embankment/Rock Cut/Ditch, Collision With Fixed Object      4171\n",
       "Name: Event_Type, dtype: int64"
      ]
     },
     "execution_count": 23,
     "metadata": {},
     "output_type": "execute_result"
    }
   ],
   "source": [
    "df['Event_Type'].value_counts()[:5]"
   ]
  },
  {
   "cell_type": "code",
   "execution_count": 24,
   "metadata": {},
   "outputs": [
    {
     "data": {
      "text/plain": [
       "4 DOOR SEDAN    338956\n",
       "SUBURBAN        267950\n",
       "PICKUP TRUCK     53288\n",
       "2 DOOR SEDAN     34923\n",
       "VAN TRUCK        11156\n",
       "Name: Vehicle_Body_Type, dtype: int64"
      ]
     },
     "execution_count": 24,
     "metadata": {},
     "output_type": "execute_result"
    }
   ],
   "source": [
    "df['Vehicle_Body_Type'].value_counts()[:5]"
   ]
  },
  {
   "cell_type": "markdown",
   "metadata": {},
   "source": [
    "# Plots"
   ]
  },
  {
   "cell_type": "code",
   "execution_count": 26,
   "metadata": {},
   "outputs": [],
   "source": [
    "plt_df = (df\n",
    " .groupby(['Vehicle_Year'])\n",
    " .apply(lambda x: pd.Series(dict(\n",
    "     count = x.shape[0]\n",
    " )))\n",
    " .reset_index()\n",
    ")"
   ]
  },
  {
   "cell_type": "code",
   "execution_count": 27,
   "metadata": {},
   "outputs": [
    {
     "name": "stderr",
     "output_type": "stream",
     "text": [
      "C:\\Users\\laure\\Anaconda3\\lib\\site-packages\\plotnine\\layer.py:431: UserWarning: position_stack : Removed 52 rows containing missing values.\n",
      "  data = self.position.setup_data(self.data, params)\n"
     ]
    },
    {
     "data": {
      "image/png": "[encoded data removed]",
      "text/plain": [
       "<Figure size 640x480 with 1 Axes>"
      ]
     },
     "metadata": {
      "needs_background": "light"
     },
     "output_type": "display_data"
    },
    {
     "data": {
      "text/plain": [
       "<ggplot: (-9223371954400370951)>"
      ]
     },
     "execution_count": 27,
     "metadata": {},
     "output_type": "execute_result"
    }
   ],
   "source": [
    "(ggplot(plt_df, aes(x='Vehicle_Year', y='count', fill='count')) \n",
    " + geom_bar(stat='identity')\n",
    " + theme_minimal()\n",
    " + ggtitle('Number of Vehicle Years')\n",
    " + xlim(1985, 2018)\n",
    ")"
   ]
  },
  {
   "cell_type": "code",
   "execution_count": 28,
   "metadata": {},
   "outputs": [],
   "source": [
    "plt_df = (df\n",
    " .groupby(['Contributing_Factor_1'])\n",
    " .apply(lambda x: pd.Series(dict(\n",
    "     count = x.shape[0]\n",
    " )))\n",
    " .reset_index()\n",
    ")"
   ]
  },
  {
   "cell_type": "code",
   "execution_count": 29,
   "metadata": {},
   "outputs": [
    {
     "data": {
      "image/png": "[encoded data removed]",
      "text/plain": [
       "<Figure size 640x480 with 1 Axes>"
      ]
     },
     "metadata": {
      "needs_background": "light"
     },
     "output_type": "display_data"
    },
    {
     "data": {
      "text/plain": [
       "<ggplot: (-9223371954400374426)>"
      ]
     },
     "execution_count": 29,
     "metadata": {},
     "output_type": "execute_result"
    }
   ],
   "source": [
    "(ggplot(plt_df, aes(x='Contributing_Factor_1', y='count', fill='count')) \n",
    " + geom_bar(stat='identity')\n",
    " + theme_minimal()\n",
    " + ggtitle('Number of Contributing Factors')\n",
    ")"
   ]
  },
  {
   "cell_type": "code",
   "execution_count": 30,
   "metadata": {},
   "outputs": [],
   "source": [
    "plt_df = (df\n",
    " .groupby(['Number_of_Occupants'])\n",
    " .apply(lambda x: pd.Series(dict(\n",
    "     count = x.shape[0]\n",
    " )))\n",
    " .reset_index()\n",
    ")"
   ]
  },
  {
   "cell_type": "code",
   "execution_count": 31,
   "metadata": {},
   "outputs": [
    {
     "name": "stderr",
     "output_type": "stream",
     "text": [
      "C:\\Users\\laure\\Anaconda3\\lib\\site-packages\\plotnine\\layer.py:431: UserWarning: position_stack : Removed 21 rows containing missing values.\n",
      "  data = self.position.setup_data(self.data, params)\n"
     ]
    },
    {
     "data": {
      "image/png": "[encoded data removed]",
      "text/plain": [
       "<Figure size 640x480 with 1 Axes>"
      ]
     },
     "metadata": {
      "needs_background": "light"
     },
     "output_type": "display_data"
    },
    {
     "data": {
      "text/plain": [
       "<ggplot: (-9223371954400519627)>"
      ]
     },
     "execution_count": 31,
     "metadata": {},
     "output_type": "execute_result"
    }
   ],
   "source": [
    "(ggplot(plt_df, aes(x='Number_of_Occupants', y='count', fill='count')) \n",
    " + geom_bar(stat='identity')\n",
    " + theme_minimal()\n",
    " + ggtitle('Number of Occupants')\n",
    " + xlim(0, 10)\n",
    ")"
   ]
  },
  {
   "cell_type": "code",
   "execution_count": 32,
   "metadata": {},
   "outputs": [],
   "source": [
    "plt_df = (df\n",
    " .groupby(['Action_Prior_to_Accident'])\n",
    " .apply(lambda x: pd.Series(dict(\n",
    "     count = x.shape[0]\n",
    " )))\n",
    " .reset_index()\n",
    ")"
   ]
  },
  {
   "cell_type": "code",
   "execution_count": 33,
   "metadata": {},
   "outputs": [
    {
     "data": {
      "image/png": "[encoded data removed]",
      "text/plain": [
       "<Figure size 640x480 with 1 Axes>"
      ]
     },
     "metadata": {
      "needs_background": "light"
     },
     "output_type": "display_data"
    },
    {
     "data": {
      "text/plain": [
       "<ggplot: (82454290131)>"
      ]
     },
     "execution_count": 33,
     "metadata": {},
     "output_type": "execute_result"
    }
   ],
   "source": [
    "(ggplot(plt_df, aes(x='Action_Prior_to_Accident', y='count', fill='count')) \n",
    " + geom_bar(stat='identity')\n",
    " + coord_flip()\n",
    " + theme_minimal()\n",
    " + ggtitle('Number of Action_Prior_to_Accident')\n",
    ")"
   ]
  },
  {
   "cell_type": "code",
   "execution_count": 34,
   "metadata": {},
   "outputs": [],
   "source": [
    "plt_df = (df\n",
    " .groupby(['Vehicle_Make'])\n",
    " .apply(lambda x: pd.Series(dict(\n",
    "     count = x.shape[0]\n",
    " )))\n",
    " .reset_index()\n",
    ")"
   ]
  },
  {
   "cell_type": "code",
   "execution_count": 35,
   "metadata": {},
   "outputs": [
    {
     "data": {
      "image/png": "[encoded data removed]",
      "text/plain": [
       "<Figure size 640x480 with 1 Axes>"
      ]
     },
     "metadata": {
      "needs_background": "light"
     },
     "output_type": "display_data"
    },
    {
     "data": {
      "text/plain": [
       "<ggplot: (-9223371954400453565)>"
      ]
     },
     "execution_count": 35,
     "metadata": {},
     "output_type": "execute_result"
    }
   ],
   "source": [
    "(ggplot(plt_df, aes(x='Vehicle_Make', y='count', fill='count')) \n",
    " + geom_bar(stat='identity')\n",
    " + coord_flip()\n",
    " + theme_minimal()\n",
    " + ggtitle('Number of Vehicle Makes')\n",
    ")"
   ]
  },
  {
   "cell_type": "markdown",
   "metadata": {},
   "source": [
    "#### Does this data correlate with vehicle sales, or are Toyotas more prone to accidents?"
   ]
  },
  {
   "cell_type": "code",
   "execution_count": 36,
   "metadata": {},
   "outputs": [
    {
     "name": "stdout",
     "output_type": "stream",
     "text": [
      "(11936667, 20)\n"
     ]
    },
    {
     "data": {
      "text/html": [
       "<div>\n",
       "<style scoped>\n",
       "    .dataframe tbody tr th:only-of-type {\n",
       "        vertical-align: middle;\n",
       "    }\n",
       "\n",
       "    .dataframe tbody tr th {\n",
       "        vertical-align: top;\n",
       "    }\n",
       "\n",
       "    .dataframe thead th {\n",
       "        text-align: right;\n",
       "    }\n",
       "</style>\n",
       "<table border=\"1\" class=\"dataframe\">\n",
       "  <thead>\n",
       "    <tr style=\"text-align: right;\">\n",
       "      <th></th>\n",
       "      <th>Record Type</th>\n",
       "      <th>VIN</th>\n",
       "      <th>Registration Class</th>\n",
       "      <th>City</th>\n",
       "      <th>State</th>\n",
       "      <th>Zip</th>\n",
       "      <th>County</th>\n",
       "      <th>Model Year</th>\n",
       "      <th>Make</th>\n",
       "      <th>Body Type</th>\n",
       "      <th>Fuel Type</th>\n",
       "      <th>Unladen Weight</th>\n",
       "      <th>Maximum Gross Weight</th>\n",
       "      <th>Passengers</th>\n",
       "      <th>Reg Valid Date</th>\n",
       "      <th>Reg Expiration Date</th>\n",
       "      <th>Color</th>\n",
       "      <th>Scofflaw Indicator</th>\n",
       "      <th>Suspension Indicator</th>\n",
       "      <th>Revocation Indicator</th>\n",
       "    </tr>\n",
       "  </thead>\n",
       "  <tbody>\n",
       "    <tr>\n",
       "      <th>0</th>\n",
       "      <td>BOAT</td>\n",
       "      <td>999999999999</td>\n",
       "      <td>BOT</td>\n",
       "      <td>RYE</td>\n",
       "      <td>NY</td>\n",
       "      <td>10580</td>\n",
       "      <td>WESTCHESTER</td>\n",
       "      <td>1940.00</td>\n",
       "      <td>FAIRF</td>\n",
       "      <td>BOAT</td>\n",
       "      <td>GAS</td>\n",
       "      <td>nan</td>\n",
       "      <td>nan</td>\n",
       "      <td>nan</td>\n",
       "      <td>03/09/2017</td>\n",
       "      <td>04/30/2020</td>\n",
       "      <td></td>\n",
       "      <td>N</td>\n",
       "      <td>N</td>\n",
       "      <td>N</td>\n",
       "    </tr>\n",
       "    <tr>\n",
       "      <th>1</th>\n",
       "      <td>VEH</td>\n",
       "      <td>9999236</td>\n",
       "      <td>HIS</td>\n",
       "      <td>ROSLYN</td>\n",
       "      <td>NY</td>\n",
       "      <td>11576</td>\n",
       "      <td>NASSAU</td>\n",
       "      <td>1937.00</td>\n",
       "      <td>CHRY</td>\n",
       "      <td>4DSD</td>\n",
       "      <td>GAS</td>\n",
       "      <td>6300.00</td>\n",
       "      <td>nan</td>\n",
       "      <td>nan</td>\n",
       "      <td>05/10/2018</td>\n",
       "      <td>06/23/2019</td>\n",
       "      <td>BK</td>\n",
       "      <td>N</td>\n",
       "      <td>N</td>\n",
       "      <td>N</td>\n",
       "    </tr>\n",
       "  </tbody>\n",
       "</table>\n",
       "</div>"
      ],
      "text/plain": [
       "  Record Type                VIN Registration Class             City State  \\\n",
       "0        BOAT  999999999999                     BOT  RYE                NY   \n",
       "1        VEH   9999236                          HIS  ROSLYN             NY   \n",
       "\n",
       "     Zip        County  Model Year   Make Body Type Fuel Type  Unladen Weight  \\\n",
       "0  10580  WESTCHESTER      1940.00  FAIRF      BOAT  GAS                  nan   \n",
       "1  11576  NASSAU           1937.00  CHRY       4DSD  GAS              6300.00   \n",
       "\n",
       "   Maximum Gross Weight  Passengers Reg Valid Date Reg Expiration Date  Color  \\\n",
       "0                   nan         nan     03/09/2017          04/30/2020          \n",
       "1                   nan         nan     05/10/2018          06/23/2019  BK      \n",
       "\n",
       "  Scofflaw Indicator Suspension Indicator Revocation Indicator  \n",
       "0                  N                    N                    N  \n",
       "1                  N                    N                    N  "
      ]
     },
     "execution_count": 36,
     "metadata": {},
     "output_type": "execute_result"
    }
   ],
   "source": [
    "df2 = pd.read_csv('Vehicle_Snowmobile_Boat_Registrations.csv')\n",
    "print(df2.shape)\n",
    "df2.head(2)"
   ]
  },
  {
   "cell_type": "code",
   "execution_count": 37,
   "metadata": {},
   "outputs": [],
   "source": [
    "df2.columns = df2.columns.str.replace(\"[ ]\", \"_\")"
   ]
  },
  {
   "cell_type": "code",
   "execution_count": 38,
   "metadata": {},
   "outputs": [],
   "source": [
    "df2 = df2.loc[df2['Record_Type'].str.contains('VEH')]"
   ]
  },
  {
   "cell_type": "code",
   "execution_count": 39,
   "metadata": {},
   "outputs": [],
   "source": [
    "df2 = df2.loc[df2['State'].str.contains('NY')]"
   ]
  },
  {
   "cell_type": "code",
   "execution_count": 40,
   "metadata": {},
   "outputs": [
    {
     "name": "stdout",
     "output_type": "stream",
     "text": [
      "(10513274, 20)\n"
     ]
    }
   ],
   "source": [
    "print(df2.shape)"
   ]
  },
  {
   "cell_type": "code",
   "execution_count": 41,
   "metadata": {},
   "outputs": [
    {
     "data": {
      "text/html": [
       "<div>\n",
       "<style scoped>\n",
       "    .dataframe tbody tr th:only-of-type {\n",
       "        vertical-align: middle;\n",
       "    }\n",
       "\n",
       "    .dataframe tbody tr th {\n",
       "        vertical-align: top;\n",
       "    }\n",
       "\n",
       "    .dataframe thead th {\n",
       "        text-align: right;\n",
       "    }\n",
       "</style>\n",
       "<table border=\"1\" class=\"dataframe\">\n",
       "  <thead>\n",
       "    <tr style=\"text-align: right;\">\n",
       "      <th></th>\n",
       "      <th>Record_Type</th>\n",
       "      <th>VIN</th>\n",
       "      <th>Registration_Class</th>\n",
       "      <th>City</th>\n",
       "      <th>State</th>\n",
       "      <th>Zip</th>\n",
       "      <th>County</th>\n",
       "      <th>Model_Year</th>\n",
       "      <th>Make</th>\n",
       "      <th>Body_Type</th>\n",
       "      <th>Fuel_Type</th>\n",
       "      <th>Unladen_Weight</th>\n",
       "      <th>Maximum_Gross_Weight</th>\n",
       "      <th>Passengers</th>\n",
       "      <th>Reg_Valid_Date</th>\n",
       "      <th>Reg_Expiration_Date</th>\n",
       "      <th>Color</th>\n",
       "      <th>Scofflaw_Indicator</th>\n",
       "      <th>Suspension_Indicator</th>\n",
       "      <th>Revocation_Indicator</th>\n",
       "    </tr>\n",
       "  </thead>\n",
       "  <tbody>\n",
       "    <tr>\n",
       "      <th>1</th>\n",
       "      <td>VEH</td>\n",
       "      <td>9999236</td>\n",
       "      <td>HIS</td>\n",
       "      <td>ROSLYN</td>\n",
       "      <td>NY</td>\n",
       "      <td>11576</td>\n",
       "      <td>NASSAU</td>\n",
       "      <td>1937.00</td>\n",
       "      <td>CHRY</td>\n",
       "      <td>4DSD</td>\n",
       "      <td>GAS</td>\n",
       "      <td>6300.00</td>\n",
       "      <td>nan</td>\n",
       "      <td>nan</td>\n",
       "      <td>05/10/2018</td>\n",
       "      <td>06/23/2019</td>\n",
       "      <td>BK</td>\n",
       "      <td>N</td>\n",
       "      <td>N</td>\n",
       "      <td>N</td>\n",
       "    </tr>\n",
       "    <tr>\n",
       "      <th>10</th>\n",
       "      <td>VEH</td>\n",
       "      <td>9996</td>\n",
       "      <td>MOT</td>\n",
       "      <td>OLD BROOKVILLE</td>\n",
       "      <td>NY</td>\n",
       "      <td>11545</td>\n",
       "      <td>NASSAU</td>\n",
       "      <td>1951.00</td>\n",
       "      <td>NIMBU</td>\n",
       "      <td>MCY</td>\n",
       "      <td>GAS</td>\n",
       "      <td>408.00</td>\n",
       "      <td>nan</td>\n",
       "      <td>nan</td>\n",
       "      <td>04/07/2018</td>\n",
       "      <td>04/30/2019</td>\n",
       "      <td>DK RD</td>\n",
       "      <td>N</td>\n",
       "      <td>N</td>\n",
       "      <td>N</td>\n",
       "    </tr>\n",
       "    <tr>\n",
       "      <th>23</th>\n",
       "      <td>VEH</td>\n",
       "      <td>9992313</td>\n",
       "      <td>PAS</td>\n",
       "      <td>CAMDEN</td>\n",
       "      <td>NY</td>\n",
       "      <td>13316</td>\n",
       "      <td>ONEIDA</td>\n",
       "      <td>1924.00</td>\n",
       "      <td>FORD</td>\n",
       "      <td>CONV</td>\n",
       "      <td>GAS</td>\n",
       "      <td>1527.00</td>\n",
       "      <td>nan</td>\n",
       "      <td>nan</td>\n",
       "      <td>07/12/2017</td>\n",
       "      <td>07/06/2019</td>\n",
       "      <td>BK</td>\n",
       "      <td>N</td>\n",
       "      <td>N</td>\n",
       "      <td>N</td>\n",
       "    </tr>\n",
       "    <tr>\n",
       "      <th>37</th>\n",
       "      <td>VEH</td>\n",
       "      <td>99906</td>\n",
       "      <td>SPC</td>\n",
       "      <td>BROOKLYN</td>\n",
       "      <td>NY</td>\n",
       "      <td>11232</td>\n",
       "      <td>KINGS</td>\n",
       "      <td>2005.00</td>\n",
       "      <td>MANIT</td>\n",
       "      <td>P/SH</td>\n",
       "      <td>PROPANE</td>\n",
       "      <td>7800.00</td>\n",
       "      <td>nan</td>\n",
       "      <td>nan</td>\n",
       "      <td>11/21/2018</td>\n",
       "      <td>12/31/2019</td>\n",
       "      <td>YW</td>\n",
       "      <td>N</td>\n",
       "      <td>N</td>\n",
       "      <td>N</td>\n",
       "    </tr>\n",
       "    <tr>\n",
       "      <th>49</th>\n",
       "      <td>VEH</td>\n",
       "      <td>99899</td>\n",
       "      <td>MOT</td>\n",
       "      <td>WEST BABYLON</td>\n",
       "      <td>NY</td>\n",
       "      <td>11704</td>\n",
       "      <td>SUFFOLK</td>\n",
       "      <td>1969.00</td>\n",
       "      <td>DUCAT</td>\n",
       "      <td>MCY</td>\n",
       "      <td>GAS</td>\n",
       "      <td>250.00</td>\n",
       "      <td>nan</td>\n",
       "      <td>nan</td>\n",
       "      <td>05/01/2018</td>\n",
       "      <td>04/30/2019</td>\n",
       "      <td>RD</td>\n",
       "      <td>N</td>\n",
       "      <td>N</td>\n",
       "      <td>N</td>\n",
       "    </tr>\n",
       "  </tbody>\n",
       "</table>\n",
       "</div>"
      ],
      "text/plain": [
       "   Record_Type                VIN Registration_Class             City State  \\\n",
       "1         VEH   9999236                          HIS  ROSLYN             NY   \n",
       "10        VEH   9996                             MOT  OLD BROOKVILLE     NY   \n",
       "23        VEH   9992313                          PAS  CAMDEN             NY   \n",
       "37        VEH   99906                            SPC  BROOKLYN           NY   \n",
       "49        VEH   99899                            MOT  WEST BABYLON       NY   \n",
       "\n",
       "      Zip        County  Model_Year   Make Body_Type Fuel_Type  \\\n",
       "1   11576  NASSAU           1937.00  CHRY       4DSD  GAS        \n",
       "10  11545  NASSAU           1951.00  NIMBU      MCY   GAS        \n",
       "23  13316  ONEIDA           1924.00  FORD       CONV  GAS        \n",
       "37  11232  KINGS            2005.00  MANIT      P/SH  PROPANE    \n",
       "49  11704  SUFFOLK          1969.00  DUCAT      MCY   GAS        \n",
       "\n",
       "    Unladen_Weight  Maximum_Gross_Weight  Passengers Reg_Valid_Date  \\\n",
       "1          6300.00                   nan         nan     05/10/2018   \n",
       "10          408.00                   nan         nan     04/07/2018   \n",
       "23         1527.00                   nan         nan     07/12/2017   \n",
       "37         7800.00                   nan         nan     11/21/2018   \n",
       "49          250.00                   nan         nan     05/01/2018   \n",
       "\n",
       "   Reg_Expiration_Date  Color Scofflaw_Indicator Suspension_Indicator  \\\n",
       "1           06/23/2019  BK                     N                    N   \n",
       "10          04/30/2019  DK RD                  N                    N   \n",
       "23          07/06/2019  BK                     N                    N   \n",
       "37          12/31/2019  YW                     N                    N   \n",
       "49          04/30/2019  RD                     N                    N   \n",
       "\n",
       "   Revocation_Indicator  \n",
       "1                     N  \n",
       "10                    N  \n",
       "23                    N  \n",
       "37                    N  \n",
       "49                    N  "
      ]
     },
     "execution_count": 41,
     "metadata": {},
     "output_type": "execute_result"
    }
   ],
   "source": [
    "df2.head()"
   ]
  },
  {
   "cell_type": "code",
   "execution_count": 43,
   "metadata": {},
   "outputs": [],
   "source": [
    "df2['Make_Count'] = df2['Make'].map(df2['Make'].value_counts())"
   ]
  },
  {
   "cell_type": "code",
   "execution_count": 44,
   "metadata": {},
   "outputs": [],
   "source": [
    "df2 = df2[df2['Make_Count'] > 50000]"
   ]
  },
  {
   "cell_type": "code",
   "execution_count": 45,
   "metadata": {},
   "outputs": [],
   "source": [
    "plt_df = (df2\n",
    " .groupby(['Make'])\n",
    " .apply(lambda x: pd.Series(dict(\n",
    "     count = x.shape[0]\n",
    " )))\n",
    " .reset_index()\n",
    ")"
   ]
  },
  {
   "cell_type": "code",
   "execution_count": 46,
   "metadata": {},
   "outputs": [
    {
     "data": {
      "image/png": "[encoded data removed]",
      "text/plain": [
       "<Figure size 640x480 with 1 Axes>"
      ]
     },
     "metadata": {
      "needs_background": "light"
     },
     "output_type": "display_data"
    },
    {
     "data": {
      "text/plain": [
       "<ggplot: (-9223371954400452692)>"
      ]
     },
     "execution_count": 46,
     "metadata": {},
     "output_type": "execute_result"
    }
   ],
   "source": [
    "(ggplot(plt_df, aes(x='Make', y='count', fill='count')) \n",
    " + geom_bar(stat='identity')\n",
    " + coord_flip()\n",
    " + theme_minimal()\n",
    " + ggtitle('Number of Vehicle Makes Sold')\n",
    ")"
   ]
  },
  {
   "cell_type": "markdown",
   "metadata": {},
   "source": [
    "#### Observation:\n",
    "The number of vehicle makes sold correlates with the number of vehicle makes in accidents."
   ]
  },
  {
   "cell_type": "code",
   "execution_count": null,
   "metadata": {},
   "outputs": [],
   "source": []
  },
  {
   "cell_type": "markdown",
   "metadata": {},
   "source": [
    "## Initial Model"
   ]
  },
  {
   "cell_type": "code",
   "execution_count": 15,
   "metadata": {},
   "outputs": [],
   "source": [
    "from sklearn.model_selection import train_test_split"
   ]
  },
  {
   "cell_type": "code",
   "execution_count": null,
   "metadata": {},
   "outputs": [],
   "source": [
    "# drop the event type that is not entered.\n",
    "# new column where not applicable = 0, anything else = 1\n",
    "# sample 30000 rows"
   ]
  },
  {
   "cell_type": "code",
   "execution_count": 16,
   "metadata": {},
   "outputs": [],
   "source": [
    "df = df[df['Event_Type'] != 'Not Entered']"
   ]
  },
  {
   "cell_type": "code",
   "execution_count": 48,
   "metadata": {},
   "outputs": [],
   "source": [
    "diff_dict = {'Not Applicable' : 1, 'Unknown': 0,\n",
    "       'Snow Embankment, Collision With Fixed Object': 0,\n",
    "       'Building/Wall, Collision With Fixed Object': 0,\n",
    "       'Light Support/Utility Pole, Collision With Fixed Object': 0,\n",
    "       'Other Motor Vehicle, Collision With': 0,\n",
    "       'Fence, Collision With Fixed Object': 0, 'Overturned, Non-Collision': 0,\n",
    "       'Tree, Collision With Fixed Object': 0,\n",
    "       'Other Fixed Object*, Collision With Fixed Object': 0,\n",
    "       'Guide Rail - Not At End, Collision With Fixed Object': 0,\n",
    "       'Fire Hydrant, Collision With Fixed Object': 0,\n",
    "       'Sign Post, Collision With Fixed Object': 0,\n",
    "       'Earth Embankment/Rock Cut/Ditch, Collision With Fixed Object': 0,\n",
    "       'Culver/Head Wall, Collision With Fixed Object': 0,\n",
    "       'Other Object (Not Fixed)*, Collision With': 0,\n",
    "       'Other*, Non-Collision': 0,\n",
    "       'Bridge Structure, Collision With Fixed Object': 0,\n",
    "       'Curbing, Collision With Fixed Object': 0,\n",
    "       'Barrier, Collision With Fixed Object': 0,\n",
    "       'Guide Rail - End, Collision With Fixed Object': 0, 'Deer': 0,\n",
    "       'Submersion, Non-Collision': 0,\n",
    "       'Median - Not At End': 0, 'Collision With Fixed Object': 0,\n",
    "       'Pedestrian, Collision With': 0, 'Animal, Collision With': 0,\n",
    "       'Railroad Train, Collision With': 0, 'Other Pedestrian': 0,\n",
    "       'Median - End, Collision With Fixed Object': 0,\n",
    "       'Fire/Explosion, Non-Collision': 0,\n",
    "       'Crash Cushion, Collision With Fixed Object': 0,\n",
    "       'Ran Off Roadway Only': 0, 'Non-Collision': 0, 'Bicyclist, Collision With': 0,\n",
    "       'In-Line Skater, Collision With' : 0}"
   ]
  },
  {
   "cell_type": "code",
   "execution_count": 49,
   "metadata": {},
   "outputs": [],
   "source": [
    "df['Event_Type_Cat'] = df['Event_Type'].map(diff_dict)"
   ]
  },
  {
   "cell_type": "code",
   "execution_count": 54,
   "metadata": {},
   "outputs": [],
   "source": [
    "df = df.dropna()"
   ]
  },
  {
   "cell_type": "code",
   "execution_count": 57,
   "metadata": {},
   "outputs": [],
   "source": [
    "df['Event_Type_Cat'] = df['Event_Type_Cat'].astype(int)"
   ]
  },
  {
   "cell_type": "code",
   "execution_count": 58,
   "metadata": {},
   "outputs": [],
   "source": [
    "# Randomly sample elements from your dataframe\n",
    "df = df.sample(n=30000)"
   ]
  },
  {
   "cell_type": "code",
   "execution_count": 59,
   "metadata": {},
   "outputs": [
    {
     "data": {
      "text/plain": [
       "(30000, 19)"
      ]
     },
     "execution_count": 59,
     "metadata": {},
     "output_type": "execute_result"
    }
   ],
   "source": [
    "df.shape"
   ]
  },
  {
   "cell_type": "markdown",
   "metadata": {},
   "source": [
    "# Classification for Action_Prior_to_Accident"
   ]
  },
  {
   "cell_type": "code",
   "execution_count": 61,
   "metadata": {},
   "outputs": [
    {
     "name": "stderr",
     "output_type": "stream",
     "text": [
      "C:\\Users\\laure\\Anaconda3\\lib\\site-packages\\sklearn\\ensemble\\weight_boosting.py:29: DeprecationWarning: numpy.core.umath_tests is an internal NumPy module and should not be imported. It will be removed in a future NumPy release.\n",
      "  from numpy.core.umath_tests import inner1d\n"
     ]
    }
   ],
   "source": [
    "from sklearn.datasets import make_classification\n",
    "from sklearn.model_selection import GridSearchCV, train_test_split\n",
    "from sklearn.metrics import confusion_matrix\n",
    "from sklearn.linear_model import LogisticRegression\n",
    "from sklearn.ensemble import GradientBoostingClassifier"
   ]
  },
  {
   "cell_type": "code",
   "execution_count": 62,
   "metadata": {},
   "outputs": [
    {
     "data": {
      "text/html": [
       "<div>\n",
       "<style scoped>\n",
       "    .dataframe tbody tr th:only-of-type {\n",
       "        vertical-align: middle;\n",
       "    }\n",
       "\n",
       "    .dataframe tbody tr th {\n",
       "        vertical-align: top;\n",
       "    }\n",
       "\n",
       "    .dataframe thead th {\n",
       "        text-align: right;\n",
       "    }\n",
       "</style>\n",
       "<table border=\"1\" class=\"dataframe\">\n",
       "  <thead>\n",
       "    <tr style=\"text-align: right;\">\n",
       "      <th></th>\n",
       "      <th>Vehicle_Year</th>\n",
       "      <th>Number_of_Occupants</th>\n",
       "      <th>Engine_Cylinders</th>\n",
       "      <th>Vehicle_Body_Type_2 DOOR SEDAN</th>\n",
       "      <th>Vehicle_Body_Type_4 DOOR SEDAN</th>\n",
       "      <th>Vehicle_Body_Type_AMBULANCE</th>\n",
       "      <th>Vehicle_Body_Type_BUS (OMNIBUS)</th>\n",
       "      <th>Vehicle_Body_Type_CONVERTIBLE</th>\n",
       "      <th>Vehicle_Body_Type_CUSTOM</th>\n",
       "      <th>Vehicle_Body_Type_DELIVERY TRUCK</th>\n",
       "      <th>...</th>\n",
       "      <th>Action_Prior_to_Accident_Not Applicable</th>\n",
       "      <th>Action_Prior_to_Accident_Other</th>\n",
       "      <th>Action_Prior_to_Accident_Overtaking/Passing</th>\n",
       "      <th>Action_Prior_to_Accident_Parked</th>\n",
       "      <th>Action_Prior_to_Accident_Police Pursuit</th>\n",
       "      <th>Action_Prior_to_Accident_Slowing or Stopping</th>\n",
       "      <th>Action_Prior_to_Accident_Starting from Parking</th>\n",
       "      <th>Action_Prior_to_Accident_Starting in Traffic</th>\n",
       "      <th>Action_Prior_to_Accident_Stopped in Traffic</th>\n",
       "      <th>Action_Prior_to_Accident_Unknown</th>\n",
       "    </tr>\n",
       "  </thead>\n",
       "  <tbody>\n",
       "    <tr>\n",
       "      <th>280953</th>\n",
       "      <td>2005</td>\n",
       "      <td>1</td>\n",
       "      <td>6</td>\n",
       "      <td>0</td>\n",
       "      <td>0</td>\n",
       "      <td>0</td>\n",
       "      <td>0</td>\n",
       "      <td>0</td>\n",
       "      <td>0</td>\n",
       "      <td>0</td>\n",
       "      <td>...</td>\n",
       "      <td>0</td>\n",
       "      <td>0</td>\n",
       "      <td>0</td>\n",
       "      <td>0</td>\n",
       "      <td>0</td>\n",
       "      <td>0</td>\n",
       "      <td>0</td>\n",
       "      <td>0</td>\n",
       "      <td>0</td>\n",
       "      <td>0</td>\n",
       "    </tr>\n",
       "    <tr>\n",
       "      <th>807802</th>\n",
       "      <td>2005</td>\n",
       "      <td>1</td>\n",
       "      <td>4</td>\n",
       "      <td>0</td>\n",
       "      <td>1</td>\n",
       "      <td>0</td>\n",
       "      <td>0</td>\n",
       "      <td>0</td>\n",
       "      <td>0</td>\n",
       "      <td>0</td>\n",
       "      <td>...</td>\n",
       "      <td>0</td>\n",
       "      <td>0</td>\n",
       "      <td>0</td>\n",
       "      <td>0</td>\n",
       "      <td>0</td>\n",
       "      <td>0</td>\n",
       "      <td>0</td>\n",
       "      <td>0</td>\n",
       "      <td>0</td>\n",
       "      <td>0</td>\n",
       "    </tr>\n",
       "  </tbody>\n",
       "</table>\n",
       "<p>2 rows × 138 columns</p>\n",
       "</div>"
      ],
      "text/plain": [
       "        Vehicle_Year  Number_of_Occupants  Engine_Cylinders  \\\n",
       "280953          2005                    1                 6   \n",
       "807802          2005                    1                 4   \n",
       "\n",
       "        Vehicle_Body_Type_2 DOOR SEDAN  Vehicle_Body_Type_4 DOOR SEDAN  \\\n",
       "280953                               0                               0   \n",
       "807802                               0                               1   \n",
       "\n",
       "        Vehicle_Body_Type_AMBULANCE  Vehicle_Body_Type_BUS (OMNIBUS)  \\\n",
       "280953                            0                                0   \n",
       "807802                            0                                0   \n",
       "\n",
       "        Vehicle_Body_Type_CONVERTIBLE  Vehicle_Body_Type_CUSTOM  \\\n",
       "280953                              0                         0   \n",
       "807802                              0                         0   \n",
       "\n",
       "        Vehicle_Body_Type_DELIVERY TRUCK                ...                 \\\n",
       "280953                                 0                ...                  \n",
       "807802                                 0                ...                  \n",
       "\n",
       "        Action_Prior_to_Accident_Not Applicable  \\\n",
       "280953                                        0   \n",
       "807802                                        0   \n",
       "\n",
       "        Action_Prior_to_Accident_Other  \\\n",
       "280953                               0   \n",
       "807802                               0   \n",
       "\n",
       "        Action_Prior_to_Accident_Overtaking/Passing  \\\n",
       "280953                                            0   \n",
       "807802                                            0   \n",
       "\n",
       "        Action_Prior_to_Accident_Parked  \\\n",
       "280953                                0   \n",
       "807802                                0   \n",
       "\n",
       "        Action_Prior_to_Accident_Police Pursuit  \\\n",
       "280953                                        0   \n",
       "807802                                        0   \n",
       "\n",
       "        Action_Prior_to_Accident_Slowing or Stopping  \\\n",
       "280953                                             0   \n",
       "807802                                             0   \n",
       "\n",
       "        Action_Prior_to_Accident_Starting from Parking  \\\n",
       "280953                                               0   \n",
       "807802                                               0   \n",
       "\n",
       "        Action_Prior_to_Accident_Starting in Traffic  \\\n",
       "280953                                             0   \n",
       "807802                                             0   \n",
       "\n",
       "        Action_Prior_to_Accident_Stopped in Traffic  \\\n",
       "280953                                            0   \n",
       "807802                                            0   \n",
       "\n",
       "        Action_Prior_to_Accident_Unknown  \n",
       "280953                                 0  \n",
       "807802                                 0  \n",
       "\n",
       "[2 rows x 138 columns]"
      ]
     },
     "execution_count": 62,
     "metadata": {},
     "output_type": "execute_result"
    }
   ],
   "source": [
    "X = pd.get_dummies(df[['Vehicle_Body_Type', 'Registration_Class',\n",
    "       'Vehicle_Make', 'Type_/_Axles_of_Truck_or_Bus',\n",
    "       'Direction_of_Travel', 'Fuel_Type', 'Vehicle_Year',\n",
    "       'State_of_Registration', 'Number_of_Occupants', \n",
    "       'Engine_Cylinders', 'Contributing_Factor_1', 'Action_Prior_to_Accident']])\n",
    "X.head(2)"
   ]
  },
  {
   "cell_type": "code",
   "execution_count": 64,
   "metadata": {},
   "outputs": [],
   "source": [
    "# y = pd.get_dummies(df[['Action_Prior_to_Accident']])\n",
    "# y = df['Event_Type'].astype('category').cat.codes\n",
    "y = df['Event_Type_Cat']"
   ]
  },
  {
   "cell_type": "code",
   "execution_count": 65,
   "metadata": {},
   "outputs": [
    {
     "data": {
      "text/plain": [
       "(30000,)"
      ]
     },
     "execution_count": 65,
     "metadata": {},
     "output_type": "execute_result"
    }
   ],
   "source": [
    "y.shape"
   ]
  },
  {
   "cell_type": "code",
   "execution_count": 67,
   "metadata": {},
   "outputs": [],
   "source": [
    "def plot_confusion_matrix(cm, normalize=True, digits=4):\n",
    "    plt_df = (pd.DataFrame(cm)\n",
    "              .reset_index()\n",
    "              .melt(id_vars='index')\n",
    "              .assign(index = lambda d: pd.Categorical(d['index'], d['index'].unique()[::-1], ordered=True),\n",
    "                      variable = lambda d: pd.Categorical(d['variable'], d['variable'].unique(), ordered=True))\n",
    "              .rename(columns={'index':'true label', 'variable':'predicted label'})\n",
    "             )\n",
    "    \n",
    "    if normalize:\n",
    "        plt_df = (plt_df\n",
    "                  .assign(true_total = lambda d: d.groupby('true label')['value'].transform(lambda x: x.sum()))\n",
    "                  .assign(value = lambda d: (d['value'] / d['true_total']).round(digits))\n",
    "                 )\n",
    "        \n",
    "    plt = (ggplot(plt_df, aes(x='predicted label', y='true label'))\n",
    "            + geom_tile(aes(fill='value')) \n",
    "            + geom_text(aes(label='value'))\n",
    "            + theme_minimal()\n",
    "            + scale_fill_gradient(low = \"snow\", high = \"steelblue\")\n",
    "            + theme(legend_title=element_blank())\n",
    "           )\n",
    "    \n",
    "    return plt"
   ]
  },
  {
   "cell_type": "markdown",
   "metadata": {},
   "source": [
    "## Data "
   ]
  },
  {
   "cell_type": "code",
   "execution_count": 68,
   "metadata": {},
   "outputs": [],
   "source": [
    "X_tr, X_te, y_tr, y_te = train_test_split(X, y, test_size=0.25, random_state=0)"
   ]
  },
  {
   "cell_type": "code",
   "execution_count": 69,
   "metadata": {},
   "outputs": [
    {
     "data": {
      "text/plain": [
       "(22500, 138)"
      ]
     },
     "execution_count": 69,
     "metadata": {},
     "output_type": "execute_result"
    }
   ],
   "source": [
    "X_tr.shape"
   ]
  },
  {
   "cell_type": "markdown",
   "metadata": {},
   "source": [
    "## Logistic"
   ]
  },
  {
   "cell_type": "code",
   "execution_count": 70,
   "metadata": {},
   "outputs": [
    {
     "name": "stdout",
     "output_type": "stream",
     "text": [
      "Wall time: 10.9 s\n"
     ]
    }
   ],
   "source": [
    "%%time\n",
    "params = {\n",
    "    'C': np.logspace(-2, 2, num=10)\n",
    "}\n",
    "\n",
    "mod = LogisticRegression()\n",
    "gscv = GridSearchCV(mod, params, cv=5, refit=True, return_train_score=True)\n",
    "with warnings.catch_warnings():\n",
    "    warnings.simplefilter('ignore')\n",
    "    gscv.fit(X_tr, y_tr)"
   ]
  },
  {
   "cell_type": "code",
   "execution_count": 71,
   "metadata": {},
   "outputs": [
    {
     "name": "stdout",
     "output_type": "stream",
     "text": [
      "LogisticRegression(C=0.01, class_weight=None, dual=False, fit_intercept=True,\n",
      "          intercept_scaling=1, max_iter=100, multi_class='ovr', n_jobs=1,\n",
      "          penalty='l2', random_state=None, solver='liblinear', tol=0.0001,\n",
      "          verbose=0, warm_start=False)\n",
      "Train score: 0.8647666675673525\n",
      "Test score: 0.8647555555555556\n"
     ]
    }
   ],
   "source": [
    "print(gscv.best_estimator_)\n",
    "cv_results = pd.DataFrame(gscv.cv_results_)\n",
    "print('Train score:', cv_results.loc[lambda d: d['rank_test_score'] == 1, 'mean_train_score'].values[0])\n",
    "print('Test score:', cv_results.loc[lambda d: d['rank_test_score'] == 1, 'mean_test_score'].values[0])"
   ]
  },
  {
   "cell_type": "code",
   "execution_count": 72,
   "metadata": {},
   "outputs": [
    {
     "data": {
      "image/png": "[encoded data removed]",
      "text/plain": [
       "<Figure size 640x480 with 1 Axes>"
      ]
     },
     "metadata": {
      "needs_background": "light"
     },
     "output_type": "display_data"
    },
    {
     "data": {
      "text/plain": [
       "<ggplot: (93685074696)>"
      ]
     },
     "execution_count": 72,
     "metadata": {},
     "output_type": "execute_result"
    }
   ],
   "source": [
    "pred = gscv.best_estimator_.predict(X_te)\n",
    "cm = confusion_matrix(y_te, pred)\n",
    "plot_confusion_matrix(cm, normalize=False)\n",
    "# 2x2 grid"
   ]
  },
  {
   "cell_type": "markdown",
   "metadata": {},
   "source": [
    "## Gradient Boosting"
   ]
  },
  {
   "cell_type": "code",
   "execution_count": null,
   "metadata": {},
   "outputs": [],
   "source": [
    "%%time\n",
    "params = { \n",
    "    'n_estimators': [50, 100],\n",
    "    'subsample': [0.25, 0.50],\n",
    "    'max_depth' : [2, 4, 6],\n",
    "    'min_samples_split': [50, 100],\n",
    "    'min_samples_leaf': [50, 100]\n",
    "}\n",
    "\n",
    "mod = GradientBoostingClassifier()\n",
    "gscv = GridSearchCV(mod, params, cv=5, refit=True, return_train_score=True)\n",
    "with warnings.catch_warnings():\n",
    "    warnings.simplefilter('ignore')\n",
    "    gscv.fit(X_tr, y_tr)"
   ]
  },
  {
   "cell_type": "code",
   "execution_count": null,
   "metadata": {},
   "outputs": [],
   "source": [
    "print(gscv.best_estimator_.feature_importances_)"
   ]
  },
  {
   "cell_type": "code",
   "execution_count": null,
   "metadata": {},
   "outputs": [],
   "source": [
    "print(gscv.best_estimator_)\n",
    "cv_results = pd.DataFrame(gscv.cv_results_)\n",
    "print('Train score:', cv_results.loc[lambda d: d['rank_test_score'] == 1, 'mean_train_score'].values[0])\n",
    "print('Test score:', cv_results.loc[lambda d: d['rank_test_score'] == 1, 'mean_test_score'].values[0])"
   ]
  },
  {
   "cell_type": "code",
   "execution_count": null,
   "metadata": {},
   "outputs": [],
   "source": [
    "pred = gscv.best_estimator_.predict(X_te)\n",
    "cm = confusion_matrix(y_te, pred)\n",
    "plot_confusion_matrix(cm, normalize=False)"
   ]
  },
  {
   "cell_type": "code",
   "execution_count": null,
   "metadata": {},
   "outputs": [],
   "source": []
  },
  {
   "cell_type": "markdown",
   "metadata": {},
   "source": [
    "# Conclusion"
   ]
  },
  {
   "cell_type": "markdown",
   "metadata": {},
   "source": [
    "Most accidents occur with the following:\n",
    "* One occupant\n",
    "* Going straight ahead\n",
    "* Human error\n",
    "* Newer vehicles (2005-2016)\n",
    "* Vehicle type is a four door sedan or suburban"
   ]
  }
 ],
 "metadata": {
  "kernelspec": {
   "display_name": "Python 3",
   "language": "python",
   "name": "python3"
  },
  "language_info": {
   "codemirror_mode": {
    "name": "ipython",
    "version": 3
   },
   "file_extension": ".py",
   "mimetype": "text/x-python",
   "name": "python",
   "nbconvert_exporter": "python",
   "pygments_lexer": "ipython3",
   "version": "3.7.0"
  }
 },
 "nbformat": 4,
 "nbformat_minor": 2
}
