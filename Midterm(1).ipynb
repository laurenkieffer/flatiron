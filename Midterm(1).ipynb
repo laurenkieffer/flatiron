{
 "cells": [
  {
   "cell_type": "markdown",
   "metadata": {},
   "source": [
    "# Midterm Project\n",
    "\n",
    "For the midterm project you'll get to practice the data science process by trying out a regression problem! You'll then get to compare your model performance to other peers' work on the same dataset as well as work on several other datasets. This will allow you to see new ideas on the same problem as well as nuances of the same technique across different datasets. "
   ]
  },
  {
   "cell_type": "markdown",
   "metadata": {},
   "source": [
    "# Datasets\n",
    "\n",
    "You will take one of the following datasets and apply a standard data science process of exploratory analysis, cleaning and machine learning. This process will be outlined in several large stages. To start, take your dataset, import the data and begin doing some initial exploratory analysis using the tools and techniques we have covered thus far. You will find all three datasets under a folder titled 'Datasets'.\n",
    "\n",
    "\n",
    "* Walmart Sales Forecasting\n",
    "* Estimating NYC Cab Trip Duration\n",
    "* Lego Sets (previously seen)"
   ]
  },
  {
   "cell_type": "markdown",
   "metadata": {},
   "source": [
    "## Project Outline\n",
    "* Load Data\n",
    "* Exploratory Analysis\n",
    "* Initial Model\n",
    "* Evaluation\n",
    "* Feature Engineering\n",
    "* Model 2\n",
    "* Evaluation\n",
    "* Further Investigation/Exploration"
   ]
  },
  {
   "cell_type": "markdown",
   "metadata": {},
   "source": [
    "# Load the Data"
   ]
  },
  {
   "cell_type": "code",
   "execution_count": 1,
   "metadata": {},
   "outputs": [
    {
     "name": "stdout",
     "output_type": "stream",
     "text": [
      "Pandas version: 0.19.2\n"
     ]
    }
   ],
   "source": [
    "#Your code here\n",
    "import pandas as pd\n",
    "import numpy as np\n",
    "print(\"Pandas version: \"+ pd.__version__)\n",
    "\n",
    "data = pd.read_csv(\"Datasets/NYC_Cab_Duration.csv\", index_col=0)"
   ]
  },
  {
   "cell_type": "markdown",
   "metadata": {},
   "source": [
    "# Exploratory Data Analysis"
   ]
  },
  {
   "cell_type": "code",
   "execution_count": 2,
   "metadata": {},
   "outputs": [
    {
     "data": {
      "text/html": [
       "<div>\n",
       "<table border=\"1\" class=\"dataframe\">\n",
       "  <thead>\n",
       "    <tr style=\"text-align: right;\">\n",
       "      <th></th>\n",
       "      <th>id</th>\n",
       "      <th>vendor_id</th>\n",
       "      <th>pickup_datetime</th>\n",
       "      <th>dropoff_datetime</th>\n",
       "      <th>passenger_count</th>\n",
       "      <th>pickup_longitude</th>\n",
       "      <th>pickup_latitude</th>\n",
       "      <th>dropoff_longitude</th>\n",
       "      <th>dropoff_latitude</th>\n",
       "      <th>store_and_fwd_flag</th>\n",
       "      <th>trip_duration</th>\n",
       "    </tr>\n",
       "  </thead>\n",
       "  <tbody>\n",
       "    <tr>\n",
       "      <th>583100</th>\n",
       "      <td>id3879397</td>\n",
       "      <td>1</td>\n",
       "      <td>2016-06-02 17:46:16</td>\n",
       "      <td>2016-06-02 18:22:26</td>\n",
       "      <td>1</td>\n",
       "      <td>-73.990105</td>\n",
       "      <td>40.732841</td>\n",
       "      <td>-73.973244</td>\n",
       "      <td>40.782879</td>\n",
       "      <td>N</td>\n",
       "      <td>2170</td>\n",
       "    </tr>\n",
       "    <tr>\n",
       "      <th>1320440</th>\n",
       "      <td>id0701659</td>\n",
       "      <td>1</td>\n",
       "      <td>2016-03-02 10:07:11</td>\n",
       "      <td>2016-03-02 10:20:39</td>\n",
       "      <td>1</td>\n",
       "      <td>-73.975693</td>\n",
       "      <td>40.759712</td>\n",
       "      <td>-73.988235</td>\n",
       "      <td>40.753986</td>\n",
       "      <td>N</td>\n",
       "      <td>808</td>\n",
       "    </tr>\n",
       "    <tr>\n",
       "      <th>358078</th>\n",
       "      <td>id3093367</td>\n",
       "      <td>2</td>\n",
       "      <td>2016-02-17 17:18:27</td>\n",
       "      <td>2016-02-17 18:21:34</td>\n",
       "      <td>2</td>\n",
       "      <td>-73.781830</td>\n",
       "      <td>40.644772</td>\n",
       "      <td>-73.989960</td>\n",
       "      <td>40.747150</td>\n",
       "      <td>N</td>\n",
       "      <td>3787</td>\n",
       "    </tr>\n",
       "    <tr>\n",
       "      <th>1118733</th>\n",
       "      <td>id0727316</td>\n",
       "      <td>2</td>\n",
       "      <td>2016-03-17 07:30:59</td>\n",
       "      <td>2016-03-17 07:42:18</td>\n",
       "      <td>1</td>\n",
       "      <td>-73.956200</td>\n",
       "      <td>40.778713</td>\n",
       "      <td>-73.976463</td>\n",
       "      <td>40.739731</td>\n",
       "      <td>N</td>\n",
       "      <td>679</td>\n",
       "    </tr>\n",
       "    <tr>\n",
       "      <th>110409</th>\n",
       "      <td>id2137873</td>\n",
       "      <td>2</td>\n",
       "      <td>2016-04-20 17:15:26</td>\n",
       "      <td>2016-04-20 18:01:57</td>\n",
       "      <td>6</td>\n",
       "      <td>-73.789513</td>\n",
       "      <td>40.646938</td>\n",
       "      <td>-73.951851</td>\n",
       "      <td>40.809151</td>\n",
       "      <td>N</td>\n",
       "      <td>2791</td>\n",
       "    </tr>\n",
       "  </tbody>\n",
       "</table>\n",
       "</div>"
      ],
      "text/plain": [
       "                id  vendor_id      pickup_datetime     dropoff_datetime  \\\n",
       "583100   id3879397          1  2016-06-02 17:46:16  2016-06-02 18:22:26   \n",
       "1320440  id0701659          1  2016-03-02 10:07:11  2016-03-02 10:20:39   \n",
       "358078   id3093367          2  2016-02-17 17:18:27  2016-02-17 18:21:34   \n",
       "1118733  id0727316          2  2016-03-17 07:30:59  2016-03-17 07:42:18   \n",
       "110409   id2137873          2  2016-04-20 17:15:26  2016-04-20 18:01:57   \n",
       "\n",
       "         passenger_count  pickup_longitude  pickup_latitude  \\\n",
       "583100                 1        -73.990105        40.732841   \n",
       "1320440                1        -73.975693        40.759712   \n",
       "358078                 2        -73.781830        40.644772   \n",
       "1118733                1        -73.956200        40.778713   \n",
       "110409                 6        -73.789513        40.646938   \n",
       "\n",
       "         dropoff_longitude  dropoff_latitude store_and_fwd_flag  trip_duration  \n",
       "583100          -73.973244         40.782879                  N           2170  \n",
       "1320440         -73.988235         40.753986                  N            808  \n",
       "358078          -73.989960         40.747150                  N           3787  \n",
       "1118733         -73.976463         40.739731                  N            679  \n",
       "110409          -73.951851         40.809151                  N           2791  "
      ]
     },
     "execution_count": 2,
     "metadata": {},
     "output_type": "execute_result"
    }
   ],
   "source": [
    "# Preivew dataset\n",
    "data.head()"
   ]
  },
  {
   "cell_type": "code",
   "execution_count": 3,
   "metadata": {},
   "outputs": [],
   "source": [
    "# Pandas documentation: https://pandas.pydata.org/pandas-docs/version/0.19.2/generated/pandas.to_datetime.html?highlight=datetime#pandas.to_datetime\n",
    "\n",
    "# Convert pickup_datetime and dropoff_datetime to datetime object\n",
    "data['pickup_datetime'] = pd.to_datetime(data.pickup_datetime, format = '%Y-%m-%d %H:%M:%S')\n",
    "data['dropoff_datetime'] = pd.to_datetime(data.dropoff_datetime, format = '%Y-%m-%d %H:%M:%S')\n",
    "\n",
    "data['vendor_id'] = data['vendor_id'].astype(object)"
   ]
  },
  {
   "cell_type": "code",
   "execution_count": null,
   "metadata": {
    "collapsed": true
   },
   "outputs": [],
   "source": []
  },
  {
   "cell_type": "code",
   "execution_count": 4,
   "metadata": {},
   "outputs": [
    {
     "name": "stdout",
     "output_type": "stream",
     "text": [
      "Rows / Columns:  (583458, 11)\n"
     ]
    }
   ],
   "source": [
    "print(\"Rows / Columns: \", data.shape)"
   ]
  },
  {
   "cell_type": "code",
   "execution_count": 5,
   "metadata": {},
   "outputs": [
    {
     "data": {
      "text/html": [
       "<div>\n",
       "<table border=\"1\" class=\"dataframe\">\n",
       "  <thead>\n",
       "    <tr style=\"text-align: right;\">\n",
       "      <th></th>\n",
       "      <th>id</th>\n",
       "      <th>vendor_id</th>\n",
       "      <th>pickup_datetime</th>\n",
       "      <th>dropoff_datetime</th>\n",
       "      <th>passenger_count</th>\n",
       "      <th>pickup_longitude</th>\n",
       "      <th>pickup_latitude</th>\n",
       "      <th>dropoff_longitude</th>\n",
       "      <th>dropoff_latitude</th>\n",
       "      <th>store_and_fwd_flag</th>\n",
       "      <th>trip_duration</th>\n",
       "    </tr>\n",
       "  </thead>\n",
       "  <tbody>\n",
       "    <tr>\n",
       "      <th>count</th>\n",
       "      <td>583458</td>\n",
       "      <td>583458.00</td>\n",
       "      <td>583458</td>\n",
       "      <td>583458</td>\n",
       "      <td>583458.00</td>\n",
       "      <td>583458.00</td>\n",
       "      <td>583458.00</td>\n",
       "      <td>583458.00</td>\n",
       "      <td>583458.00</td>\n",
       "      <td>583458</td>\n",
       "      <td>583458.00</td>\n",
       "    </tr>\n",
       "    <tr>\n",
       "      <th>unique</th>\n",
       "      <td>583458</td>\n",
       "      <td>2.00</td>\n",
       "      <td>570544</td>\n",
       "      <td>570564</td>\n",
       "      <td>nan</td>\n",
       "      <td>nan</td>\n",
       "      <td>nan</td>\n",
       "      <td>nan</td>\n",
       "      <td>nan</td>\n",
       "      <td>2</td>\n",
       "      <td>nan</td>\n",
       "    </tr>\n",
       "    <tr>\n",
       "      <th>top</th>\n",
       "      <td>id3898669</td>\n",
       "      <td>2.00</td>\n",
       "      <td>2016-02-12 20:29:36</td>\n",
       "      <td>2016-05-01 11:26:45</td>\n",
       "      <td>nan</td>\n",
       "      <td>nan</td>\n",
       "      <td>nan</td>\n",
       "      <td>nan</td>\n",
       "      <td>nan</td>\n",
       "      <td>N</td>\n",
       "      <td>nan</td>\n",
       "    </tr>\n",
       "    <tr>\n",
       "      <th>freq</th>\n",
       "      <td>1</td>\n",
       "      <td>312326.00</td>\n",
       "      <td>4</td>\n",
       "      <td>4</td>\n",
       "      <td>nan</td>\n",
       "      <td>nan</td>\n",
       "      <td>nan</td>\n",
       "      <td>nan</td>\n",
       "      <td>nan</td>\n",
       "      <td>580186</td>\n",
       "      <td>nan</td>\n",
       "    </tr>\n",
       "    <tr>\n",
       "      <th>first</th>\n",
       "      <td>NaN</td>\n",
       "      <td>nan</td>\n",
       "      <td>2016-01-01 00:01:14</td>\n",
       "      <td>2016-01-01 00:03:31</td>\n",
       "      <td>nan</td>\n",
       "      <td>nan</td>\n",
       "      <td>nan</td>\n",
       "      <td>nan</td>\n",
       "      <td>nan</td>\n",
       "      <td>NaN</td>\n",
       "      <td>nan</td>\n",
       "    </tr>\n",
       "    <tr>\n",
       "      <th>last</th>\n",
       "      <td>NaN</td>\n",
       "      <td>nan</td>\n",
       "      <td>2016-06-30 23:58:25</td>\n",
       "      <td>2016-07-01 13:26:40</td>\n",
       "      <td>nan</td>\n",
       "      <td>nan</td>\n",
       "      <td>nan</td>\n",
       "      <td>nan</td>\n",
       "      <td>nan</td>\n",
       "      <td>NaN</td>\n",
       "      <td>nan</td>\n",
       "    </tr>\n",
       "    <tr>\n",
       "      <th>mean</th>\n",
       "      <td>NaN</td>\n",
       "      <td>nan</td>\n",
       "      <td>NaN</td>\n",
       "      <td>NaN</td>\n",
       "      <td>1.67</td>\n",
       "      <td>-73.97</td>\n",
       "      <td>40.75</td>\n",
       "      <td>-73.97</td>\n",
       "      <td>40.75</td>\n",
       "      <td>NaN</td>\n",
       "      <td>962.29</td>\n",
       "    </tr>\n",
       "    <tr>\n",
       "      <th>std</th>\n",
       "      <td>NaN</td>\n",
       "      <td>nan</td>\n",
       "      <td>NaN</td>\n",
       "      <td>NaN</td>\n",
       "      <td>1.32</td>\n",
       "      <td>0.10</td>\n",
       "      <td>0.03</td>\n",
       "      <td>0.10</td>\n",
       "      <td>0.04</td>\n",
       "      <td>NaN</td>\n",
       "      <td>6151.28</td>\n",
       "    </tr>\n",
       "    <tr>\n",
       "      <th>min</th>\n",
       "      <td>NaN</td>\n",
       "      <td>nan</td>\n",
       "      <td>NaN</td>\n",
       "      <td>NaN</td>\n",
       "      <td>0.00</td>\n",
       "      <td>-121.93</td>\n",
       "      <td>34.36</td>\n",
       "      <td>-121.93</td>\n",
       "      <td>34.36</td>\n",
       "      <td>NaN</td>\n",
       "      <td>1.00</td>\n",
       "    </tr>\n",
       "    <tr>\n",
       "      <th>25%</th>\n",
       "      <td>NaN</td>\n",
       "      <td>nan</td>\n",
       "      <td>NaN</td>\n",
       "      <td>NaN</td>\n",
       "      <td>1.00</td>\n",
       "      <td>-73.99</td>\n",
       "      <td>40.74</td>\n",
       "      <td>-73.99</td>\n",
       "      <td>40.74</td>\n",
       "      <td>NaN</td>\n",
       "      <td>396.00</td>\n",
       "    </tr>\n",
       "    <tr>\n",
       "      <th>50%</th>\n",
       "      <td>NaN</td>\n",
       "      <td>nan</td>\n",
       "      <td>NaN</td>\n",
       "      <td>NaN</td>\n",
       "      <td>1.00</td>\n",
       "      <td>-73.98</td>\n",
       "      <td>40.75</td>\n",
       "      <td>-73.98</td>\n",
       "      <td>40.75</td>\n",
       "      <td>NaN</td>\n",
       "      <td>661.00</td>\n",
       "    </tr>\n",
       "    <tr>\n",
       "      <th>75%</th>\n",
       "      <td>NaN</td>\n",
       "      <td>nan</td>\n",
       "      <td>NaN</td>\n",
       "      <td>NaN</td>\n",
       "      <td>2.00</td>\n",
       "      <td>-73.97</td>\n",
       "      <td>40.77</td>\n",
       "      <td>-73.96</td>\n",
       "      <td>40.77</td>\n",
       "      <td>NaN</td>\n",
       "      <td>1074.00</td>\n",
       "    </tr>\n",
       "    <tr>\n",
       "      <th>max</th>\n",
       "      <td>NaN</td>\n",
       "      <td>nan</td>\n",
       "      <td>NaN</td>\n",
       "      <td>NaN</td>\n",
       "      <td>9.00</td>\n",
       "      <td>-65.85</td>\n",
       "      <td>43.02</td>\n",
       "      <td>-65.85</td>\n",
       "      <td>43.67</td>\n",
       "      <td>NaN</td>\n",
       "      <td>3526282.00</td>\n",
       "    </tr>\n",
       "  </tbody>\n",
       "</table>\n",
       "</div>"
      ],
      "text/plain": [
       "               id  vendor_id      pickup_datetime     dropoff_datetime  \\\n",
       "count      583458  583458.00               583458               583458   \n",
       "unique     583458       2.00               570544               570564   \n",
       "top     id3898669       2.00  2016-02-12 20:29:36  2016-05-01 11:26:45   \n",
       "freq            1  312326.00                    4                    4   \n",
       "first         NaN        nan  2016-01-01 00:01:14  2016-01-01 00:03:31   \n",
       "last          NaN        nan  2016-06-30 23:58:25  2016-07-01 13:26:40   \n",
       "mean          NaN        nan                  NaN                  NaN   \n",
       "std           NaN        nan                  NaN                  NaN   \n",
       "min           NaN        nan                  NaN                  NaN   \n",
       "25%           NaN        nan                  NaN                  NaN   \n",
       "50%           NaN        nan                  NaN                  NaN   \n",
       "75%           NaN        nan                  NaN                  NaN   \n",
       "max           NaN        nan                  NaN                  NaN   \n",
       "\n",
       "        passenger_count  pickup_longitude  pickup_latitude  dropoff_longitude  \\\n",
       "count         583458.00         583458.00        583458.00          583458.00   \n",
       "unique              nan               nan              nan                nan   \n",
       "top                 nan               nan              nan                nan   \n",
       "freq                nan               nan              nan                nan   \n",
       "first               nan               nan              nan                nan   \n",
       "last                nan               nan              nan                nan   \n",
       "mean               1.67            -73.97            40.75             -73.97   \n",
       "std                1.32              0.10             0.03               0.10   \n",
       "min                0.00           -121.93            34.36            -121.93   \n",
       "25%                1.00            -73.99            40.74             -73.99   \n",
       "50%                1.00            -73.98            40.75             -73.98   \n",
       "75%                2.00            -73.97            40.77             -73.96   \n",
       "max                9.00            -65.85            43.02             -65.85   \n",
       "\n",
       "        dropoff_latitude store_and_fwd_flag  trip_duration  \n",
       "count          583458.00             583458      583458.00  \n",
       "unique               nan                  2            nan  \n",
       "top                  nan                  N            nan  \n",
       "freq                 nan             580186            nan  \n",
       "first                nan                NaN            nan  \n",
       "last                 nan                NaN            nan  \n",
       "mean               40.75                NaN         962.29  \n",
       "std                 0.04                NaN        6151.28  \n",
       "min                34.36                NaN           1.00  \n",
       "25%                40.74                NaN         396.00  \n",
       "50%                40.75                NaN         661.00  \n",
       "75%                40.77                NaN        1074.00  \n",
       "max                43.67                NaN     3526282.00  "
      ]
     },
     "execution_count": 5,
     "metadata": {},
     "output_type": "execute_result"
    }
   ],
   "source": [
    "#Easier to read pandas numbers without scientific notation\n",
    "pd.options.display.float_format = '{:.2f}'.format \n",
    "\n",
    "# Show quick description of the dataset\n",
    "data.describe(include='all')"
   ]
  },
  {
   "cell_type": "markdown",
   "metadata": {},
   "source": [
    "**Observations**\n",
    "\n",
    " - Trip duration: There is a minimum of 1 second in the dataset. There needs to be more investigation of these records.\n",
    " - Trip duration: At least on trip lasted over 350,000 seconds  There needs to be more investigation of higher range records.\n",
    " \n",
    " - Pickup datetime / Dropoff datetime: The data covers the first 6-7 months of 2016.\n",
    " - ID: The ids are unique to each record: count and unique-ness are the same. idsshould not be used in modeling.\n",
    " - Vendor ID: Are either 1 or 2. Seen in the data preview and there are 2 unique values.\n",
    " \n",
    " - The \"count\" for all attributes are the same, so there is no clear missing data in this dataset at first glance.\n",
    " \n",
    " - Passenger count: Maximum is 9. It is more common to have 1 passenger as seen in the 25% ans 50% quantiles.\n",
    " - Passenger count: Minimum is 0. This does not make sense and can be outliers to be deleted.\n",
    " \n",
    " - The latitude and longitude should be further investigated check maximum and minimums."
   ]
  },
  {
   "cell_type": "code",
   "execution_count": 6,
   "metadata": {},
   "outputs": [
    {
     "name": "stdout",
     "output_type": "stream",
     "text": [
      "Seaborn version: 0.7.1\n"
     ]
    }
   ],
   "source": [
    "import matplotlib.pyplot as plt\n",
    "import seaborn as sns\n",
    "\n",
    "%matplotlib inline\n",
    "print(\"Seaborn version: \" + sns.__version__)"
   ]
  },
  {
   "cell_type": "code",
   "execution_count": 7,
   "metadata": {},
   "outputs": [
    {
     "data": {
      "image/png": "[encoded data removed]",
      "text/plain": [
       "<matplotlib.figure.Figure at 0x7f2cd3c1b748>"
      ]
     },
     "metadata": {},
     "output_type": "display_data"
    }
   ],
   "source": [
    "# Investigate passenger counts\n",
    "\n",
    "# ELIMINATE OUTLIERS\n",
    "data = data[ data['passenger_count'] >=1 ]\n",
    "\n",
    "plt.figure(figsize=(12,6))\n",
    "plt.title(\"Passenger Counts\")\n",
    "ax = sns.countplot(x = 'passenger_count', data = data )"
   ]
  },
  {
   "cell_type": "markdown",
   "metadata": {
    "collapsed": true
   },
   "source": [
    "**Observations**\n",
    " - Passenger counts: Most rides tend to have 1 passenger."
   ]
  },
  {
   "cell_type": "code",
   "execution_count": 9,
   "metadata": {
    "scrolled": true
   },
   "outputs": [
    {
     "data": {
      "image/png": "[encoded data removed]",
      "text/plain": [
       "<matplotlib.figure.Figure at 0x7f0e38c01390>"
      ]
     },
     "metadata": {},
     "output_type": "display_data"
    }
   ],
   "source": [
    "# Investigate trip duration - too many trip_duration values\n",
    "\n",
    "plt.figure(figsize=(15,6))\n",
    "ax = sns.countplot(x = 'trip_duration', data = data)"
   ]
  },
  {
   "cell_type": "code",
   "execution_count": 8,
   "metadata": {
    "scrolled": true
   },
   "outputs": [
    {
     "data": {
      "text/plain": [
       "1            9\n",
       "2           75\n",
       "3          138\n",
       "4          136\n",
       "5          121\n",
       "6           66\n",
       "7           85\n",
       "8           77\n",
       "9           87\n",
       "10          63\n",
       "11          70\n",
       "12          56\n",
       "13          65\n",
       "14          77\n",
       "15          68\n",
       "16          53\n",
       "17          62\n",
       "18          56\n",
       "19          64\n",
       "20          51\n",
       "21          49\n",
       "22          43\n",
       "23          58\n",
       "24          56\n",
       "25          54\n",
       "26          47\n",
       "27          48\n",
       "28          53\n",
       "29          55\n",
       "30          54\n",
       "          ... \n",
       "86341        2\n",
       "86342        2\n",
       "86343        2\n",
       "86344        4\n",
       "86345        3\n",
       "86346        4\n",
       "86348        1\n",
       "86349        1\n",
       "86350        1\n",
       "86351        1\n",
       "86352        1\n",
       "86353        2\n",
       "86354        1\n",
       "86355        1\n",
       "86356        1\n",
       "86357        1\n",
       "86358        1\n",
       "86360        1\n",
       "86361        1\n",
       "86362        3\n",
       "86365        1\n",
       "86366        1\n",
       "86367        1\n",
       "86369        1\n",
       "86377        2\n",
       "86379        1\n",
       "86391        1\n",
       "86392        1\n",
       "1939736      1\n",
       "3526282      1\n",
       "Name: trip_duration, dtype: int64"
      ]
     },
     "execution_count": 8,
     "metadata": {},
     "output_type": "execute_result"
    }
   ],
   "source": [
    "data['trip_duration'].value_counts().sort_index()"
   ]
  },
  {
   "cell_type": "code",
   "execution_count": 9,
   "metadata": {
    "scrolled": true
   },
   "outputs": [
    {
     "data": {
      "text/html": [
       "<div>\n",
       "<table border=\"1\" class=\"dataframe\">\n",
       "  <thead>\n",
       "    <tr style=\"text-align: right;\">\n",
       "      <th></th>\n",
       "      <th>id</th>\n",
       "      <th>vendor_id</th>\n",
       "      <th>pickup_datetime</th>\n",
       "      <th>dropoff_datetime</th>\n",
       "      <th>passenger_count</th>\n",
       "      <th>pickup_longitude</th>\n",
       "      <th>pickup_latitude</th>\n",
       "      <th>dropoff_longitude</th>\n",
       "      <th>dropoff_latitude</th>\n",
       "      <th>store_and_fwd_flag</th>\n",
       "      <th>trip_duration</th>\n",
       "    </tr>\n",
       "  </thead>\n",
       "  <tbody>\n",
       "    <tr>\n",
       "      <th>1222838</th>\n",
       "      <td>id0085113</td>\n",
       "      <td>2</td>\n",
       "      <td>2016-05-22 08:19:50</td>\n",
       "      <td>2016-05-22 08:20:50</td>\n",
       "      <td>1</td>\n",
       "      <td>-73.79</td>\n",
       "      <td>40.64</td>\n",
       "      <td>-73.79</td>\n",
       "      <td>40.64</td>\n",
       "      <td>N</td>\n",
       "      <td>60</td>\n",
       "    </tr>\n",
       "    <tr>\n",
       "      <th>504157</th>\n",
       "      <td>id0078682</td>\n",
       "      <td>2</td>\n",
       "      <td>2016-03-16 13:41:09</td>\n",
       "      <td>2016-03-16 13:42:09</td>\n",
       "      <td>1</td>\n",
       "      <td>-73.96</td>\n",
       "      <td>40.80</td>\n",
       "      <td>-73.96</td>\n",
       "      <td>40.80</td>\n",
       "      <td>N</td>\n",
       "      <td>60</td>\n",
       "    </tr>\n",
       "    <tr>\n",
       "      <th>9943</th>\n",
       "      <td>id3819108</td>\n",
       "      <td>1</td>\n",
       "      <td>2016-06-08 12:06:42</td>\n",
       "      <td>2016-06-08 12:07:42</td>\n",
       "      <td>1</td>\n",
       "      <td>-73.87</td>\n",
       "      <td>40.77</td>\n",
       "      <td>-73.87</td>\n",
       "      <td>40.77</td>\n",
       "      <td>N</td>\n",
       "      <td>60</td>\n",
       "    </tr>\n",
       "    <tr>\n",
       "      <th>1071181</th>\n",
       "      <td>id1258199</td>\n",
       "      <td>2</td>\n",
       "      <td>2016-02-20 09:29:09</td>\n",
       "      <td>2016-02-20 09:30:09</td>\n",
       "      <td>2</td>\n",
       "      <td>-73.99</td>\n",
       "      <td>40.77</td>\n",
       "      <td>-73.99</td>\n",
       "      <td>40.77</td>\n",
       "      <td>N</td>\n",
       "      <td>60</td>\n",
       "    </tr>\n",
       "    <tr>\n",
       "      <th>704907</th>\n",
       "      <td>id2948189</td>\n",
       "      <td>2</td>\n",
       "      <td>2016-03-29 19:26:25</td>\n",
       "      <td>2016-03-29 19:27:25</td>\n",
       "      <td>6</td>\n",
       "      <td>-73.96</td>\n",
       "      <td>40.78</td>\n",
       "      <td>-73.96</td>\n",
       "      <td>40.77</td>\n",
       "      <td>N</td>\n",
       "      <td>60</td>\n",
       "    </tr>\n",
       "    <tr>\n",
       "      <th>1394080</th>\n",
       "      <td>id0725926</td>\n",
       "      <td>1</td>\n",
       "      <td>2016-01-21 05:53:33</td>\n",
       "      <td>2016-01-21 05:54:33</td>\n",
       "      <td>1</td>\n",
       "      <td>-73.98</td>\n",
       "      <td>40.76</td>\n",
       "      <td>-73.98</td>\n",
       "      <td>40.76</td>\n",
       "      <td>N</td>\n",
       "      <td>60</td>\n",
       "    </tr>\n",
       "    <tr>\n",
       "      <th>764540</th>\n",
       "      <td>id3675122</td>\n",
       "      <td>1</td>\n",
       "      <td>2016-03-29 17:12:15</td>\n",
       "      <td>2016-03-29 17:13:15</td>\n",
       "      <td>1</td>\n",
       "      <td>-73.98</td>\n",
       "      <td>40.78</td>\n",
       "      <td>-73.98</td>\n",
       "      <td>40.77</td>\n",
       "      <td>N</td>\n",
       "      <td>60</td>\n",
       "    </tr>\n",
       "    <tr>\n",
       "      <th>1420927</th>\n",
       "      <td>id0092050</td>\n",
       "      <td>1</td>\n",
       "      <td>2016-04-20 05:48:43</td>\n",
       "      <td>2016-04-20 05:49:43</td>\n",
       "      <td>1</td>\n",
       "      <td>-73.95</td>\n",
       "      <td>40.78</td>\n",
       "      <td>-73.94</td>\n",
       "      <td>40.79</td>\n",
       "      <td>N</td>\n",
       "      <td>60</td>\n",
       "    </tr>\n",
       "    <tr>\n",
       "      <th>342506</th>\n",
       "      <td>id0516289</td>\n",
       "      <td>2</td>\n",
       "      <td>2016-05-12 22:34:39</td>\n",
       "      <td>2016-05-12 22:35:39</td>\n",
       "      <td>5</td>\n",
       "      <td>-73.99</td>\n",
       "      <td>40.75</td>\n",
       "      <td>-73.99</td>\n",
       "      <td>40.75</td>\n",
       "      <td>N</td>\n",
       "      <td>60</td>\n",
       "    </tr>\n",
       "    <tr>\n",
       "      <th>417141</th>\n",
       "      <td>id2264192</td>\n",
       "      <td>2</td>\n",
       "      <td>2016-04-04 15:47:01</td>\n",
       "      <td>2016-04-04 15:48:01</td>\n",
       "      <td>5</td>\n",
       "      <td>-74.00</td>\n",
       "      <td>40.73</td>\n",
       "      <td>-74.00</td>\n",
       "      <td>40.73</td>\n",
       "      <td>N</td>\n",
       "      <td>60</td>\n",
       "    </tr>\n",
       "    <tr>\n",
       "      <th>823227</th>\n",
       "      <td>id0273770</td>\n",
       "      <td>2</td>\n",
       "      <td>2016-01-31 05:30:24</td>\n",
       "      <td>2016-01-31 05:31:24</td>\n",
       "      <td>3</td>\n",
       "      <td>-74.00</td>\n",
       "      <td>40.74</td>\n",
       "      <td>-73.99</td>\n",
       "      <td>40.74</td>\n",
       "      <td>N</td>\n",
       "      <td>60</td>\n",
       "    </tr>\n",
       "    <tr>\n",
       "      <th>1025069</th>\n",
       "      <td>id1806237</td>\n",
       "      <td>1</td>\n",
       "      <td>2016-04-06 14:36:43</td>\n",
       "      <td>2016-04-06 14:37:43</td>\n",
       "      <td>1</td>\n",
       "      <td>-73.96</td>\n",
       "      <td>40.78</td>\n",
       "      <td>-73.96</td>\n",
       "      <td>40.78</td>\n",
       "      <td>N</td>\n",
       "      <td>60</td>\n",
       "    </tr>\n",
       "    <tr>\n",
       "      <th>437504</th>\n",
       "      <td>id0419494</td>\n",
       "      <td>1</td>\n",
       "      <td>2016-03-29 00:51:58</td>\n",
       "      <td>2016-03-29 00:52:58</td>\n",
       "      <td>1</td>\n",
       "      <td>-73.99</td>\n",
       "      <td>40.75</td>\n",
       "      <td>-73.99</td>\n",
       "      <td>40.75</td>\n",
       "      <td>N</td>\n",
       "      <td>60</td>\n",
       "    </tr>\n",
       "    <tr>\n",
       "      <th>974380</th>\n",
       "      <td>id2960213</td>\n",
       "      <td>1</td>\n",
       "      <td>2016-03-20 09:30:01</td>\n",
       "      <td>2016-03-20 09:31:01</td>\n",
       "      <td>1</td>\n",
       "      <td>-74.00</td>\n",
       "      <td>40.66</td>\n",
       "      <td>-73.99</td>\n",
       "      <td>40.67</td>\n",
       "      <td>N</td>\n",
       "      <td>60</td>\n",
       "    </tr>\n",
       "    <tr>\n",
       "      <th>93002</th>\n",
       "      <td>id0224967</td>\n",
       "      <td>1</td>\n",
       "      <td>2016-06-15 17:34:46</td>\n",
       "      <td>2016-06-15 17:35:46</td>\n",
       "      <td>1</td>\n",
       "      <td>-73.95</td>\n",
       "      <td>40.75</td>\n",
       "      <td>-73.95</td>\n",
       "      <td>40.75</td>\n",
       "      <td>N</td>\n",
       "      <td>60</td>\n",
       "    </tr>\n",
       "    <tr>\n",
       "      <th>460136</th>\n",
       "      <td>id0646532</td>\n",
       "      <td>1</td>\n",
       "      <td>2016-06-13 07:51:28</td>\n",
       "      <td>2016-06-13 07:52:28</td>\n",
       "      <td>1</td>\n",
       "      <td>-73.99</td>\n",
       "      <td>40.75</td>\n",
       "      <td>-74.00</td>\n",
       "      <td>40.74</td>\n",
       "      <td>N</td>\n",
       "      <td>60</td>\n",
       "    </tr>\n",
       "    <tr>\n",
       "      <th>1242118</th>\n",
       "      <td>id1013478</td>\n",
       "      <td>2</td>\n",
       "      <td>2016-06-02 08:59:35</td>\n",
       "      <td>2016-06-02 09:00:35</td>\n",
       "      <td>1</td>\n",
       "      <td>-73.97</td>\n",
       "      <td>40.77</td>\n",
       "      <td>-73.97</td>\n",
       "      <td>40.77</td>\n",
       "      <td>N</td>\n",
       "      <td>60</td>\n",
       "    </tr>\n",
       "    <tr>\n",
       "      <th>1174088</th>\n",
       "      <td>id0077537</td>\n",
       "      <td>1</td>\n",
       "      <td>2016-02-13 00:54:38</td>\n",
       "      <td>2016-02-13 00:55:38</td>\n",
       "      <td>1</td>\n",
       "      <td>-73.96</td>\n",
       "      <td>40.80</td>\n",
       "      <td>-73.96</td>\n",
       "      <td>40.81</td>\n",
       "      <td>N</td>\n",
       "      <td>60</td>\n",
       "    </tr>\n",
       "    <tr>\n",
       "      <th>1444018</th>\n",
       "      <td>id0723050</td>\n",
       "      <td>2</td>\n",
       "      <td>2016-06-07 02:09:53</td>\n",
       "      <td>2016-06-07 02:10:53</td>\n",
       "      <td>1</td>\n",
       "      <td>-73.99</td>\n",
       "      <td>40.75</td>\n",
       "      <td>-74.00</td>\n",
       "      <td>40.75</td>\n",
       "      <td>N</td>\n",
       "      <td>60</td>\n",
       "    </tr>\n",
       "    <tr>\n",
       "      <th>1384315</th>\n",
       "      <td>id1974205</td>\n",
       "      <td>2</td>\n",
       "      <td>2016-01-07 13:52:00</td>\n",
       "      <td>2016-01-07 13:53:00</td>\n",
       "      <td>1</td>\n",
       "      <td>-73.94</td>\n",
       "      <td>40.77</td>\n",
       "      <td>-73.94</td>\n",
       "      <td>40.77</td>\n",
       "      <td>N</td>\n",
       "      <td>60</td>\n",
       "    </tr>\n",
       "  </tbody>\n",
       "</table>\n",
       "</div>"
      ],
      "text/plain": [
       "                id vendor_id     pickup_datetime    dropoff_datetime  \\\n",
       "1222838  id0085113         2 2016-05-22 08:19:50 2016-05-22 08:20:50   \n",
       "504157   id0078682         2 2016-03-16 13:41:09 2016-03-16 13:42:09   \n",
       "9943     id3819108         1 2016-06-08 12:06:42 2016-06-08 12:07:42   \n",
       "1071181  id1258199         2 2016-02-20 09:29:09 2016-02-20 09:30:09   \n",
       "704907   id2948189         2 2016-03-29 19:26:25 2016-03-29 19:27:25   \n",
       "1394080  id0725926         1 2016-01-21 05:53:33 2016-01-21 05:54:33   \n",
       "764540   id3675122         1 2016-03-29 17:12:15 2016-03-29 17:13:15   \n",
       "1420927  id0092050         1 2016-04-20 05:48:43 2016-04-20 05:49:43   \n",
       "342506   id0516289         2 2016-05-12 22:34:39 2016-05-12 22:35:39   \n",
       "417141   id2264192         2 2016-04-04 15:47:01 2016-04-04 15:48:01   \n",
       "823227   id0273770         2 2016-01-31 05:30:24 2016-01-31 05:31:24   \n",
       "1025069  id1806237         1 2016-04-06 14:36:43 2016-04-06 14:37:43   \n",
       "437504   id0419494         1 2016-03-29 00:51:58 2016-03-29 00:52:58   \n",
       "974380   id2960213         1 2016-03-20 09:30:01 2016-03-20 09:31:01   \n",
       "93002    id0224967         1 2016-06-15 17:34:46 2016-06-15 17:35:46   \n",
       "460136   id0646532         1 2016-06-13 07:51:28 2016-06-13 07:52:28   \n",
       "1242118  id1013478         2 2016-06-02 08:59:35 2016-06-02 09:00:35   \n",
       "1174088  id0077537         1 2016-02-13 00:54:38 2016-02-13 00:55:38   \n",
       "1444018  id0723050         2 2016-06-07 02:09:53 2016-06-07 02:10:53   \n",
       "1384315  id1974205         2 2016-01-07 13:52:00 2016-01-07 13:53:00   \n",
       "\n",
       "         passenger_count  pickup_longitude  pickup_latitude  \\\n",
       "1222838                1            -73.79            40.64   \n",
       "504157                 1            -73.96            40.80   \n",
       "9943                   1            -73.87            40.77   \n",
       "1071181                2            -73.99            40.77   \n",
       "704907                 6            -73.96            40.78   \n",
       "1394080                1            -73.98            40.76   \n",
       "764540                 1            -73.98            40.78   \n",
       "1420927                1            -73.95            40.78   \n",
       "342506                 5            -73.99            40.75   \n",
       "417141                 5            -74.00            40.73   \n",
       "823227                 3            -74.00            40.74   \n",
       "1025069                1            -73.96            40.78   \n",
       "437504                 1            -73.99            40.75   \n",
       "974380                 1            -74.00            40.66   \n",
       "93002                  1            -73.95            40.75   \n",
       "460136                 1            -73.99            40.75   \n",
       "1242118                1            -73.97            40.77   \n",
       "1174088                1            -73.96            40.80   \n",
       "1444018                1            -73.99            40.75   \n",
       "1384315                1            -73.94            40.77   \n",
       "\n",
       "         dropoff_longitude  dropoff_latitude store_and_fwd_flag  trip_duration  \n",
       "1222838             -73.79             40.64                  N             60  \n",
       "504157              -73.96             40.80                  N             60  \n",
       "9943                -73.87             40.77                  N             60  \n",
       "1071181             -73.99             40.77                  N             60  \n",
       "704907              -73.96             40.77                  N             60  \n",
       "1394080             -73.98             40.76                  N             60  \n",
       "764540              -73.98             40.77                  N             60  \n",
       "1420927             -73.94             40.79                  N             60  \n",
       "342506              -73.99             40.75                  N             60  \n",
       "417141              -74.00             40.73                  N             60  \n",
       "823227              -73.99             40.74                  N             60  \n",
       "1025069             -73.96             40.78                  N             60  \n",
       "437504              -73.99             40.75                  N             60  \n",
       "974380              -73.99             40.67                  N             60  \n",
       "93002               -73.95             40.75                  N             60  \n",
       "460136              -74.00             40.74                  N             60  \n",
       "1242118             -73.97             40.77                  N             60  \n",
       "1174088             -73.96             40.81                  N             60  \n",
       "1444018             -74.00             40.75                  N             60  \n",
       "1384315             -73.94             40.77                  N             60  "
      ]
     },
     "execution_count": 9,
     "metadata": {},
     "output_type": "execute_result"
    }
   ],
   "source": [
    "# Check pickup_longitude, pickup_latitude vs. dropoff_longitude, dropoff_latitude\n",
    "## There are cases in which locations changed past 1 minute\n",
    "data[data['trip_duration']==60].head(20)"
   ]
  },
  {
   "cell_type": "code",
   "execution_count": 10,
   "metadata": {
    "collapsed": true
   },
   "outputs": [],
   "source": [
    "# ELIMINATE OUTLIERS - Any records under >= 61 seconds\n",
    "data = data[ data['trip_duration'] >=61]"
   ]
  },
  {
   "cell_type": "code",
   "execution_count": 11,
   "metadata": {
    "scrolled": true
   },
   "outputs": [
    {
     "data": {
      "text/plain": [
       "978383     3526282\n",
       "355003     1939736\n",
       "1234291      86392\n",
       "295382       86391\n",
       "753765       86379\n",
       "1138915      86377\n",
       "66346        86377\n",
       "1269316      86369\n",
       "1233528      86367\n",
       "483960       86366\n",
       "1282413      86365\n",
       "556468       86362\n",
       "1258361      86362\n",
       "755015       86362\n",
       "1182032      86361\n",
       "318008       86360\n",
       "351537       86358\n",
       "612768       86357\n",
       "645313       86356\n",
       "1107580      86355\n",
       "Name: trip_duration, dtype: int64"
      ]
     },
     "execution_count": 11,
     "metadata": {},
     "output_type": "execute_result"
    }
   ],
   "source": [
    "# Top 50 highest trip duration\n",
    "data['trip_duration'].sort_values(ascending = False)[0:20]\n",
    "\n",
    "# Observation: A few very high values."
   ]
  },
  {
   "cell_type": "code",
   "execution_count": 12,
   "metadata": {},
   "outputs": [
    {
     "name": "stdout",
     "output_type": "stream",
     "text": [
      "In hours: 979.5227777777778-- not reasonable values\n",
      "In hours: 23.997777777777777 -- more reasonable?\n"
     ]
    }
   ],
   "source": [
    "print(\"In hours: \"+ str(3526282/60/60) + \"-- not reasonable values\")\n",
    "print(\"In hours: \"+ str(86392/60/60)+ \" -- more reasonable?\")"
   ]
  },
  {
   "cell_type": "code",
   "execution_count": 13,
   "metadata": {
    "scrolled": true
   },
   "outputs": [
    {
     "data": {
      "text/html": [
       "<div>\n",
       "<table border=\"1\" class=\"dataframe\">\n",
       "  <thead>\n",
       "    <tr style=\"text-align: right;\">\n",
       "      <th></th>\n",
       "      <th>id</th>\n",
       "      <th>vendor_id</th>\n",
       "      <th>pickup_datetime</th>\n",
       "      <th>dropoff_datetime</th>\n",
       "      <th>passenger_count</th>\n",
       "      <th>pickup_longitude</th>\n",
       "      <th>pickup_latitude</th>\n",
       "      <th>dropoff_longitude</th>\n",
       "      <th>dropoff_latitude</th>\n",
       "      <th>store_and_fwd_flag</th>\n",
       "      <th>trip_duration</th>\n",
       "    </tr>\n",
       "  </thead>\n",
       "  <tbody>\n",
       "    <tr>\n",
       "      <th>304638</th>\n",
       "      <td>id2336928</td>\n",
       "      <td>2</td>\n",
       "      <td>2016-05-05 11:57:33</td>\n",
       "      <td>2016-05-06 11:46:47</td>\n",
       "      <td>1</td>\n",
       "      <td>-73.97</td>\n",
       "      <td>40.75</td>\n",
       "      <td>-73.95</td>\n",
       "      <td>40.77</td>\n",
       "      <td>N</td>\n",
       "      <td>85754</td>\n",
       "    </tr>\n",
       "    <tr>\n",
       "      <th>1345729</th>\n",
       "      <td>id3195819</td>\n",
       "      <td>2</td>\n",
       "      <td>2016-04-22 21:28:13</td>\n",
       "      <td>2016-04-23 21:05:07</td>\n",
       "      <td>6</td>\n",
       "      <td>-73.98</td>\n",
       "      <td>40.75</td>\n",
       "      <td>-73.99</td>\n",
       "      <td>40.75</td>\n",
       "      <td>N</td>\n",
       "      <td>85014</td>\n",
       "    </tr>\n",
       "    <tr>\n",
       "      <th>725322</th>\n",
       "      <td>id0452625</td>\n",
       "      <td>2</td>\n",
       "      <td>2016-02-14 15:17:53</td>\n",
       "      <td>2016-02-15 15:17:05</td>\n",
       "      <td>1</td>\n",
       "      <td>-73.99</td>\n",
       "      <td>40.72</td>\n",
       "      <td>-73.99</td>\n",
       "      <td>40.76</td>\n",
       "      <td>N</td>\n",
       "      <td>86352</td>\n",
       "    </tr>\n",
       "    <tr>\n",
       "      <th>412504</th>\n",
       "      <td>id2109369</td>\n",
       "      <td>2</td>\n",
       "      <td>2016-04-30 03:40:13</td>\n",
       "      <td>2016-05-01 03:15:04</td>\n",
       "      <td>1</td>\n",
       "      <td>-74.00</td>\n",
       "      <td>40.74</td>\n",
       "      <td>-73.99</td>\n",
       "      <td>40.75</td>\n",
       "      <td>N</td>\n",
       "      <td>84891</td>\n",
       "    </tr>\n",
       "    <tr>\n",
       "      <th>1127725</th>\n",
       "      <td>id1377858</td>\n",
       "      <td>2</td>\n",
       "      <td>2016-04-02 21:11:32</td>\n",
       "      <td>2016-04-03 20:57:33</td>\n",
       "      <td>1</td>\n",
       "      <td>-73.99</td>\n",
       "      <td>40.74</td>\n",
       "      <td>-73.99</td>\n",
       "      <td>40.74</td>\n",
       "      <td>N</td>\n",
       "      <td>85561</td>\n",
       "    </tr>\n",
       "    <tr>\n",
       "      <th>1024017</th>\n",
       "      <td>id2187835</td>\n",
       "      <td>2</td>\n",
       "      <td>2016-06-28 18:45:22</td>\n",
       "      <td>2016-06-29 18:39:53</td>\n",
       "      <td>5</td>\n",
       "      <td>-73.98</td>\n",
       "      <td>40.74</td>\n",
       "      <td>-73.99</td>\n",
       "      <td>40.72</td>\n",
       "      <td>N</td>\n",
       "      <td>86071</td>\n",
       "    </tr>\n",
       "    <tr>\n",
       "      <th>1036503</th>\n",
       "      <td>id2086897</td>\n",
       "      <td>2</td>\n",
       "      <td>2016-01-15 14:40:50</td>\n",
       "      <td>2016-01-16 14:29:36</td>\n",
       "      <td>3</td>\n",
       "      <td>-73.99</td>\n",
       "      <td>40.75</td>\n",
       "      <td>-73.98</td>\n",
       "      <td>40.76</td>\n",
       "      <td>N</td>\n",
       "      <td>85726</td>\n",
       "    </tr>\n",
       "    <tr>\n",
       "      <th>676625</th>\n",
       "      <td>id3345808</td>\n",
       "      <td>2</td>\n",
       "      <td>2016-06-12 00:24:32</td>\n",
       "      <td>2016-06-13 00:19:33</td>\n",
       "      <td>1</td>\n",
       "      <td>-73.99</td>\n",
       "      <td>40.72</td>\n",
       "      <td>-73.95</td>\n",
       "      <td>40.78</td>\n",
       "      <td>N</td>\n",
       "      <td>86101</td>\n",
       "    </tr>\n",
       "    <tr>\n",
       "      <th>53235</th>\n",
       "      <td>id3491590</td>\n",
       "      <td>2</td>\n",
       "      <td>2016-02-04 06:39:19</td>\n",
       "      <td>2016-02-05 00:00:00</td>\n",
       "      <td>1</td>\n",
       "      <td>-73.96</td>\n",
       "      <td>40.76</td>\n",
       "      <td>-73.98</td>\n",
       "      <td>40.75</td>\n",
       "      <td>N</td>\n",
       "      <td>62441</td>\n",
       "    </tr>\n",
       "    <tr>\n",
       "      <th>978958</th>\n",
       "      <td>id0792001</td>\n",
       "      <td>2</td>\n",
       "      <td>2016-05-09 19:42:22</td>\n",
       "      <td>2016-05-10 19:28:37</td>\n",
       "      <td>1</td>\n",
       "      <td>-73.97</td>\n",
       "      <td>40.76</td>\n",
       "      <td>-73.97</td>\n",
       "      <td>40.76</td>\n",
       "      <td>N</td>\n",
       "      <td>85575</td>\n",
       "    </tr>\n",
       "    <tr>\n",
       "      <th>1099012</th>\n",
       "      <td>id0366613</td>\n",
       "      <td>2</td>\n",
       "      <td>2016-01-08 13:40:58</td>\n",
       "      <td>2016-01-09 13:16:04</td>\n",
       "      <td>5</td>\n",
       "      <td>-73.99</td>\n",
       "      <td>40.74</td>\n",
       "      <td>-73.98</td>\n",
       "      <td>40.76</td>\n",
       "      <td>N</td>\n",
       "      <td>84906</td>\n",
       "    </tr>\n",
       "    <tr>\n",
       "      <th>467193</th>\n",
       "      <td>id0088464</td>\n",
       "      <td>2</td>\n",
       "      <td>2016-02-25 18:56:48</td>\n",
       "      <td>2016-02-26 18:55:42</td>\n",
       "      <td>1</td>\n",
       "      <td>-73.96</td>\n",
       "      <td>40.78</td>\n",
       "      <td>-73.96</td>\n",
       "      <td>40.77</td>\n",
       "      <td>N</td>\n",
       "      <td>86334</td>\n",
       "    </tr>\n",
       "    <tr>\n",
       "      <th>21846</th>\n",
       "      <td>id3244242</td>\n",
       "      <td>2</td>\n",
       "      <td>2016-06-03 17:14:02</td>\n",
       "      <td>2016-06-04 17:13:05</td>\n",
       "      <td>5</td>\n",
       "      <td>-74.00</td>\n",
       "      <td>40.73</td>\n",
       "      <td>-73.99</td>\n",
       "      <td>40.76</td>\n",
       "      <td>N</td>\n",
       "      <td>86343</td>\n",
       "    </tr>\n",
       "    <tr>\n",
       "      <th>1401727</th>\n",
       "      <td>id2889233</td>\n",
       "      <td>2</td>\n",
       "      <td>2016-05-13 12:06:21</td>\n",
       "      <td>2016-05-14 10:59:24</td>\n",
       "      <td>1</td>\n",
       "      <td>-73.99</td>\n",
       "      <td>40.75</td>\n",
       "      <td>-74.01</td>\n",
       "      <td>40.74</td>\n",
       "      <td>N</td>\n",
       "      <td>82383</td>\n",
       "    </tr>\n",
       "    <tr>\n",
       "      <th>1410545</th>\n",
       "      <td>id0043565</td>\n",
       "      <td>2</td>\n",
       "      <td>2016-06-28 23:55:26</td>\n",
       "      <td>2016-06-29 23:30:22</td>\n",
       "      <td>1</td>\n",
       "      <td>-73.78</td>\n",
       "      <td>40.64</td>\n",
       "      <td>-73.98</td>\n",
       "      <td>40.69</td>\n",
       "      <td>N</td>\n",
       "      <td>84896</td>\n",
       "    </tr>\n",
       "    <tr>\n",
       "      <th>720225</th>\n",
       "      <td>id3321858</td>\n",
       "      <td>2</td>\n",
       "      <td>2016-05-22 01:23:03</td>\n",
       "      <td>2016-05-23 01:02:43</td>\n",
       "      <td>2</td>\n",
       "      <td>-73.95</td>\n",
       "      <td>40.77</td>\n",
       "      <td>-73.98</td>\n",
       "      <td>40.75</td>\n",
       "      <td>N</td>\n",
       "      <td>85180</td>\n",
       "    </tr>\n",
       "    <tr>\n",
       "      <th>409530</th>\n",
       "      <td>id2907018</td>\n",
       "      <td>2</td>\n",
       "      <td>2016-03-06 22:08:18</td>\n",
       "      <td>2016-03-07 21:56:54</td>\n",
       "      <td>1</td>\n",
       "      <td>-73.99</td>\n",
       "      <td>40.69</td>\n",
       "      <td>-73.98</td>\n",
       "      <td>40.62</td>\n",
       "      <td>N</td>\n",
       "      <td>85716</td>\n",
       "    </tr>\n",
       "    <tr>\n",
       "      <th>1067506</th>\n",
       "      <td>id3133025</td>\n",
       "      <td>2</td>\n",
       "      <td>2016-02-09 13:10:43</td>\n",
       "      <td>2016-02-10 12:53:34</td>\n",
       "      <td>1</td>\n",
       "      <td>-73.98</td>\n",
       "      <td>40.77</td>\n",
       "      <td>-73.99</td>\n",
       "      <td>40.74</td>\n",
       "      <td>N</td>\n",
       "      <td>85371</td>\n",
       "    </tr>\n",
       "    <tr>\n",
       "      <th>1392418</th>\n",
       "      <td>id2308559</td>\n",
       "      <td>2</td>\n",
       "      <td>2016-01-19 15:40:47</td>\n",
       "      <td>2016-01-20 15:10:56</td>\n",
       "      <td>1</td>\n",
       "      <td>-73.98</td>\n",
       "      <td>40.76</td>\n",
       "      <td>-73.98</td>\n",
       "      <td>40.76</td>\n",
       "      <td>N</td>\n",
       "      <td>84609</td>\n",
       "    </tr>\n",
       "    <tr>\n",
       "      <th>109767</th>\n",
       "      <td>id3996967</td>\n",
       "      <td>2</td>\n",
       "      <td>2016-02-25 14:51:06</td>\n",
       "      <td>2016-02-26 14:29:39</td>\n",
       "      <td>1</td>\n",
       "      <td>-73.97</td>\n",
       "      <td>40.79</td>\n",
       "      <td>-73.96</td>\n",
       "      <td>40.79</td>\n",
       "      <td>N</td>\n",
       "      <td>85113</td>\n",
       "    </tr>\n",
       "    <tr>\n",
       "      <th>214914</th>\n",
       "      <td>id2239072</td>\n",
       "      <td>2</td>\n",
       "      <td>2016-02-11 18:22:42</td>\n",
       "      <td>2016-02-12 18:14:53</td>\n",
       "      <td>1</td>\n",
       "      <td>-73.97</td>\n",
       "      <td>40.77</td>\n",
       "      <td>-73.95</td>\n",
       "      <td>40.77</td>\n",
       "      <td>N</td>\n",
       "      <td>85931</td>\n",
       "    </tr>\n",
       "    <tr>\n",
       "      <th>915107</th>\n",
       "      <td>id0379023</td>\n",
       "      <td>2</td>\n",
       "      <td>2016-06-15 20:40:07</td>\n",
       "      <td>2016-06-16 20:28:21</td>\n",
       "      <td>1</td>\n",
       "      <td>-73.97</td>\n",
       "      <td>40.76</td>\n",
       "      <td>-73.99</td>\n",
       "      <td>40.73</td>\n",
       "      <td>N</td>\n",
       "      <td>85694</td>\n",
       "    </tr>\n",
       "    <tr>\n",
       "      <th>1419671</th>\n",
       "      <td>id0804183</td>\n",
       "      <td>2</td>\n",
       "      <td>2016-05-20 19:40:42</td>\n",
       "      <td>2016-05-21 19:39:25</td>\n",
       "      <td>2</td>\n",
       "      <td>-73.97</td>\n",
       "      <td>40.76</td>\n",
       "      <td>-73.96</td>\n",
       "      <td>40.77</td>\n",
       "      <td>N</td>\n",
       "      <td>86323</td>\n",
       "    </tr>\n",
       "    <tr>\n",
       "      <th>1141898</th>\n",
       "      <td>id1419599</td>\n",
       "      <td>2</td>\n",
       "      <td>2016-04-01 18:11:05</td>\n",
       "      <td>2016-04-02 18:04:18</td>\n",
       "      <td>1</td>\n",
       "      <td>-74.01</td>\n",
       "      <td>40.74</td>\n",
       "      <td>-74.00</td>\n",
       "      <td>40.74</td>\n",
       "      <td>N</td>\n",
       "      <td>85993</td>\n",
       "    </tr>\n",
       "    <tr>\n",
       "      <th>1107610</th>\n",
       "      <td>id1171369</td>\n",
       "      <td>2</td>\n",
       "      <td>2016-04-26 22:36:16</td>\n",
       "      <td>2016-04-27 22:25:10</td>\n",
       "      <td>5</td>\n",
       "      <td>-73.98</td>\n",
       "      <td>40.78</td>\n",
       "      <td>-73.98</td>\n",
       "      <td>40.77</td>\n",
       "      <td>N</td>\n",
       "      <td>85734</td>\n",
       "    </tr>\n",
       "    <tr>\n",
       "      <th>35531</th>\n",
       "      <td>id1714693</td>\n",
       "      <td>2</td>\n",
       "      <td>2016-05-21 17:48:54</td>\n",
       "      <td>2016-05-22 16:57:57</td>\n",
       "      <td>6</td>\n",
       "      <td>-73.98</td>\n",
       "      <td>40.77</td>\n",
       "      <td>-73.98</td>\n",
       "      <td>40.76</td>\n",
       "      <td>N</td>\n",
       "      <td>83343</td>\n",
       "    </tr>\n",
       "    <tr>\n",
       "      <th>928453</th>\n",
       "      <td>id1453209</td>\n",
       "      <td>2</td>\n",
       "      <td>2016-03-21 11:50:51</td>\n",
       "      <td>2016-03-22 00:00:00</td>\n",
       "      <td>6</td>\n",
       "      <td>-73.96</td>\n",
       "      <td>40.80</td>\n",
       "      <td>-73.96</td>\n",
       "      <td>40.78</td>\n",
       "      <td>N</td>\n",
       "      <td>43749</td>\n",
       "    </tr>\n",
       "    <tr>\n",
       "      <th>1189242</th>\n",
       "      <td>id3553521</td>\n",
       "      <td>2</td>\n",
       "      <td>2016-06-13 16:58:23</td>\n",
       "      <td>2016-06-14 16:40:17</td>\n",
       "      <td>1</td>\n",
       "      <td>-73.98</td>\n",
       "      <td>40.78</td>\n",
       "      <td>-73.95</td>\n",
       "      <td>40.78</td>\n",
       "      <td>N</td>\n",
       "      <td>85314</td>\n",
       "    </tr>\n",
       "    <tr>\n",
       "      <th>240027</th>\n",
       "      <td>id0386082</td>\n",
       "      <td>2</td>\n",
       "      <td>2016-06-28 01:25:41</td>\n",
       "      <td>2016-06-29 01:13:44</td>\n",
       "      <td>6</td>\n",
       "      <td>-73.99</td>\n",
       "      <td>40.72</td>\n",
       "      <td>-73.98</td>\n",
       "      <td>40.73</td>\n",
       "      <td>N</td>\n",
       "      <td>85683</td>\n",
       "    </tr>\n",
       "    <tr>\n",
       "      <th>1292788</th>\n",
       "      <td>id0478175</td>\n",
       "      <td>2</td>\n",
       "      <td>2016-02-28 14:00:05</td>\n",
       "      <td>2016-02-29 13:55:29</td>\n",
       "      <td>1</td>\n",
       "      <td>-73.98</td>\n",
       "      <td>40.79</td>\n",
       "      <td>-74.01</td>\n",
       "      <td>40.75</td>\n",
       "      <td>N</td>\n",
       "      <td>86124</td>\n",
       "    </tr>\n",
       "    <tr>\n",
       "      <th>...</th>\n",
       "      <td>...</td>\n",
       "      <td>...</td>\n",
       "      <td>...</td>\n",
       "      <td>...</td>\n",
       "      <td>...</td>\n",
       "      <td>...</td>\n",
       "      <td>...</td>\n",
       "      <td>...</td>\n",
       "      <td>...</td>\n",
       "      <td>...</td>\n",
       "      <td>...</td>\n",
       "    </tr>\n",
       "    <tr>\n",
       "      <th>350746</th>\n",
       "      <td>id0191779</td>\n",
       "      <td>2</td>\n",
       "      <td>2016-01-24 15:05:38</td>\n",
       "      <td>2016-01-25 15:03:11</td>\n",
       "      <td>5</td>\n",
       "      <td>-73.96</td>\n",
       "      <td>40.77</td>\n",
       "      <td>-73.96</td>\n",
       "      <td>40.76</td>\n",
       "      <td>N</td>\n",
       "      <td>86253</td>\n",
       "    </tr>\n",
       "    <tr>\n",
       "      <th>350848</th>\n",
       "      <td>id1276691</td>\n",
       "      <td>2</td>\n",
       "      <td>2016-03-04 08:05:04</td>\n",
       "      <td>2016-03-05 07:58:44</td>\n",
       "      <td>2</td>\n",
       "      <td>-73.97</td>\n",
       "      <td>40.78</td>\n",
       "      <td>-73.97</td>\n",
       "      <td>40.78</td>\n",
       "      <td>N</td>\n",
       "      <td>86020</td>\n",
       "    </tr>\n",
       "    <tr>\n",
       "      <th>940821</th>\n",
       "      <td>id1352648</td>\n",
       "      <td>2</td>\n",
       "      <td>2016-01-15 07:33:58</td>\n",
       "      <td>2016-01-16 07:19:56</td>\n",
       "      <td>3</td>\n",
       "      <td>-73.98</td>\n",
       "      <td>40.75</td>\n",
       "      <td>-73.86</td>\n",
       "      <td>40.77</td>\n",
       "      <td>N</td>\n",
       "      <td>85558</td>\n",
       "    </tr>\n",
       "    <tr>\n",
       "      <th>1217264</th>\n",
       "      <td>id1252278</td>\n",
       "      <td>2</td>\n",
       "      <td>2016-03-15 10:42:39</td>\n",
       "      <td>2016-03-16 10:41:16</td>\n",
       "      <td>1</td>\n",
       "      <td>-73.99</td>\n",
       "      <td>40.75</td>\n",
       "      <td>-73.99</td>\n",
       "      <td>40.74</td>\n",
       "      <td>N</td>\n",
       "      <td>86317</td>\n",
       "    </tr>\n",
       "    <tr>\n",
       "      <th>703064</th>\n",
       "      <td>id2401479</td>\n",
       "      <td>2</td>\n",
       "      <td>2016-02-21 22:49:41</td>\n",
       "      <td>2016-02-22 22:47:29</td>\n",
       "      <td>1</td>\n",
       "      <td>-73.99</td>\n",
       "      <td>40.71</td>\n",
       "      <td>-73.96</td>\n",
       "      <td>40.72</td>\n",
       "      <td>N</td>\n",
       "      <td>86268</td>\n",
       "    </tr>\n",
       "    <tr>\n",
       "      <th>673505</th>\n",
       "      <td>id3053915</td>\n",
       "      <td>2</td>\n",
       "      <td>2016-03-06 17:07:17</td>\n",
       "      <td>2016-03-07 17:06:22</td>\n",
       "      <td>1</td>\n",
       "      <td>-73.98</td>\n",
       "      <td>40.77</td>\n",
       "      <td>-73.96</td>\n",
       "      <td>40.77</td>\n",
       "      <td>N</td>\n",
       "      <td>86345</td>\n",
       "    </tr>\n",
       "    <tr>\n",
       "      <th>486567</th>\n",
       "      <td>id3425266</td>\n",
       "      <td>2</td>\n",
       "      <td>2016-03-11 21:05:10</td>\n",
       "      <td>2016-03-12 20:59:41</td>\n",
       "      <td>2</td>\n",
       "      <td>-73.98</td>\n",
       "      <td>40.76</td>\n",
       "      <td>-73.98</td>\n",
       "      <td>40.74</td>\n",
       "      <td>N</td>\n",
       "      <td>86071</td>\n",
       "    </tr>\n",
       "    <tr>\n",
       "      <th>125630</th>\n",
       "      <td>id0606837</td>\n",
       "      <td>2</td>\n",
       "      <td>2016-01-18 10:46:27</td>\n",
       "      <td>2016-01-19 10:35:31</td>\n",
       "      <td>2</td>\n",
       "      <td>-73.98</td>\n",
       "      <td>40.75</td>\n",
       "      <td>-73.97</td>\n",
       "      <td>40.78</td>\n",
       "      <td>N</td>\n",
       "      <td>85744</td>\n",
       "    </tr>\n",
       "    <tr>\n",
       "      <th>878695</th>\n",
       "      <td>id1007998</td>\n",
       "      <td>2</td>\n",
       "      <td>2016-03-03 21:46:27</td>\n",
       "      <td>2016-03-04 21:13:41</td>\n",
       "      <td>4</td>\n",
       "      <td>-73.99</td>\n",
       "      <td>40.72</td>\n",
       "      <td>-73.98</td>\n",
       "      <td>40.77</td>\n",
       "      <td>N</td>\n",
       "      <td>84434</td>\n",
       "    </tr>\n",
       "    <tr>\n",
       "      <th>1424171</th>\n",
       "      <td>id2413993</td>\n",
       "      <td>2</td>\n",
       "      <td>2016-03-12 20:34:20</td>\n",
       "      <td>2016-03-13 20:07:14</td>\n",
       "      <td>1</td>\n",
       "      <td>-73.86</td>\n",
       "      <td>40.77</td>\n",
       "      <td>-73.99</td>\n",
       "      <td>40.77</td>\n",
       "      <td>N</td>\n",
       "      <td>84774</td>\n",
       "    </tr>\n",
       "    <tr>\n",
       "      <th>993440</th>\n",
       "      <td>id0882754</td>\n",
       "      <td>2</td>\n",
       "      <td>2016-02-21 01:07:39</td>\n",
       "      <td>2016-02-22 00:49:16</td>\n",
       "      <td>2</td>\n",
       "      <td>-73.99</td>\n",
       "      <td>40.74</td>\n",
       "      <td>-73.98</td>\n",
       "      <td>40.76</td>\n",
       "      <td>N</td>\n",
       "      <td>85297</td>\n",
       "    </tr>\n",
       "    <tr>\n",
       "      <th>1072076</th>\n",
       "      <td>id1982851</td>\n",
       "      <td>2</td>\n",
       "      <td>2016-01-12 16:23:16</td>\n",
       "      <td>2016-01-13 16:22:17</td>\n",
       "      <td>1</td>\n",
       "      <td>-73.99</td>\n",
       "      <td>40.78</td>\n",
       "      <td>-73.96</td>\n",
       "      <td>40.78</td>\n",
       "      <td>N</td>\n",
       "      <td>86341</td>\n",
       "    </tr>\n",
       "    <tr>\n",
       "      <th>119270</th>\n",
       "      <td>id2758157</td>\n",
       "      <td>2</td>\n",
       "      <td>2016-06-28 18:00:35</td>\n",
       "      <td>2016-06-29 17:58:21</td>\n",
       "      <td>2</td>\n",
       "      <td>-73.97</td>\n",
       "      <td>40.77</td>\n",
       "      <td>-73.99</td>\n",
       "      <td>40.76</td>\n",
       "      <td>N</td>\n",
       "      <td>86266</td>\n",
       "    </tr>\n",
       "    <tr>\n",
       "      <th>822946</th>\n",
       "      <td>id0701343</td>\n",
       "      <td>2</td>\n",
       "      <td>2016-01-13 12:52:29</td>\n",
       "      <td>2016-01-14 11:59:44</td>\n",
       "      <td>2</td>\n",
       "      <td>-73.96</td>\n",
       "      <td>40.77</td>\n",
       "      <td>-73.97</td>\n",
       "      <td>40.77</td>\n",
       "      <td>N</td>\n",
       "      <td>83235</td>\n",
       "    </tr>\n",
       "    <tr>\n",
       "      <th>1164731</th>\n",
       "      <td>id1342254</td>\n",
       "      <td>2</td>\n",
       "      <td>2016-06-01 18:55:04</td>\n",
       "      <td>2016-06-02 18:46:02</td>\n",
       "      <td>1</td>\n",
       "      <td>-73.98</td>\n",
       "      <td>40.76</td>\n",
       "      <td>-73.91</td>\n",
       "      <td>40.91</td>\n",
       "      <td>N</td>\n",
       "      <td>85858</td>\n",
       "    </tr>\n",
       "    <tr>\n",
       "      <th>194665</th>\n",
       "      <td>id3984403</td>\n",
       "      <td>2</td>\n",
       "      <td>2016-06-03 18:52:05</td>\n",
       "      <td>2016-06-04 18:15:35</td>\n",
       "      <td>2</td>\n",
       "      <td>-73.97</td>\n",
       "      <td>40.79</td>\n",
       "      <td>-73.93</td>\n",
       "      <td>40.77</td>\n",
       "      <td>N</td>\n",
       "      <td>84210</td>\n",
       "    </tr>\n",
       "    <tr>\n",
       "      <th>453021</th>\n",
       "      <td>id2887319</td>\n",
       "      <td>2</td>\n",
       "      <td>2016-06-30 01:01:22</td>\n",
       "      <td>2016-07-01 00:08:38</td>\n",
       "      <td>6</td>\n",
       "      <td>-74.00</td>\n",
       "      <td>40.74</td>\n",
       "      <td>-73.98</td>\n",
       "      <td>40.74</td>\n",
       "      <td>N</td>\n",
       "      <td>83236</td>\n",
       "    </tr>\n",
       "    <tr>\n",
       "      <th>94085</th>\n",
       "      <td>id0799332</td>\n",
       "      <td>2</td>\n",
       "      <td>2016-06-28 20:33:34</td>\n",
       "      <td>2016-06-29 20:32:40</td>\n",
       "      <td>1</td>\n",
       "      <td>-73.97</td>\n",
       "      <td>40.75</td>\n",
       "      <td>-73.99</td>\n",
       "      <td>40.76</td>\n",
       "      <td>N</td>\n",
       "      <td>86346</td>\n",
       "    </tr>\n",
       "    <tr>\n",
       "      <th>393237</th>\n",
       "      <td>id3672148</td>\n",
       "      <td>2</td>\n",
       "      <td>2016-06-23 12:09:39</td>\n",
       "      <td>2016-06-24 12:06:07</td>\n",
       "      <td>3</td>\n",
       "      <td>-73.99</td>\n",
       "      <td>40.75</td>\n",
       "      <td>-73.93</td>\n",
       "      <td>40.71</td>\n",
       "      <td>N</td>\n",
       "      <td>86188</td>\n",
       "    </tr>\n",
       "    <tr>\n",
       "      <th>1107580</th>\n",
       "      <td>id1639145</td>\n",
       "      <td>2</td>\n",
       "      <td>2016-06-18 01:36:14</td>\n",
       "      <td>2016-06-19 01:35:29</td>\n",
       "      <td>1</td>\n",
       "      <td>-73.99</td>\n",
       "      <td>40.73</td>\n",
       "      <td>-74.01</td>\n",
       "      <td>40.71</td>\n",
       "      <td>N</td>\n",
       "      <td>86355</td>\n",
       "    </tr>\n",
       "    <tr>\n",
       "      <th>1141170</th>\n",
       "      <td>id0527609</td>\n",
       "      <td>2</td>\n",
       "      <td>2016-06-28 20:09:49</td>\n",
       "      <td>2016-06-29 19:52:52</td>\n",
       "      <td>1</td>\n",
       "      <td>-74.00</td>\n",
       "      <td>40.76</td>\n",
       "      <td>-73.97</td>\n",
       "      <td>40.76</td>\n",
       "      <td>N</td>\n",
       "      <td>85383</td>\n",
       "    </tr>\n",
       "    <tr>\n",
       "      <th>1093730</th>\n",
       "      <td>id1573339</td>\n",
       "      <td>2</td>\n",
       "      <td>2016-03-15 07:11:28</td>\n",
       "      <td>2016-03-16 06:32:49</td>\n",
       "      <td>1</td>\n",
       "      <td>-73.97</td>\n",
       "      <td>40.79</td>\n",
       "      <td>-73.86</td>\n",
       "      <td>40.77</td>\n",
       "      <td>N</td>\n",
       "      <td>84081</td>\n",
       "    </tr>\n",
       "    <tr>\n",
       "      <th>113965</th>\n",
       "      <td>id1453066</td>\n",
       "      <td>2</td>\n",
       "      <td>2016-03-06 02:06:26</td>\n",
       "      <td>2016-03-07 01:30:20</td>\n",
       "      <td>2</td>\n",
       "      <td>-73.96</td>\n",
       "      <td>40.80</td>\n",
       "      <td>-73.98</td>\n",
       "      <td>40.78</td>\n",
       "      <td>N</td>\n",
       "      <td>84234</td>\n",
       "    </tr>\n",
       "    <tr>\n",
       "      <th>1084718</th>\n",
       "      <td>id1818709</td>\n",
       "      <td>2</td>\n",
       "      <td>2016-01-02 22:28:56</td>\n",
       "      <td>2016-01-03 22:17:53</td>\n",
       "      <td>1</td>\n",
       "      <td>-74.01</td>\n",
       "      <td>40.71</td>\n",
       "      <td>-73.99</td>\n",
       "      <td>40.76</td>\n",
       "      <td>N</td>\n",
       "      <td>85737</td>\n",
       "    </tr>\n",
       "    <tr>\n",
       "      <th>1382334</th>\n",
       "      <td>id0309471</td>\n",
       "      <td>2</td>\n",
       "      <td>2016-04-18 22:46:47</td>\n",
       "      <td>2016-04-19 22:35:16</td>\n",
       "      <td>2</td>\n",
       "      <td>-73.99</td>\n",
       "      <td>40.76</td>\n",
       "      <td>-74.00</td>\n",
       "      <td>40.76</td>\n",
       "      <td>N</td>\n",
       "      <td>85709</td>\n",
       "    </tr>\n",
       "    <tr>\n",
       "      <th>597833</th>\n",
       "      <td>id3603691</td>\n",
       "      <td>2</td>\n",
       "      <td>2016-03-12 14:25:10</td>\n",
       "      <td>2016-03-13 14:16:11</td>\n",
       "      <td>3</td>\n",
       "      <td>-73.99</td>\n",
       "      <td>40.73</td>\n",
       "      <td>-74.01</td>\n",
       "      <td>40.72</td>\n",
       "      <td>N</td>\n",
       "      <td>85861</td>\n",
       "    </tr>\n",
       "    <tr>\n",
       "      <th>740091</th>\n",
       "      <td>id1072063</td>\n",
       "      <td>2</td>\n",
       "      <td>2016-03-24 19:03:22</td>\n",
       "      <td>2016-03-25 18:59:25</td>\n",
       "      <td>1</td>\n",
       "      <td>-73.98</td>\n",
       "      <td>40.76</td>\n",
       "      <td>-73.98</td>\n",
       "      <td>40.75</td>\n",
       "      <td>N</td>\n",
       "      <td>86163</td>\n",
       "    </tr>\n",
       "    <tr>\n",
       "      <th>429029</th>\n",
       "      <td>id2658043</td>\n",
       "      <td>2</td>\n",
       "      <td>2016-01-19 21:35:44</td>\n",
       "      <td>2016-01-20 21:26:30</td>\n",
       "      <td>1</td>\n",
       "      <td>-73.95</td>\n",
       "      <td>40.71</td>\n",
       "      <td>-73.99</td>\n",
       "      <td>40.67</td>\n",
       "      <td>N</td>\n",
       "      <td>85846</td>\n",
       "    </tr>\n",
       "    <tr>\n",
       "      <th>166918</th>\n",
       "      <td>id0182253</td>\n",
       "      <td>2</td>\n",
       "      <td>2016-02-19 00:04:47</td>\n",
       "      <td>2016-02-19 23:40:26</td>\n",
       "      <td>1</td>\n",
       "      <td>-73.98</td>\n",
       "      <td>40.76</td>\n",
       "      <td>-73.99</td>\n",
       "      <td>40.76</td>\n",
       "      <td>N</td>\n",
       "      <td>84939</td>\n",
       "    </tr>\n",
       "    <tr>\n",
       "      <th>749125</th>\n",
       "      <td>id2641936</td>\n",
       "      <td>2</td>\n",
       "      <td>2016-05-03 08:23:15</td>\n",
       "      <td>2016-05-04 08:22:11</td>\n",
       "      <td>1</td>\n",
       "      <td>-73.98</td>\n",
       "      <td>40.69</td>\n",
       "      <td>-73.96</td>\n",
       "      <td>40.68</td>\n",
       "      <td>N</td>\n",
       "      <td>86336</td>\n",
       "    </tr>\n",
       "  </tbody>\n",
       "</table>\n",
       "<p>806 rows × 11 columns</p>\n",
       "</div>"
      ],
      "text/plain": [
       "                id vendor_id     pickup_datetime    dropoff_datetime  \\\n",
       "304638   id2336928         2 2016-05-05 11:57:33 2016-05-06 11:46:47   \n",
       "1345729  id3195819         2 2016-04-22 21:28:13 2016-04-23 21:05:07   \n",
       "725322   id0452625         2 2016-02-14 15:17:53 2016-02-15 15:17:05   \n",
       "412504   id2109369         2 2016-04-30 03:40:13 2016-05-01 03:15:04   \n",
       "1127725  id1377858         2 2016-04-02 21:11:32 2016-04-03 20:57:33   \n",
       "1024017  id2187835         2 2016-06-28 18:45:22 2016-06-29 18:39:53   \n",
       "1036503  id2086897         2 2016-01-15 14:40:50 2016-01-16 14:29:36   \n",
       "676625   id3345808         2 2016-06-12 00:24:32 2016-06-13 00:19:33   \n",
       "53235    id3491590         2 2016-02-04 06:39:19 2016-02-05 00:00:00   \n",
       "978958   id0792001         2 2016-05-09 19:42:22 2016-05-10 19:28:37   \n",
       "1099012  id0366613         2 2016-01-08 13:40:58 2016-01-09 13:16:04   \n",
       "467193   id0088464         2 2016-02-25 18:56:48 2016-02-26 18:55:42   \n",
       "21846    id3244242         2 2016-06-03 17:14:02 2016-06-04 17:13:05   \n",
       "1401727  id2889233         2 2016-05-13 12:06:21 2016-05-14 10:59:24   \n",
       "1410545  id0043565         2 2016-06-28 23:55:26 2016-06-29 23:30:22   \n",
       "720225   id3321858         2 2016-05-22 01:23:03 2016-05-23 01:02:43   \n",
       "409530   id2907018         2 2016-03-06 22:08:18 2016-03-07 21:56:54   \n",
       "1067506  id3133025         2 2016-02-09 13:10:43 2016-02-10 12:53:34   \n",
       "1392418  id2308559         2 2016-01-19 15:40:47 2016-01-20 15:10:56   \n",
       "109767   id3996967         2 2016-02-25 14:51:06 2016-02-26 14:29:39   \n",
       "214914   id2239072         2 2016-02-11 18:22:42 2016-02-12 18:14:53   \n",
       "915107   id0379023         2 2016-06-15 20:40:07 2016-06-16 20:28:21   \n",
       "1419671  id0804183         2 2016-05-20 19:40:42 2016-05-21 19:39:25   \n",
       "1141898  id1419599         2 2016-04-01 18:11:05 2016-04-02 18:04:18   \n",
       "1107610  id1171369         2 2016-04-26 22:36:16 2016-04-27 22:25:10   \n",
       "35531    id1714693         2 2016-05-21 17:48:54 2016-05-22 16:57:57   \n",
       "928453   id1453209         2 2016-03-21 11:50:51 2016-03-22 00:00:00   \n",
       "1189242  id3553521         2 2016-06-13 16:58:23 2016-06-14 16:40:17   \n",
       "240027   id0386082         2 2016-06-28 01:25:41 2016-06-29 01:13:44   \n",
       "1292788  id0478175         2 2016-02-28 14:00:05 2016-02-29 13:55:29   \n",
       "...            ...       ...                 ...                 ...   \n",
       "350746   id0191779         2 2016-01-24 15:05:38 2016-01-25 15:03:11   \n",
       "350848   id1276691         2 2016-03-04 08:05:04 2016-03-05 07:58:44   \n",
       "940821   id1352648         2 2016-01-15 07:33:58 2016-01-16 07:19:56   \n",
       "1217264  id1252278         2 2016-03-15 10:42:39 2016-03-16 10:41:16   \n",
       "703064   id2401479         2 2016-02-21 22:49:41 2016-02-22 22:47:29   \n",
       "673505   id3053915         2 2016-03-06 17:07:17 2016-03-07 17:06:22   \n",
       "486567   id3425266         2 2016-03-11 21:05:10 2016-03-12 20:59:41   \n",
       "125630   id0606837         2 2016-01-18 10:46:27 2016-01-19 10:35:31   \n",
       "878695   id1007998         2 2016-03-03 21:46:27 2016-03-04 21:13:41   \n",
       "1424171  id2413993         2 2016-03-12 20:34:20 2016-03-13 20:07:14   \n",
       "993440   id0882754         2 2016-02-21 01:07:39 2016-02-22 00:49:16   \n",
       "1072076  id1982851         2 2016-01-12 16:23:16 2016-01-13 16:22:17   \n",
       "119270   id2758157         2 2016-06-28 18:00:35 2016-06-29 17:58:21   \n",
       "822946   id0701343         2 2016-01-13 12:52:29 2016-01-14 11:59:44   \n",
       "1164731  id1342254         2 2016-06-01 18:55:04 2016-06-02 18:46:02   \n",
       "194665   id3984403         2 2016-06-03 18:52:05 2016-06-04 18:15:35   \n",
       "453021   id2887319         2 2016-06-30 01:01:22 2016-07-01 00:08:38   \n",
       "94085    id0799332         2 2016-06-28 20:33:34 2016-06-29 20:32:40   \n",
       "393237   id3672148         2 2016-06-23 12:09:39 2016-06-24 12:06:07   \n",
       "1107580  id1639145         2 2016-06-18 01:36:14 2016-06-19 01:35:29   \n",
       "1141170  id0527609         2 2016-06-28 20:09:49 2016-06-29 19:52:52   \n",
       "1093730  id1573339         2 2016-03-15 07:11:28 2016-03-16 06:32:49   \n",
       "113965   id1453066         2 2016-03-06 02:06:26 2016-03-07 01:30:20   \n",
       "1084718  id1818709         2 2016-01-02 22:28:56 2016-01-03 22:17:53   \n",
       "1382334  id0309471         2 2016-04-18 22:46:47 2016-04-19 22:35:16   \n",
       "597833   id3603691         2 2016-03-12 14:25:10 2016-03-13 14:16:11   \n",
       "740091   id1072063         2 2016-03-24 19:03:22 2016-03-25 18:59:25   \n",
       "429029   id2658043         2 2016-01-19 21:35:44 2016-01-20 21:26:30   \n",
       "166918   id0182253         2 2016-02-19 00:04:47 2016-02-19 23:40:26   \n",
       "749125   id2641936         2 2016-05-03 08:23:15 2016-05-04 08:22:11   \n",
       "\n",
       "         passenger_count  pickup_longitude  pickup_latitude  \\\n",
       "304638                 1            -73.97            40.75   \n",
       "1345729                6            -73.98            40.75   \n",
       "725322                 1            -73.99            40.72   \n",
       "412504                 1            -74.00            40.74   \n",
       "1127725                1            -73.99            40.74   \n",
       "1024017                5            -73.98            40.74   \n",
       "1036503                3            -73.99            40.75   \n",
       "676625                 1            -73.99            40.72   \n",
       "53235                  1            -73.96            40.76   \n",
       "978958                 1            -73.97            40.76   \n",
       "1099012                5            -73.99            40.74   \n",
       "467193                 1            -73.96            40.78   \n",
       "21846                  5            -74.00            40.73   \n",
       "1401727                1            -73.99            40.75   \n",
       "1410545                1            -73.78            40.64   \n",
       "720225                 2            -73.95            40.77   \n",
       "409530                 1            -73.99            40.69   \n",
       "1067506                1            -73.98            40.77   \n",
       "1392418                1            -73.98            40.76   \n",
       "109767                 1            -73.97            40.79   \n",
       "214914                 1            -73.97            40.77   \n",
       "915107                 1            -73.97            40.76   \n",
       "1419671                2            -73.97            40.76   \n",
       "1141898                1            -74.01            40.74   \n",
       "1107610                5            -73.98            40.78   \n",
       "35531                  6            -73.98            40.77   \n",
       "928453                 6            -73.96            40.80   \n",
       "1189242                1            -73.98            40.78   \n",
       "240027                 6            -73.99            40.72   \n",
       "1292788                1            -73.98            40.79   \n",
       "...                  ...               ...              ...   \n",
       "350746                 5            -73.96            40.77   \n",
       "350848                 2            -73.97            40.78   \n",
       "940821                 3            -73.98            40.75   \n",
       "1217264                1            -73.99            40.75   \n",
       "703064                 1            -73.99            40.71   \n",
       "673505                 1            -73.98            40.77   \n",
       "486567                 2            -73.98            40.76   \n",
       "125630                 2            -73.98            40.75   \n",
       "878695                 4            -73.99            40.72   \n",
       "1424171                1            -73.86            40.77   \n",
       "993440                 2            -73.99            40.74   \n",
       "1072076                1            -73.99            40.78   \n",
       "119270                 2            -73.97            40.77   \n",
       "822946                 2            -73.96            40.77   \n",
       "1164731                1            -73.98            40.76   \n",
       "194665                 2            -73.97            40.79   \n",
       "453021                 6            -74.00            40.74   \n",
       "94085                  1            -73.97            40.75   \n",
       "393237                 3            -73.99            40.75   \n",
       "1107580                1            -73.99            40.73   \n",
       "1141170                1            -74.00            40.76   \n",
       "1093730                1            -73.97            40.79   \n",
       "113965                 2            -73.96            40.80   \n",
       "1084718                1            -74.01            40.71   \n",
       "1382334                2            -73.99            40.76   \n",
       "597833                 3            -73.99            40.73   \n",
       "740091                 1            -73.98            40.76   \n",
       "429029                 1            -73.95            40.71   \n",
       "166918                 1            -73.98            40.76   \n",
       "749125                 1            -73.98            40.69   \n",
       "\n",
       "         dropoff_longitude  dropoff_latitude store_and_fwd_flag  trip_duration  \n",
       "304638              -73.95             40.77                  N          85754  \n",
       "1345729             -73.99             40.75                  N          85014  \n",
       "725322              -73.99             40.76                  N          86352  \n",
       "412504              -73.99             40.75                  N          84891  \n",
       "1127725             -73.99             40.74                  N          85561  \n",
       "1024017             -73.99             40.72                  N          86071  \n",
       "1036503             -73.98             40.76                  N          85726  \n",
       "676625              -73.95             40.78                  N          86101  \n",
       "53235               -73.98             40.75                  N          62441  \n",
       "978958              -73.97             40.76                  N          85575  \n",
       "1099012             -73.98             40.76                  N          84906  \n",
       "467193              -73.96             40.77                  N          86334  \n",
       "21846               -73.99             40.76                  N          86343  \n",
       "1401727             -74.01             40.74                  N          82383  \n",
       "1410545             -73.98             40.69                  N          84896  \n",
       "720225              -73.98             40.75                  N          85180  \n",
       "409530              -73.98             40.62                  N          85716  \n",
       "1067506             -73.99             40.74                  N          85371  \n",
       "1392418             -73.98             40.76                  N          84609  \n",
       "109767              -73.96             40.79                  N          85113  \n",
       "214914              -73.95             40.77                  N          85931  \n",
       "915107              -73.99             40.73                  N          85694  \n",
       "1419671             -73.96             40.77                  N          86323  \n",
       "1141898             -74.00             40.74                  N          85993  \n",
       "1107610             -73.98             40.77                  N          85734  \n",
       "35531               -73.98             40.76                  N          83343  \n",
       "928453              -73.96             40.78                  N          43749  \n",
       "1189242             -73.95             40.78                  N          85314  \n",
       "240027              -73.98             40.73                  N          85683  \n",
       "1292788             -74.01             40.75                  N          86124  \n",
       "...                    ...               ...                ...            ...  \n",
       "350746              -73.96             40.76                  N          86253  \n",
       "350848              -73.97             40.78                  N          86020  \n",
       "940821              -73.86             40.77                  N          85558  \n",
       "1217264             -73.99             40.74                  N          86317  \n",
       "703064              -73.96             40.72                  N          86268  \n",
       "673505              -73.96             40.77                  N          86345  \n",
       "486567              -73.98             40.74                  N          86071  \n",
       "125630              -73.97             40.78                  N          85744  \n",
       "878695              -73.98             40.77                  N          84434  \n",
       "1424171             -73.99             40.77                  N          84774  \n",
       "993440              -73.98             40.76                  N          85297  \n",
       "1072076             -73.96             40.78                  N          86341  \n",
       "119270              -73.99             40.76                  N          86266  \n",
       "822946              -73.97             40.77                  N          83235  \n",
       "1164731             -73.91             40.91                  N          85858  \n",
       "194665              -73.93             40.77                  N          84210  \n",
       "453021              -73.98             40.74                  N          83236  \n",
       "94085               -73.99             40.76                  N          86346  \n",
       "393237              -73.93             40.71                  N          86188  \n",
       "1107580             -74.01             40.71                  N          86355  \n",
       "1141170             -73.97             40.76                  N          85383  \n",
       "1093730             -73.86             40.77                  N          84081  \n",
       "113965              -73.98             40.78                  N          84234  \n",
       "1084718             -73.99             40.76                  N          85737  \n",
       "1382334             -74.00             40.76                  N          85709  \n",
       "597833              -74.01             40.72                  N          85861  \n",
       "740091              -73.98             40.75                  N          86163  \n",
       "429029              -73.99             40.67                  N          85846  \n",
       "166918              -73.99             40.76                  N          84939  \n",
       "749125              -73.96             40.68                  N          86336  \n",
       "\n",
       "[806 rows x 11 columns]"
      ]
     },
     "execution_count": 13,
     "metadata": {},
     "output_type": "execute_result"
    }
   ],
   "source": [
    "# Check exact data -- pickup_longitude, pickup_latitude vs. dropoff_longitude, dropoff_latitude\n",
    "## Did pickup and dropoff locations change? Yes, so keep these records.\n",
    "data[ (data['trip_duration'] <=86392) &\n",
    "    (data['trip_duration'] >=40000)]"
   ]
  },
  {
   "cell_type": "code",
   "execution_count": 15,
   "metadata": {
    "collapsed": true
   },
   "outputs": [],
   "source": [
    "data['trip_duration_min'] = data['trip_duration']/60\n",
    "data['trip_duration_hr'] = data['trip_duration']/60/60"
   ]
  },
  {
   "cell_type": "code",
   "execution_count": 16,
   "metadata": {
    "scrolled": true
   },
   "outputs": [],
   "source": [
    "# Check hour durations to check -- pickup_longitude, pickup_latitude vs. dropoff_longitude, dropoff_latitude\n",
    "data['trip_duration_hr_round'] = round(data['trip_duration_hr'], 0)"
   ]
  },
  {
   "cell_type": "code",
   "execution_count": 16,
   "metadata": {
    "scrolled": true
   },
   "outputs": [
    {
     "data": {
      "text/plain": [
       "0.00      534759\n",
       "1.00       43831\n",
       "2.00         387\n",
       "3.00          25\n",
       "4.00           9\n",
       "5.00           2\n",
       "6.00           5\n",
       "7.00           6\n",
       "8.00           6\n",
       "9.00           3\n",
       "10.00          6\n",
       "11.00          3\n",
       "12.00          5\n",
       "13.00          2\n",
       "14.00          4\n",
       "15.00          7\n",
       "16.00          1\n",
       "17.00          6\n",
       "18.00          3\n",
       "19.00          5\n",
       "20.00          2\n",
       "21.00          8\n",
       "22.00         11\n",
       "23.00        111\n",
       "24.00        640\n",
       "539.00         1\n",
       "980.00         1\n",
       "Name: trip_duration_hr_round, dtype: int64"
      ]
     },
     "execution_count": 16,
     "metadata": {},
     "output_type": "execute_result"
    }
   ],
   "source": [
    "data['trip_duration_hr_round'].value_counts().sort_index()"
   ]
  },
  {
   "cell_type": "code",
   "execution_count": 17,
   "metadata": {
    "scrolled": true
   },
   "outputs": [
    {
     "data": {
      "text/html": [
       "<div>\n",
       "<table border=\"1\" class=\"dataframe\">\n",
       "  <thead>\n",
       "    <tr style=\"text-align: right;\">\n",
       "      <th></th>\n",
       "      <th>id</th>\n",
       "      <th>vendor_id</th>\n",
       "      <th>pickup_datetime</th>\n",
       "      <th>dropoff_datetime</th>\n",
       "      <th>passenger_count</th>\n",
       "      <th>pickup_longitude</th>\n",
       "      <th>pickup_latitude</th>\n",
       "      <th>dropoff_longitude</th>\n",
       "      <th>dropoff_latitude</th>\n",
       "      <th>store_and_fwd_flag</th>\n",
       "      <th>trip_duration</th>\n",
       "      <th>trip_duration_min</th>\n",
       "      <th>trip_duration_hr</th>\n",
       "      <th>trip_duration_hr_round</th>\n",
       "    </tr>\n",
       "  </thead>\n",
       "  <tbody>\n",
       "    <tr>\n",
       "      <th>53235</th>\n",
       "      <td>id3491590</td>\n",
       "      <td>2</td>\n",
       "      <td>2016-02-04 06:39:19</td>\n",
       "      <td>2016-02-05 00:00:00</td>\n",
       "      <td>1</td>\n",
       "      <td>-73.96</td>\n",
       "      <td>40.76</td>\n",
       "      <td>-73.98</td>\n",
       "      <td>40.75</td>\n",
       "      <td>N</td>\n",
       "      <td>62441</td>\n",
       "      <td>1040.68</td>\n",
       "      <td>17.34</td>\n",
       "      <td>17.00</td>\n",
       "    </tr>\n",
       "    <tr>\n",
       "      <th>1022724</th>\n",
       "      <td>id1958739</td>\n",
       "      <td>2</td>\n",
       "      <td>2016-01-22 08:32:16</td>\n",
       "      <td>2016-01-23 00:00:00</td>\n",
       "      <td>2</td>\n",
       "      <td>-73.99</td>\n",
       "      <td>40.72</td>\n",
       "      <td>-74.00</td>\n",
       "      <td>40.71</td>\n",
       "      <td>N</td>\n",
       "      <td>55664</td>\n",
       "      <td>927.73</td>\n",
       "      <td>15.46</td>\n",
       "      <td>15.00</td>\n",
       "    </tr>\n",
       "    <tr>\n",
       "      <th>591284</th>\n",
       "      <td>id3079958</td>\n",
       "      <td>2</td>\n",
       "      <td>2016-01-06 07:13:34</td>\n",
       "      <td>2016-01-07 00:00:00</td>\n",
       "      <td>1</td>\n",
       "      <td>-74.00</td>\n",
       "      <td>40.74</td>\n",
       "      <td>-74.00</td>\n",
       "      <td>40.73</td>\n",
       "      <td>N</td>\n",
       "      <td>60386</td>\n",
       "      <td>1006.43</td>\n",
       "      <td>16.77</td>\n",
       "      <td>17.00</td>\n",
       "    </tr>\n",
       "    <tr>\n",
       "      <th>629692</th>\n",
       "      <td>id2903714</td>\n",
       "      <td>2</td>\n",
       "      <td>2016-01-13 07:29:02</td>\n",
       "      <td>2016-01-14 00:00:00</td>\n",
       "      <td>6</td>\n",
       "      <td>-73.99</td>\n",
       "      <td>40.73</td>\n",
       "      <td>-73.97</td>\n",
       "      <td>40.75</td>\n",
       "      <td>N</td>\n",
       "      <td>59458</td>\n",
       "      <td>990.97</td>\n",
       "      <td>16.52</td>\n",
       "      <td>17.00</td>\n",
       "    </tr>\n",
       "    <tr>\n",
       "      <th>982734</th>\n",
       "      <td>id2601927</td>\n",
       "      <td>2</td>\n",
       "      <td>2016-04-04 09:06:25</td>\n",
       "      <td>2016-04-05 00:00:00</td>\n",
       "      <td>1</td>\n",
       "      <td>-73.86</td>\n",
       "      <td>40.77</td>\n",
       "      <td>-74.01</td>\n",
       "      <td>40.71</td>\n",
       "      <td>N</td>\n",
       "      <td>53615</td>\n",
       "      <td>893.58</td>\n",
       "      <td>14.89</td>\n",
       "      <td>15.00</td>\n",
       "    </tr>\n",
       "    <tr>\n",
       "      <th>989410</th>\n",
       "      <td>id1236461</td>\n",
       "      <td>2</td>\n",
       "      <td>2016-03-13 09:30:57</td>\n",
       "      <td>2016-03-14 00:00:00</td>\n",
       "      <td>1</td>\n",
       "      <td>-73.99</td>\n",
       "      <td>40.74</td>\n",
       "      <td>-74.00</td>\n",
       "      <td>40.75</td>\n",
       "      <td>N</td>\n",
       "      <td>52143</td>\n",
       "      <td>869.05</td>\n",
       "      <td>14.48</td>\n",
       "      <td>14.00</td>\n",
       "    </tr>\n",
       "    <tr>\n",
       "      <th>91585</th>\n",
       "      <td>id0999654</td>\n",
       "      <td>2</td>\n",
       "      <td>2016-03-30 09:39:51</td>\n",
       "      <td>2016-03-31 00:00:00</td>\n",
       "      <td>1</td>\n",
       "      <td>-74.00</td>\n",
       "      <td>40.76</td>\n",
       "      <td>-73.99</td>\n",
       "      <td>40.77</td>\n",
       "      <td>N</td>\n",
       "      <td>51609</td>\n",
       "      <td>860.15</td>\n",
       "      <td>14.34</td>\n",
       "      <td>14.00</td>\n",
       "    </tr>\n",
       "    <tr>\n",
       "      <th>1218724</th>\n",
       "      <td>id3521903</td>\n",
       "      <td>2</td>\n",
       "      <td>2016-01-14 10:25:45</td>\n",
       "      <td>2016-01-15 00:00:00</td>\n",
       "      <td>1</td>\n",
       "      <td>-73.98</td>\n",
       "      <td>40.74</td>\n",
       "      <td>-73.98</td>\n",
       "      <td>40.73</td>\n",
       "      <td>N</td>\n",
       "      <td>48855</td>\n",
       "      <td>814.25</td>\n",
       "      <td>13.57</td>\n",
       "      <td>14.00</td>\n",
       "    </tr>\n",
       "    <tr>\n",
       "      <th>335406</th>\n",
       "      <td>id2224833</td>\n",
       "      <td>1</td>\n",
       "      <td>2016-04-06 21:02:42</td>\n",
       "      <td>2016-04-07 11:35:38</td>\n",
       "      <td>1</td>\n",
       "      <td>-73.78</td>\n",
       "      <td>40.65</td>\n",
       "      <td>-73.79</td>\n",
       "      <td>40.70</td>\n",
       "      <td>N</td>\n",
       "      <td>52376</td>\n",
       "      <td>872.93</td>\n",
       "      <td>14.55</td>\n",
       "      <td>15.00</td>\n",
       "    </tr>\n",
       "    <tr>\n",
       "      <th>1282974</th>\n",
       "      <td>id2297034</td>\n",
       "      <td>2</td>\n",
       "      <td>2016-06-22 06:39:24</td>\n",
       "      <td>2016-06-23 00:00:00</td>\n",
       "      <td>1</td>\n",
       "      <td>-73.98</td>\n",
       "      <td>40.75</td>\n",
       "      <td>-73.99</td>\n",
       "      <td>40.69</td>\n",
       "      <td>N</td>\n",
       "      <td>62436</td>\n",
       "      <td>1040.60</td>\n",
       "      <td>17.34</td>\n",
       "      <td>17.00</td>\n",
       "    </tr>\n",
       "    <tr>\n",
       "      <th>544753</th>\n",
       "      <td>id0138001</td>\n",
       "      <td>2</td>\n",
       "      <td>2016-06-25 10:11:49</td>\n",
       "      <td>2016-06-26 00:00:00</td>\n",
       "      <td>2</td>\n",
       "      <td>-74.00</td>\n",
       "      <td>40.74</td>\n",
       "      <td>-74.00</td>\n",
       "      <td>40.73</td>\n",
       "      <td>N</td>\n",
       "      <td>49691</td>\n",
       "      <td>828.18</td>\n",
       "      <td>13.80</td>\n",
       "      <td>14.00</td>\n",
       "    </tr>\n",
       "    <tr>\n",
       "      <th>1425427</th>\n",
       "      <td>id3740626</td>\n",
       "      <td>2</td>\n",
       "      <td>2016-01-16 09:04:28</td>\n",
       "      <td>2016-01-17 00:00:00</td>\n",
       "      <td>2</td>\n",
       "      <td>-73.96</td>\n",
       "      <td>40.76</td>\n",
       "      <td>-73.99</td>\n",
       "      <td>40.77</td>\n",
       "      <td>N</td>\n",
       "      <td>53732</td>\n",
       "      <td>895.53</td>\n",
       "      <td>14.93</td>\n",
       "      <td>15.00</td>\n",
       "    </tr>\n",
       "    <tr>\n",
       "      <th>1172837</th>\n",
       "      <td>id0703922</td>\n",
       "      <td>2</td>\n",
       "      <td>2016-01-31 09:24:12</td>\n",
       "      <td>2016-02-01 00:00:00</td>\n",
       "      <td>5</td>\n",
       "      <td>-74.00</td>\n",
       "      <td>40.72</td>\n",
       "      <td>-73.78</td>\n",
       "      <td>40.65</td>\n",
       "      <td>N</td>\n",
       "      <td>52548</td>\n",
       "      <td>875.80</td>\n",
       "      <td>14.60</td>\n",
       "      <td>15.00</td>\n",
       "    </tr>\n",
       "    <tr>\n",
       "      <th>366434</th>\n",
       "      <td>id1504206</td>\n",
       "      <td>2</td>\n",
       "      <td>2016-06-01 07:01:10</td>\n",
       "      <td>2016-06-02 00:00:00</td>\n",
       "      <td>1</td>\n",
       "      <td>-73.79</td>\n",
       "      <td>40.64</td>\n",
       "      <td>-74.01</td>\n",
       "      <td>40.71</td>\n",
       "      <td>N</td>\n",
       "      <td>61130</td>\n",
       "      <td>1018.83</td>\n",
       "      <td>16.98</td>\n",
       "      <td>17.00</td>\n",
       "    </tr>\n",
       "    <tr>\n",
       "      <th>887348</th>\n",
       "      <td>id3522881</td>\n",
       "      <td>2</td>\n",
       "      <td>2016-04-20 09:09:36</td>\n",
       "      <td>2016-04-21 00:00:00</td>\n",
       "      <td>1</td>\n",
       "      <td>-73.98</td>\n",
       "      <td>40.77</td>\n",
       "      <td>-73.98</td>\n",
       "      <td>40.78</td>\n",
       "      <td>N</td>\n",
       "      <td>53424</td>\n",
       "      <td>890.40</td>\n",
       "      <td>14.84</td>\n",
       "      <td>15.00</td>\n",
       "    </tr>\n",
       "    <tr>\n",
       "      <th>497795</th>\n",
       "      <td>id3786811</td>\n",
       "      <td>2</td>\n",
       "      <td>2016-04-27 08:40:29</td>\n",
       "      <td>2016-04-28 00:00:00</td>\n",
       "      <td>1</td>\n",
       "      <td>-74.00</td>\n",
       "      <td>40.68</td>\n",
       "      <td>-73.99</td>\n",
       "      <td>40.70</td>\n",
       "      <td>N</td>\n",
       "      <td>55171</td>\n",
       "      <td>919.52</td>\n",
       "      <td>15.33</td>\n",
       "      <td>15.00</td>\n",
       "    </tr>\n",
       "    <tr>\n",
       "      <th>227576</th>\n",
       "      <td>id1478001</td>\n",
       "      <td>2</td>\n",
       "      <td>2016-02-24 07:53:40</td>\n",
       "      <td>2016-02-25 00:00:00</td>\n",
       "      <td>1</td>\n",
       "      <td>-73.94</td>\n",
       "      <td>40.80</td>\n",
       "      <td>-73.94</td>\n",
       "      <td>40.80</td>\n",
       "      <td>N</td>\n",
       "      <td>57980</td>\n",
       "      <td>966.33</td>\n",
       "      <td>16.11</td>\n",
       "      <td>16.00</td>\n",
       "    </tr>\n",
       "    <tr>\n",
       "      <th>1364499</th>\n",
       "      <td>id3206032</td>\n",
       "      <td>2</td>\n",
       "      <td>2016-04-02 06:56:48</td>\n",
       "      <td>2016-04-03 00:00:00</td>\n",
       "      <td>1</td>\n",
       "      <td>-73.98</td>\n",
       "      <td>40.74</td>\n",
       "      <td>-73.96</td>\n",
       "      <td>40.76</td>\n",
       "      <td>N</td>\n",
       "      <td>61392</td>\n",
       "      <td>1023.20</td>\n",
       "      <td>17.05</td>\n",
       "      <td>17.00</td>\n",
       "    </tr>\n",
       "  </tbody>\n",
       "</table>\n",
       "</div>"
      ],
      "text/plain": [
       "                id vendor_id     pickup_datetime    dropoff_datetime  \\\n",
       "53235    id3491590         2 2016-02-04 06:39:19 2016-02-05 00:00:00   \n",
       "1022724  id1958739         2 2016-01-22 08:32:16 2016-01-23 00:00:00   \n",
       "591284   id3079958         2 2016-01-06 07:13:34 2016-01-07 00:00:00   \n",
       "629692   id2903714         2 2016-01-13 07:29:02 2016-01-14 00:00:00   \n",
       "982734   id2601927         2 2016-04-04 09:06:25 2016-04-05 00:00:00   \n",
       "989410   id1236461         2 2016-03-13 09:30:57 2016-03-14 00:00:00   \n",
       "91585    id0999654         2 2016-03-30 09:39:51 2016-03-31 00:00:00   \n",
       "1218724  id3521903         2 2016-01-14 10:25:45 2016-01-15 00:00:00   \n",
       "335406   id2224833         1 2016-04-06 21:02:42 2016-04-07 11:35:38   \n",
       "1282974  id2297034         2 2016-06-22 06:39:24 2016-06-23 00:00:00   \n",
       "544753   id0138001         2 2016-06-25 10:11:49 2016-06-26 00:00:00   \n",
       "1425427  id3740626         2 2016-01-16 09:04:28 2016-01-17 00:00:00   \n",
       "1172837  id0703922         2 2016-01-31 09:24:12 2016-02-01 00:00:00   \n",
       "366434   id1504206         2 2016-06-01 07:01:10 2016-06-02 00:00:00   \n",
       "887348   id3522881         2 2016-04-20 09:09:36 2016-04-21 00:00:00   \n",
       "497795   id3786811         2 2016-04-27 08:40:29 2016-04-28 00:00:00   \n",
       "227576   id1478001         2 2016-02-24 07:53:40 2016-02-25 00:00:00   \n",
       "1364499  id3206032         2 2016-04-02 06:56:48 2016-04-03 00:00:00   \n",
       "\n",
       "         passenger_count  pickup_longitude  pickup_latitude  \\\n",
       "53235                  1            -73.96            40.76   \n",
       "1022724                2            -73.99            40.72   \n",
       "591284                 1            -74.00            40.74   \n",
       "629692                 6            -73.99            40.73   \n",
       "982734                 1            -73.86            40.77   \n",
       "989410                 1            -73.99            40.74   \n",
       "91585                  1            -74.00            40.76   \n",
       "1218724                1            -73.98            40.74   \n",
       "335406                 1            -73.78            40.65   \n",
       "1282974                1            -73.98            40.75   \n",
       "544753                 2            -74.00            40.74   \n",
       "1425427                2            -73.96            40.76   \n",
       "1172837                5            -74.00            40.72   \n",
       "366434                 1            -73.79            40.64   \n",
       "887348                 1            -73.98            40.77   \n",
       "497795                 1            -74.00            40.68   \n",
       "227576                 1            -73.94            40.80   \n",
       "1364499                1            -73.98            40.74   \n",
       "\n",
       "         dropoff_longitude  dropoff_latitude store_and_fwd_flag  \\\n",
       "53235               -73.98             40.75                  N   \n",
       "1022724             -74.00             40.71                  N   \n",
       "591284              -74.00             40.73                  N   \n",
       "629692              -73.97             40.75                  N   \n",
       "982734              -74.01             40.71                  N   \n",
       "989410              -74.00             40.75                  N   \n",
       "91585               -73.99             40.77                  N   \n",
       "1218724             -73.98             40.73                  N   \n",
       "335406              -73.79             40.70                  N   \n",
       "1282974             -73.99             40.69                  N   \n",
       "544753              -74.00             40.73                  N   \n",
       "1425427             -73.99             40.77                  N   \n",
       "1172837             -73.78             40.65                  N   \n",
       "366434              -74.01             40.71                  N   \n",
       "887348              -73.98             40.78                  N   \n",
       "497795              -73.99             40.70                  N   \n",
       "227576              -73.94             40.80                  N   \n",
       "1364499             -73.96             40.76                  N   \n",
       "\n",
       "         trip_duration  trip_duration_min  trip_duration_hr  \\\n",
       "53235            62441            1040.68             17.34   \n",
       "1022724          55664             927.73             15.46   \n",
       "591284           60386            1006.43             16.77   \n",
       "629692           59458             990.97             16.52   \n",
       "982734           53615             893.58             14.89   \n",
       "989410           52143             869.05             14.48   \n",
       "91585            51609             860.15             14.34   \n",
       "1218724          48855             814.25             13.57   \n",
       "335406           52376             872.93             14.55   \n",
       "1282974          62436            1040.60             17.34   \n",
       "544753           49691             828.18             13.80   \n",
       "1425427          53732             895.53             14.93   \n",
       "1172837          52548             875.80             14.60   \n",
       "366434           61130            1018.83             16.98   \n",
       "887348           53424             890.40             14.84   \n",
       "497795           55171             919.52             15.33   \n",
       "227576           57980             966.33             16.11   \n",
       "1364499          61392            1023.20             17.05   \n",
       "\n",
       "         trip_duration_hr_round  \n",
       "53235                     17.00  \n",
       "1022724                   15.00  \n",
       "591284                    17.00  \n",
       "629692                    17.00  \n",
       "982734                    15.00  \n",
       "989410                    14.00  \n",
       "91585                     14.00  \n",
       "1218724                   14.00  \n",
       "335406                    15.00  \n",
       "1282974                   17.00  \n",
       "544753                    14.00  \n",
       "1425427                   15.00  \n",
       "1172837                   15.00  \n",
       "366434                    17.00  \n",
       "887348                    15.00  \n",
       "497795                    15.00  \n",
       "227576                    16.00  \n",
       "1364499                   17.00  "
      ]
     },
     "execution_count": 17,
     "metadata": {},
     "output_type": "execute_result"
    }
   ],
   "source": [
    "# Check exact data -- pickup_longitude, pickup_latitude vs. dropoff_longitude, dropoff_latitude\n",
    "## Did pickup and dropoff locations change? Yes. \n",
    "data[ (data['trip_duration_hr_round'] <=17.00) &\n",
    "    (data['trip_duration_hr_round'] >=14.00)]"
   ]
  },
  {
   "cell_type": "code",
   "execution_count": 8,
   "metadata": {
    "collapsed": true
   },
   "outputs": [],
   "source": [
    "# ELIMINATE OUTLIERS - Remove the two highest \n",
    "data = data[ data['trip_duration'] <=86392]"
   ]
  },
  {
   "cell_type": "code",
   "execution_count": null,
   "metadata": {
    "collapsed": true
   },
   "outputs": [],
   "source": []
  },
  {
   "cell_type": "code",
   "execution_count": null,
   "metadata": {},
   "outputs": [],
   "source": [
    "# Investigate dates - ranges"
   ]
  },
  {
   "cell_type": "code",
   "execution_count": 23,
   "metadata": {},
   "outputs": [
    {
     "data": {
      "text/plain": [
       "<matplotlib.text.Text at 0x7f0e34753240>"
      ]
     },
     "execution_count": 23,
     "metadata": {},
     "output_type": "execute_result"
    },
    {
     "data": {
      "image/png": "[encoded data removed]",
      "text/plain": [
       "<matplotlib.figure.Figure at 0x7f0e42bb9c18>"
      ]
     },
     "metadata": {},
     "output_type": "display_data"
    }
   ],
   "source": [
    "# Doc: https://pandas.pydata.org/pandas-docs/stable/generated/pandas.DataFrame.hist.html\n",
    "data['pickup_datetime'].hist(bins=60, figsize = (12,6))\n",
    "plt.title(\"Pickup_datetime Histogram of Days\")"
   ]
  },
  {
   "cell_type": "code",
   "execution_count": 25,
   "metadata": {},
   "outputs": [
    {
     "data": {
      "text/plain": [
       "<matplotlib.text.Text at 0x7f0e32c0fdd8>"
      ]
     },
     "execution_count": 25,
     "metadata": {},
     "output_type": "execute_result"
    },
    {
     "data": {
      "image/png": "[encoded data removed]",
      "text/plain": [
       "<matplotlib.figure.Figure at 0x7f0e2bc195f8>"
      ]
     },
     "metadata": {},
     "output_type": "display_data"
    }
   ],
   "source": [
    "data['dropoff_datetime'].hist(bins=60,figsize = (12,6))\n",
    "plt.title(\"Dropoff_datetime Histogram of Days\")"
   ]
  },
  {
   "cell_type": "code",
   "execution_count": 24,
   "metadata": {},
   "outputs": [
    {
     "data": {
      "text/plain": [
       "<matplotlib.text.Text at 0x7f0e3369bf60>"
      ]
     },
     "execution_count": 24,
     "metadata": {},
     "output_type": "execute_result"
    },
    {
     "data": {
      "image/png": "[encoded data removed]",
      "text/plain": [
       "<matplotlib.figure.Figure at 0x7f0e33a54b70>"
      ]
     },
     "metadata": {},
     "output_type": "display_data"
    }
   ],
   "source": [
    "# Doc: https://pandas.pydata.org/pandas-docs/stable/basics.html#basics-dt-accessors\n",
    "data['pickup_datetime'].dt.hour.hist(bins=24,figsize = (12,6))\n",
    "plt.title(\"Pickup_datetime Histogram of Hours\")"
   ]
  },
  {
   "cell_type": "code",
   "execution_count": 26,
   "metadata": {},
   "outputs": [
    {
     "data": {
      "text/plain": [
       "<matplotlib.text.Text at 0x7f0e31b5f780>"
      ]
     },
     "execution_count": 26,
     "metadata": {},
     "output_type": "execute_result"
    },
    {
     "data": {
      "image/png": "[encoded data removed]",
      "text/plain": [
       "<matplotlib.figure.Figure at 0x7f0e31e6f518>"
      ]
     },
     "metadata": {},
     "output_type": "display_data"
    }
   ],
   "source": [
    "data['dropoff_datetime'].dt.hour.hist(bins=24,figsize = (12,6))\n",
    "plt.title(\"Dropoff_datetime Histogram of Hours\")"
   ]
  },
  {
   "cell_type": "code",
   "execution_count": 21,
   "metadata": {},
   "outputs": [
    {
     "data": {
      "text/plain": [
       "<matplotlib.text.Text at 0x7f8934356748>"
      ]
     },
     "execution_count": 21,
     "metadata": {},
     "output_type": "execute_result"
    },
    {
     "data": {
      "image/png": "[encoded data removed]",
      "text/plain": [
       "<matplotlib.figure.Figure at 0x7f893493f128>"
      ]
     },
     "metadata": {},
     "output_type": "display_data"
    }
   ],
   "source": [
    "data['pickup_datetime'].dt.month.hist(bins= 12,figsize = (12,6))\n",
    "plt.title(\"Pickup_datetime Histogram of Months\")"
   ]
  },
  {
   "cell_type": "code",
   "execution_count": 20,
   "metadata": {},
   "outputs": [
    {
     "data": {
      "text/plain": [
       "<matplotlib.text.Text at 0x7f89343c6828>"
      ]
     },
     "execution_count": 20,
     "metadata": {},
     "output_type": "execute_result"
    },
    {
     "data": {
      "image/png": "[encoded data removed]",
      "text/plain": [
       "<matplotlib.figure.Figure at 0x7f89344625f8>"
      ]
     },
     "metadata": {},
     "output_type": "display_data"
    }
   ],
   "source": [
    "data['dropoff_datetime'].dt.month.hist(bins= 12,figsize = (12,6))\n",
    "plt.title(\"Dropoff_datetime Histogram of Months\")"
   ]
  },
  {
   "cell_type": "code",
   "execution_count": 95,
   "metadata": {},
   "outputs": [
    {
     "data": {
      "text/plain": [
       "<matplotlib.text.Text at 0x7f0e2d538240>"
      ]
     },
     "execution_count": 95,
     "metadata": {},
     "output_type": "execute_result"
    },
    {
     "data": {
      "image/png": "[encoded data removed]",
      "text/plain": [
       "<matplotlib.figure.Figure at 0x7f0e2d50a208>"
      ]
     },
     "metadata": {},
     "output_type": "display_data"
    }
   ],
   "source": [
    "# Doc: https://pandas.pydata.org/pandas-docs/stable/generated/pandas.DatetimeIndex.weekday.html\n",
    "\n",
    "## Monday=0, Sunday=6\n",
    "data['pickup_datetime'].dt.weekday.hist(bins= 12,figsize = (12,6))\n",
    "plt.title(\"Pickup_datetime Histogram of weekday\")"
   ]
  },
  {
   "cell_type": "code",
   "execution_count": 19,
   "metadata": {},
   "outputs": [
    {
     "data": {
      "text/plain": [
       "<matplotlib.text.Text at 0x7f8934431c18>"
      ]
     },
     "execution_count": 19,
     "metadata": {},
     "output_type": "execute_result"
    },
    {
     "data": {
      "image/png": "[encoded data removed]",
      "text/plain": [
       "<matplotlib.figure.Figure at 0x7f893493ada0>"
      ]
     },
     "metadata": {},
     "output_type": "display_data"
    }
   ],
   "source": [
    "data['dropoff_datetime'].dt.weekday.hist(bins= 12,figsize = (12,6))\n",
    "plt.title(\"Dropoff_datetime Histogram of weekday\")"
   ]
  },
  {
   "cell_type": "markdown",
   "metadata": {},
   "source": [
    "**Observations**\n",
    " - Pickup and dropoff ride counts tend to be lowest during the hour range between 1:00 and 6:00.\n",
    " - Pickup and dropoff ride counts tend to be highest during the evening hours closer to 20:00 and 24:00. \n",
    " - Pickup and dropoff ride counts tend to be similar across months."
   ]
  },
  {
   "cell_type": "code",
   "execution_count": null,
   "metadata": {
    "collapsed": true
   },
   "outputs": [],
   "source": []
  },
  {
   "cell_type": "code",
   "execution_count": 22,
   "metadata": {},
   "outputs": [
    {
     "data": {
      "text/plain": [
       "<matplotlib.axes._subplots.AxesSubplot at 0x7f8929634a90>"
      ]
     },
     "execution_count": 22,
     "metadata": {},
     "output_type": "execute_result"
    },
    {
     "data": {
      "image/png": "[encoded data removed]",
      "text/plain": [
       "<matplotlib.figure.Figure at 0x7f8929634080>"
      ]
     },
     "metadata": {},
     "output_type": "display_data"
    }
   ],
   "source": [
    "# Investigate number of vendors\n",
    "# Doc: https://seaborn.pydata.org/generated/seaborn.countplot.html\n",
    "plt.figure(figsize=(12,6))\n",
    "plt.title(\"Vendor ID Counts\")\n",
    "sns.countplot(x = 'vendor_id', data = data )"
   ]
  },
  {
   "cell_type": "markdown",
   "metadata": {},
   "source": [
    "**Observations**\n",
    " - Fairly even counts between vendor ids"
   ]
  },
  {
   "cell_type": "code",
   "execution_count": 23,
   "metadata": {},
   "outputs": [
    {
     "data": {
      "text/plain": [
       "<matplotlib.axes._subplots.AxesSubplot at 0x7f8929611c50>"
      ]
     },
     "execution_count": 23,
     "metadata": {},
     "output_type": "execute_result"
    },
    {
     "data": {
      "image/png": "[encoded data removed]",
      "text/plain": [
       "<matplotlib.figure.Figure at 0x7f8929611d30>"
      ]
     },
     "metadata": {},
     "output_type": "display_data"
    }
   ],
   "source": [
    "# Investigate store_and_fwd_flag\n",
    "plt.figure(figsize=(12,6))\n",
    "plt.title(\"Store and Fwd Flag Counts\")\n",
    "sns.countplot(x = 'store_and_fwd_flag', data = data )"
   ]
  },
  {
   "cell_type": "markdown",
   "metadata": {
    "collapsed": true
   },
   "source": [
    "**Observations**\n",
    " - This variable skews towards N"
   ]
  },
  {
   "cell_type": "code",
   "execution_count": null,
   "metadata": {
    "collapsed": true
   },
   "outputs": [],
   "source": [
    "# Investigate pickup and dropoff long/lats"
   ]
  },
  {
   "cell_type": "code",
   "execution_count": 35,
   "metadata": {
    "scrolled": true
   },
   "outputs": [
    {
     "data": {
      "text/plain": [
       "<matplotlib.axes._subplots.AxesSubplot at 0x7f0e2d274a90>"
      ]
     },
     "execution_count": 35,
     "metadata": {},
     "output_type": "execute_result"
    },
    {
     "data": {
      "image/png": "[encoded data removed]",
      "text/plain": [
       "<matplotlib.figure.Figure at 0x7f0e3053f518>"
      ]
     },
     "metadata": {},
     "output_type": "display_data"
    }
   ],
   "source": [
    "# https://pandas.pydata.org/pandas-docs/stable/generated/pandas.DataFrame.plot.scatter.html\n",
    "data.plot.scatter(x = 'pickup_longitude',\n",
    "                 y = 'pickup_latitude',\n",
    "                 c = 'DarkBlue',\n",
    "                 figsize = (12,6))\n"
   ]
  },
  {
   "cell_type": "code",
   "execution_count": 38,
   "metadata": {},
   "outputs": [
    {
     "data": {
      "text/plain": [
       "<matplotlib.axes._subplots.AxesSubplot at 0x7f0e2d1faa20>"
      ]
     },
     "execution_count": 38,
     "metadata": {},
     "output_type": "execute_result"
    },
    {
     "data": {
      "image/png": "[encoded data removed]",
      "text/plain": [
       "<matplotlib.figure.Figure at 0x7f0e2d244c50>"
      ]
     },
     "metadata": {},
     "output_type": "display_data"
    }
   ],
   "source": [
    "# https://pandas.pydata.org/pandas-docs/stable/generated/pandas.DataFrame.plot.scatter.html\n",
    "data.plot.scatter(x = 'dropoff_longitude',\n",
    "                 y = 'dropoff_latitude',\n",
    "                 c = 'DarkBlue', figsize = (12,6))"
   ]
  },
  {
   "cell_type": "code",
   "execution_count": 39,
   "metadata": {},
   "outputs": [
    {
     "data": {
      "image/jpeg": "[encoded data removed]",
      "text/plain": [
       "<IPython.core.display.Image object>"
      ]
     },
     "execution_count": 39,
     "metadata": {
      "image/jpeg": {
       "height": 500,
       "width": 650
      }
     },
     "output_type": "execute_result"
    }
   ],
   "source": [
    "# A lot is concentrated in the manhattan area\n",
    "from IPython.display import Image\n",
    "from IPython.core.display import HTML \n",
    "\n",
    "# https://upload.wikimedia.org/wikipedia/commons/3/33/Usgs_photo_New_York_five_boroughs.jpg\n",
    "Image(filename='Usgs_photo_New_York_five_boroughs.jpg',\n",
    "     width = 650,\n",
    "     height = 500)"
   ]
  },
  {
   "cell_type": "code",
   "execution_count": 40,
   "metadata": {},
   "outputs": [
    {
     "data": {
      "image/jpeg": "[encoded data removed]",
      "text/plain": [
       "<IPython.core.display.Image object>"
      ]
     },
     "execution_count": 40,
     "metadata": {
      "image/jpeg": {
       "height": 500,
       "width": 650
      }
     },
     "output_type": "execute_result"
    }
   ],
   "source": [
    "# Image source: \n",
    "#  https://seaandskyny.files.wordpress.com/2012/03/meanvel1_tidal_manhattano.jpg\n",
    "Image(filename='meanvel1_tidal_manhattano.jpg',\n",
    "     width = 650,\n",
    "     height = 500)"
   ]
  },
  {
   "cell_type": "code",
   "execution_count": 41,
   "metadata": {},
   "outputs": [
    {
     "data": {
      "text/plain": [
       "<matplotlib.axes._subplots.AxesSubplot at 0x7f0e287f1d30>"
      ]
     },
     "execution_count": 41,
     "metadata": {},
     "output_type": "execute_result"
    },
    {
     "data": {
      "image/png": "[encoded data removed]",
      "text/plain": [
       "<matplotlib.figure.Figure at 0x7f0e2d26cd30>"
      ]
     },
     "metadata": {},
     "output_type": "display_data"
    }
   ],
   "source": [
    "# Remove outlier from plot\n",
    "data[(data['pickup_longitude'] > -74.5) & \n",
    "     (data['pickup_longitude'] < -73) & \n",
    "     (data['pickup_latitude'] > 39) &\n",
    "    (data['pickup_latitude'] < 41) \n",
    "    ].plot.scatter(\n",
    "    x = 'pickup_longitude',\n",
    "    y = 'pickup_latitude' ,\n",
    "    c = 'DarkBlue', figsize = (12,6))"
   ]
  },
  {
   "cell_type": "code",
   "execution_count": 42,
   "metadata": {},
   "outputs": [
    {
     "data": {
      "text/plain": [
       "<matplotlib.axes._subplots.AxesSubplot at 0x7f0e2d2bb630>"
      ]
     },
     "execution_count": 42,
     "metadata": {},
     "output_type": "execute_result"
    },
    {
     "data": {
      "image/png": "[encoded data removed]",
      "text/plain": [
       "<matplotlib.figure.Figure at 0x7f0dffdcf240>"
      ]
     },
     "metadata": {},
     "output_type": "display_data"
    }
   ],
   "source": [
    "# https://pandas.pydata.org/pandas-docs/stable/generated/pandas.DataFrame.plot.scatter.html\n",
    "data[(data['dropoff_longitude'] > -74.5) & \n",
    "     (data['dropoff_longitude'] < -73) & \n",
    "     (data['dropoff_latitude'] > 39) &\n",
    "    (data['dropoff_latitude'] < 41) ].plot.scatter(\n",
    "    x = 'dropoff_longitude',\n",
    "    y = 'dropoff_latitude',\n",
    "    c = 'DarkBlue', figsize = (12,6))\n"
   ]
  },
  {
   "cell_type": "markdown",
   "metadata": {
    "collapsed": true
   },
   "source": [
    "**Observations**\n",
    " - The majority of rides orginate and drop off at Manhattan as confirmed by online maps."
   ]
  },
  {
   "cell_type": "code",
   "execution_count": null,
   "metadata": {
    "collapsed": true
   },
   "outputs": [],
   "source": []
  },
  {
   "cell_type": "markdown",
   "metadata": {},
   "source": [
    "# Initial Model"
   ]
  },
  {
   "cell_type": "code",
   "execution_count": 9,
   "metadata": {},
   "outputs": [
    {
     "data": {
      "text/plain": [
       "Index(['id', 'vendor_id', 'pickup_datetime', 'dropoff_datetime',\n",
       "       'passenger_count', 'pickup_longitude', 'pickup_latitude',\n",
       "       'dropoff_longitude', 'dropoff_latitude', 'store_and_fwd_flag',\n",
       "       'trip_duration'],\n",
       "      dtype='object')"
      ]
     },
     "execution_count": 9,
     "metadata": {},
     "output_type": "execute_result"
    }
   ],
   "source": [
    "data.columns"
   ]
  },
  {
   "cell_type": "code",
   "execution_count": 10,
   "metadata": {},
   "outputs": [
    {
     "data": {
      "text/html": [
       "<div>\n",
       "<table border=\"1\" class=\"dataframe\">\n",
       "  <thead>\n",
       "    <tr style=\"text-align: right;\">\n",
       "      <th></th>\n",
       "      <th>1</th>\n",
       "      <th>2</th>\n",
       "    </tr>\n",
       "  </thead>\n",
       "  <tbody>\n",
       "    <tr>\n",
       "      <th>583100</th>\n",
       "      <td>1</td>\n",
       "      <td>0</td>\n",
       "    </tr>\n",
       "    <tr>\n",
       "      <th>1320440</th>\n",
       "      <td>1</td>\n",
       "      <td>0</td>\n",
       "    </tr>\n",
       "    <tr>\n",
       "      <th>358078</th>\n",
       "      <td>0</td>\n",
       "      <td>1</td>\n",
       "    </tr>\n",
       "    <tr>\n",
       "      <th>1118733</th>\n",
       "      <td>0</td>\n",
       "      <td>1</td>\n",
       "    </tr>\n",
       "    <tr>\n",
       "      <th>110409</th>\n",
       "      <td>0</td>\n",
       "      <td>1</td>\n",
       "    </tr>\n",
       "  </tbody>\n",
       "</table>\n",
       "</div>"
      ],
      "text/plain": [
       "         1  2\n",
       "583100   1  0\n",
       "1320440  1  0\n",
       "358078   0  1\n",
       "1118733  0  1\n",
       "110409   0  1"
      ]
     },
     "execution_count": 10,
     "metadata": {},
     "output_type": "execute_result"
    }
   ],
   "source": [
    "vendor_id_dummies = pd.get_dummies(data.vendor_id)\n",
    "vendor_id_dummies.head()"
   ]
  },
  {
   "cell_type": "code",
   "execution_count": 11,
   "metadata": {},
   "outputs": [
    {
     "data": {
      "text/html": [
       "<div>\n",
       "<table border=\"1\" class=\"dataframe\">\n",
       "  <thead>\n",
       "    <tr style=\"text-align: right;\">\n",
       "      <th></th>\n",
       "      <th>N</th>\n",
       "      <th>Y</th>\n",
       "    </tr>\n",
       "  </thead>\n",
       "  <tbody>\n",
       "    <tr>\n",
       "      <th>583100</th>\n",
       "      <td>1</td>\n",
       "      <td>0</td>\n",
       "    </tr>\n",
       "    <tr>\n",
       "      <th>1320440</th>\n",
       "      <td>1</td>\n",
       "      <td>0</td>\n",
       "    </tr>\n",
       "    <tr>\n",
       "      <th>358078</th>\n",
       "      <td>1</td>\n",
       "      <td>0</td>\n",
       "    </tr>\n",
       "    <tr>\n",
       "      <th>1118733</th>\n",
       "      <td>1</td>\n",
       "      <td>0</td>\n",
       "    </tr>\n",
       "    <tr>\n",
       "      <th>110409</th>\n",
       "      <td>1</td>\n",
       "      <td>0</td>\n",
       "    </tr>\n",
       "  </tbody>\n",
       "</table>\n",
       "</div>"
      ],
      "text/plain": [
       "         N  Y\n",
       "583100   1  0\n",
       "1320440  1  0\n",
       "358078   1  0\n",
       "1118733  1  0\n",
       "110409   1  0"
      ]
     },
     "execution_count": 11,
     "metadata": {},
     "output_type": "execute_result"
    }
   ],
   "source": [
    "store_and_fwd_flag_dummies = pd.get_dummies(data.store_and_fwd_flag)\n",
    "store_and_fwd_flag_dummies.head()"
   ]
  },
  {
   "cell_type": "code",
   "execution_count": 12,
   "metadata": {},
   "outputs": [],
   "source": [
    "data['vendor_id_1'] = vendor_id_dummies.iloc[:,0]\n",
    "data['vendor_id_2'] = vendor_id_dummies.iloc[:,1]\n",
    "\n",
    "data['store_and_fwd_flag_N'] = store_and_fwd_flag_dummies.iloc[:,0]\n",
    "data['store_and_fwd_flag_Y'] = store_and_fwd_flag_dummies.iloc[:,1]"
   ]
  },
  {
   "cell_type": "code",
   "execution_count": 13,
   "metadata": {},
   "outputs": [
    {
     "data": {
      "text/html": [
       "<div>\n",
       "<table border=\"1\" class=\"dataframe\">\n",
       "  <thead>\n",
       "    <tr style=\"text-align: right;\">\n",
       "      <th></th>\n",
       "      <th>id</th>\n",
       "      <th>vendor_id</th>\n",
       "      <th>pickup_datetime</th>\n",
       "      <th>dropoff_datetime</th>\n",
       "      <th>passenger_count</th>\n",
       "      <th>pickup_longitude</th>\n",
       "      <th>pickup_latitude</th>\n",
       "      <th>dropoff_longitude</th>\n",
       "      <th>dropoff_latitude</th>\n",
       "      <th>store_and_fwd_flag</th>\n",
       "      <th>trip_duration</th>\n",
       "      <th>vendor_id_1</th>\n",
       "      <th>vendor_id_2</th>\n",
       "      <th>store_and_fwd_flag_N</th>\n",
       "      <th>store_and_fwd_flag_Y</th>\n",
       "    </tr>\n",
       "  </thead>\n",
       "  <tbody>\n",
       "    <tr>\n",
       "      <th>583100</th>\n",
       "      <td>id3879397</td>\n",
       "      <td>1</td>\n",
       "      <td>2016-06-02 17:46:16</td>\n",
       "      <td>2016-06-02 18:22:26</td>\n",
       "      <td>1</td>\n",
       "      <td>-73.99</td>\n",
       "      <td>40.73</td>\n",
       "      <td>-73.97</td>\n",
       "      <td>40.78</td>\n",
       "      <td>N</td>\n",
       "      <td>2170</td>\n",
       "      <td>1</td>\n",
       "      <td>0</td>\n",
       "      <td>1</td>\n",
       "      <td>0</td>\n",
       "    </tr>\n",
       "    <tr>\n",
       "      <th>1320440</th>\n",
       "      <td>id0701659</td>\n",
       "      <td>1</td>\n",
       "      <td>2016-03-02 10:07:11</td>\n",
       "      <td>2016-03-02 10:20:39</td>\n",
       "      <td>1</td>\n",
       "      <td>-73.98</td>\n",
       "      <td>40.76</td>\n",
       "      <td>-73.99</td>\n",
       "      <td>40.75</td>\n",
       "      <td>N</td>\n",
       "      <td>808</td>\n",
       "      <td>1</td>\n",
       "      <td>0</td>\n",
       "      <td>1</td>\n",
       "      <td>0</td>\n",
       "    </tr>\n",
       "    <tr>\n",
       "      <th>358078</th>\n",
       "      <td>id3093367</td>\n",
       "      <td>2</td>\n",
       "      <td>2016-02-17 17:18:27</td>\n",
       "      <td>2016-02-17 18:21:34</td>\n",
       "      <td>2</td>\n",
       "      <td>-73.78</td>\n",
       "      <td>40.64</td>\n",
       "      <td>-73.99</td>\n",
       "      <td>40.75</td>\n",
       "      <td>N</td>\n",
       "      <td>3787</td>\n",
       "      <td>0</td>\n",
       "      <td>1</td>\n",
       "      <td>1</td>\n",
       "      <td>0</td>\n",
       "    </tr>\n",
       "    <tr>\n",
       "      <th>1118733</th>\n",
       "      <td>id0727316</td>\n",
       "      <td>2</td>\n",
       "      <td>2016-03-17 07:30:59</td>\n",
       "      <td>2016-03-17 07:42:18</td>\n",
       "      <td>1</td>\n",
       "      <td>-73.96</td>\n",
       "      <td>40.78</td>\n",
       "      <td>-73.98</td>\n",
       "      <td>40.74</td>\n",
       "      <td>N</td>\n",
       "      <td>679</td>\n",
       "      <td>0</td>\n",
       "      <td>1</td>\n",
       "      <td>1</td>\n",
       "      <td>0</td>\n",
       "    </tr>\n",
       "    <tr>\n",
       "      <th>110409</th>\n",
       "      <td>id2137873</td>\n",
       "      <td>2</td>\n",
       "      <td>2016-04-20 17:15:26</td>\n",
       "      <td>2016-04-20 18:01:57</td>\n",
       "      <td>6</td>\n",
       "      <td>-73.79</td>\n",
       "      <td>40.65</td>\n",
       "      <td>-73.95</td>\n",
       "      <td>40.81</td>\n",
       "      <td>N</td>\n",
       "      <td>2791</td>\n",
       "      <td>0</td>\n",
       "      <td>1</td>\n",
       "      <td>1</td>\n",
       "      <td>0</td>\n",
       "    </tr>\n",
       "  </tbody>\n",
       "</table>\n",
       "</div>"
      ],
      "text/plain": [
       "                id vendor_id     pickup_datetime    dropoff_datetime  \\\n",
       "583100   id3879397         1 2016-06-02 17:46:16 2016-06-02 18:22:26   \n",
       "1320440  id0701659         1 2016-03-02 10:07:11 2016-03-02 10:20:39   \n",
       "358078   id3093367         2 2016-02-17 17:18:27 2016-02-17 18:21:34   \n",
       "1118733  id0727316         2 2016-03-17 07:30:59 2016-03-17 07:42:18   \n",
       "110409   id2137873         2 2016-04-20 17:15:26 2016-04-20 18:01:57   \n",
       "\n",
       "         passenger_count  pickup_longitude  pickup_latitude  \\\n",
       "583100                 1            -73.99            40.73   \n",
       "1320440                1            -73.98            40.76   \n",
       "358078                 2            -73.78            40.64   \n",
       "1118733                1            -73.96            40.78   \n",
       "110409                 6            -73.79            40.65   \n",
       "\n",
       "         dropoff_longitude  dropoff_latitude store_and_fwd_flag  \\\n",
       "583100              -73.97             40.78                  N   \n",
       "1320440             -73.99             40.75                  N   \n",
       "358078              -73.99             40.75                  N   \n",
       "1118733             -73.98             40.74                  N   \n",
       "110409              -73.95             40.81                  N   \n",
       "\n",
       "         trip_duration  vendor_id_1  vendor_id_2  store_and_fwd_flag_N  \\\n",
       "583100            2170            1            0                     1   \n",
       "1320440            808            1            0                     1   \n",
       "358078            3787            0            1                     1   \n",
       "1118733            679            0            1                     1   \n",
       "110409            2791            0            1                     1   \n",
       "\n",
       "         store_and_fwd_flag_Y  \n",
       "583100                      0  \n",
       "1320440                     0  \n",
       "358078                      0  \n",
       "1118733                     0  \n",
       "110409                      0  "
      ]
     },
     "execution_count": 13,
     "metadata": {},
     "output_type": "execute_result"
    }
   ],
   "source": [
    "## Convert the categorical variables to be usable by regression\n",
    "data.head()"
   ]
  },
  {
   "cell_type": "code",
   "execution_count": 17,
   "metadata": {},
   "outputs": [],
   "source": [
    "# Preparing the dataset for the initial model\n",
    "## Remove id as it is unique for each row: no correlational patterns for model predictions.\n",
    "## Remove variations of trip_duration and keeping the trip_duration_hr for prediction\n",
    "## Dropoff variables are not available to predict trip_duration as input data, \n",
    "#### but approx. of longitude and latitude might be available ahead of time.\n",
    "#### This information is not available at that time.\n",
    "## Remove 'pickup_datetime' in the initial model as further feature engineering \n",
    "#### will be done later.\n",
    "\n",
    "input_variables = ['pickup_longitude', 'pickup_latitude',\n",
    "          'dropoff_longitude', 'dropoff_latitude',\n",
    "          'vendor_id_1', 'vendor_id_2',\n",
    "          'store_and_fwd_flag_N', 'store_and_fwd_flag_Y',\n",
    "          'passenger_count']\n",
    "\n",
    "y = data.trip_duration_hr\n",
    "\n",
    "X = data[input_variables].values"
   ]
  },
  {
   "cell_type": "code",
   "execution_count": 18,
   "metadata": {},
   "outputs": [
    {
     "name": "stdout",
     "output_type": "stream",
     "text": [
      "0.18.1\n"
     ]
    }
   ],
   "source": [
    "# Doc: http://scikit-learn.org/stable/modules/generated/sklearn.model_selection.train_test_split.html\n",
    "from sklearn.model_selection import train_test_split\n",
    "import sklearn\n",
    "print(sklearn.__version__)"
   ]
  },
  {
   "cell_type": "code",
   "execution_count": 21,
   "metadata": {
    "collapsed": true
   },
   "outputs": [],
   "source": [
    "X_train, X_test, y_train, y_test = train_test_split( X, y, \n",
    "                                                    test_size=0.1, \n",
    "                                                    random_state=42)"
   ]
  },
  {
   "cell_type": "code",
   "execution_count": 22,
   "metadata": {},
   "outputs": [
    {
     "name": "stdout",
     "output_type": "stream",
     "text": [
      "(525081, 9)\n",
      "(525081,)\n",
      "\n",
      "(58343, 9)\n",
      "(58343,)\n"
     ]
    }
   ],
   "source": [
    "print(X_train.shape)\n",
    "print(y_train.shape)\n",
    "print()\n",
    "print(X_test.shape)\n",
    "print(y_test.shape)"
   ]
  },
  {
   "cell_type": "code",
   "execution_count": 24,
   "metadata": {},
   "outputs": [],
   "source": [
    "# Doc: http://scikit-learn.org/stable/auto_examples/linear_model/plot_ols.html\n",
    "from sklearn.linear_model import LinearRegression"
   ]
  },
  {
   "cell_type": "code",
   "execution_count": 25,
   "metadata": {
    "collapsed": true
   },
   "outputs": [],
   "source": [
    "regression = LinearRegression()"
   ]
  },
  {
   "cell_type": "code",
   "execution_count": 26,
   "metadata": {},
   "outputs": [
    {
     "data": {
      "text/plain": [
       "LinearRegression(copy_X=True, fit_intercept=True, n_jobs=1, normalize=False)"
      ]
     },
     "execution_count": 26,
     "metadata": {},
     "output_type": "execute_result"
    }
   ],
   "source": [
    "# Train the model using the training sets\n",
    "regression.fit(X_train, y_train)"
   ]
  },
  {
   "cell_type": "code",
   "execution_count": 27,
   "metadata": {
    "scrolled": true
   },
   "outputs": [
    {
     "name": "stdout",
     "output_type": "stream",
     "text": [
      "Variables names: \n",
      " ['pickup_longitude', 'pickup_latitude', 'dropoff_longitude', 'dropoff_latitude', 'vendor_id_1', 'vendor_id_2', 'store_and_fwd_flag_N', 'store_and_fwd_flag_Y', 'passenger_count']\n",
      "Coefficients: \n",
      " [ 0.43900753 -1.08816589 -0.16662854 -0.44334594 -0.03077885  0.03077885\n",
      " -0.02889636  0.02889636  0.00193984]\n"
     ]
    }
   ],
   "source": [
    "# The coefficients\n",
    "print(\"Variables names: \\n\", input_variables) \n",
    "print('Coefficients: \\n', regression.coef_)"
   ]
  },
  {
   "cell_type": "code",
   "execution_count": null,
   "metadata": {
    "collapsed": true
   },
   "outputs": [],
   "source": []
  },
  {
   "cell_type": "markdown",
   "metadata": {},
   "source": [
    "# Evaluation"
   ]
  },
  {
   "cell_type": "code",
   "execution_count": 28,
   "metadata": {},
   "outputs": [],
   "source": [
    "# Doc: http://scikit-learn.org/stable/auto_examples/linear_model/plot_ols.html\n",
    "from sklearn.metrics import mean_squared_error, r2_score\n",
    "from sklearn.model_selection import cross_val_score"
   ]
  },
  {
   "cell_type": "code",
   "execution_count": 29,
   "metadata": {
    "scrolled": true
   },
   "outputs": [
    {
     "name": "stdout",
     "output_type": "stream",
     "text": [
      "Mean R2 on 10-CV: 0.00413170870269\n",
      "Mean MSE on 10-CV: -0.763266841046\n"
     ]
    }
   ],
   "source": [
    "# Doc: http://scikit-learn.org/stable/modules/generated/sklearn.model_selection.cross_validate.html\n",
    "scores = cross_val_score(regression, X_train, y_train, \n",
    "                        cv=10,\n",
    "                        scoring='r2')\n",
    "print(\"Mean R2 on 10-CV: \" + str(np.mean(scores))) \n",
    "scores = cross_val_score(regression, X_train, y_train, \n",
    "                        cv=10,\n",
    "                        scoring='neg_mean_squared_error')\n",
    "print(\"Mean MSE on 10-CV: \" + str(np.mean(scores)))"
   ]
  },
  {
   "cell_type": "code",
   "execution_count": 30,
   "metadata": {
    "collapsed": true
   },
   "outputs": [],
   "source": [
    "# Train data predictions\n",
    "train_y_pred = regression.predict(X_train)"
   ]
  },
  {
   "cell_type": "code",
   "execution_count": 31,
   "metadata": {
    "collapsed": true
   },
   "outputs": [],
   "source": [
    "# Testing data predictions\n",
    "test_y_pred = regression.predict(X_test)"
   ]
  },
  {
   "cell_type": "code",
   "execution_count": 32,
   "metadata": {},
   "outputs": [
    {
     "name": "stdout",
     "output_type": "stream",
     "text": [
      "Mean squared error: 0.7628\n",
      "Variance score: 0.0048\n"
     ]
    }
   ],
   "source": [
    "# Evaluation on training data\n",
    "print(\"Mean squared error: %.4f\"\n",
    "      % mean_squared_error(y_train, train_y_pred))\n",
    "# Explained variance score: 1 is perfect prediction\n",
    "print('Variance score: %.4f' % r2_score(y_train, train_y_pred))"
   ]
  },
  {
   "cell_type": "code",
   "execution_count": 33,
   "metadata": {},
   "outputs": [
    {
     "name": "stdout",
     "output_type": "stream",
     "text": [
      "Mean squared error: 0.8879\n",
      "Variance score: 0.0044\n"
     ]
    }
   ],
   "source": [
    "# Evaluation on testing data\n",
    "print(\"Mean squared error: %.4f\"\n",
    "      % mean_squared_error(y_test, test_y_pred))\n",
    "# Explained variance score: 1 is perfect prediction\n",
    "print('Variance score: %.4f' % r2_score(y_test, test_y_pred))"
   ]
  },
  {
   "cell_type": "code",
   "execution_count": null,
   "metadata": {
    "collapsed": true
   },
   "outputs": [],
   "source": []
  },
  {
   "cell_type": "markdown",
   "metadata": {},
   "source": [
    "# Feature Engineering"
   ]
  },
  {
   "cell_type": "code",
   "execution_count": 34,
   "metadata": {
    "collapsed": true
   },
   "outputs": [],
   "source": [
    "# Just latitude and longitude in the model might not be useful\n",
    "## Based on the data exploration\n",
    "## New feature highlights Manhattan as the pickup and dropoff location\n",
    "### Only travel within Manhattan\n",
    "def travel_within_manhattan(row):\n",
    "    if  40.70 < row['dropoff_latitude'] < 40.87 and \\\n",
    "    -74.05 < row['dropoff_longitude'] < -73.94 and \\\n",
    "    40.70 < row['pickup_latitude'] < 40.87 and \\\n",
    "    -74.05 < row['pickup_longitude'] < -73.94:\n",
    "        return 1\n",
    "    else:\n",
    "        return 0\n",
    "    \n",
    "data['within_manhattan'] = data.apply(travel_within_manhattan, axis = 1)"
   ]
  },
  {
   "cell_type": "code",
   "execution_count": 35,
   "metadata": {},
   "outputs": [],
   "source": [
    "# Get datetime features - hour, weekday, month\n",
    "data['pickup_hour'] = data.pickup_datetime.dt.hour\n",
    "data['pickup_week'] = data.pickup_datetime.dt.weekday\n",
    "data['pickup_month'] = data.pickup_datetime.dt.month"
   ]
  },
  {
   "cell_type": "code",
   "execution_count": 36,
   "metadata": {
    "collapsed": true
   },
   "outputs": [],
   "source": [
    "# Get whether the day is a weekend or not\n",
    "def is_weekend(row):\n",
    "    if row['pickup_week'] in [4,5,6]:\n",
    "        return 1\n",
    "    else:\n",
    "        return 0\n",
    "\n",
    "# Get the specific time of day category instead of individual hours, which might be less meaningful\n",
    "def hour_category(row):\n",
    "    if row['pickup_hour'] in [1, 2, 3, 4, 5]:\n",
    "        return 'late_night'\n",
    "    elif row['pickup_hour'] in [21, 22, 23, 24]:\n",
    "        return 'night'\n",
    "    elif row['pickup_hour'] in [17, 18, 19, 20]:\n",
    "        return 'evening'\n",
    "    elif row['pickup_hour'] in [12, 13, 14, 15, 16]:\n",
    "        return 'afternoon'\n",
    "    elif row['pickup_hour'] in [6, 7, 8, 9, 10, 11]:\n",
    "        return 'morning'"
   ]
  },
  {
   "cell_type": "code",
   "execution_count": 37,
   "metadata": {
    "collapsed": true
   },
   "outputs": [],
   "source": [
    "data['pickup_hour_cat'] = data.apply(hour_category, axis=1)\n",
    "data['pickup_is_weekend'] = data.apply(is_weekend, axis=1)"
   ]
  },
  {
   "cell_type": "code",
   "execution_count": 38,
   "metadata": {},
   "outputs": [
    {
     "data": {
      "text/html": [
       "<div>\n",
       "<table border=\"1\" class=\"dataframe\">\n",
       "  <thead>\n",
       "    <tr style=\"text-align: right;\">\n",
       "      <th></th>\n",
       "      <th>afternoon</th>\n",
       "      <th>evening</th>\n",
       "      <th>late_night</th>\n",
       "      <th>morning</th>\n",
       "      <th>night</th>\n",
       "    </tr>\n",
       "  </thead>\n",
       "  <tbody>\n",
       "    <tr>\n",
       "      <th>583100</th>\n",
       "      <td>0</td>\n",
       "      <td>1</td>\n",
       "      <td>0</td>\n",
       "      <td>0</td>\n",
       "      <td>0</td>\n",
       "    </tr>\n",
       "    <tr>\n",
       "      <th>1320440</th>\n",
       "      <td>0</td>\n",
       "      <td>0</td>\n",
       "      <td>0</td>\n",
       "      <td>1</td>\n",
       "      <td>0</td>\n",
       "    </tr>\n",
       "    <tr>\n",
       "      <th>358078</th>\n",
       "      <td>0</td>\n",
       "      <td>1</td>\n",
       "      <td>0</td>\n",
       "      <td>0</td>\n",
       "      <td>0</td>\n",
       "    </tr>\n",
       "    <tr>\n",
       "      <th>1118733</th>\n",
       "      <td>0</td>\n",
       "      <td>0</td>\n",
       "      <td>0</td>\n",
       "      <td>1</td>\n",
       "      <td>0</td>\n",
       "    </tr>\n",
       "    <tr>\n",
       "      <th>110409</th>\n",
       "      <td>0</td>\n",
       "      <td>1</td>\n",
       "      <td>0</td>\n",
       "      <td>0</td>\n",
       "      <td>0</td>\n",
       "    </tr>\n",
       "  </tbody>\n",
       "</table>\n",
       "</div>"
      ],
      "text/plain": [
       "         afternoon  evening  late_night  morning  night\n",
       "583100           0        1           0        0      0\n",
       "1320440          0        0           0        1      0\n",
       "358078           0        1           0        0      0\n",
       "1118733          0        0           0        1      0\n",
       "110409           0        1           0        0      0"
      ]
     },
     "execution_count": 38,
     "metadata": {},
     "output_type": "execute_result"
    }
   ],
   "source": [
    "pickup_hour_cat_dummies = pd.get_dummies(data.pickup_hour_cat)\n",
    "pickup_hour_cat_dummies.head()"
   ]
  },
  {
   "cell_type": "code",
   "execution_count": 39,
   "metadata": {
    "collapsed": true
   },
   "outputs": [],
   "source": [
    "data['pickup_hour_cat_afternoon'] = pickup_hour_cat_dummies.iloc[:,0]\n",
    "data['pickup_hour_cat_evening'] = pickup_hour_cat_dummies.iloc[:,1]\n",
    "data['pickup_hour_cat_late_night'] = pickup_hour_cat_dummies.iloc[:,2]\n",
    "data['pickup_hour_cat_morning'] = pickup_hour_cat_dummies.iloc[:,3]\n",
    "data['pickup_hour_cat_night'] = pickup_hour_cat_dummies.iloc[:,4]"
   ]
  },
  {
   "cell_type": "code",
   "execution_count": 40,
   "metadata": {},
   "outputs": [
    {
     "data": {
      "text/html": [
       "<div>\n",
       "<table border=\"1\" class=\"dataframe\">\n",
       "  <thead>\n",
       "    <tr style=\"text-align: right;\">\n",
       "      <th></th>\n",
       "      <th>id</th>\n",
       "      <th>vendor_id</th>\n",
       "      <th>pickup_datetime</th>\n",
       "      <th>dropoff_datetime</th>\n",
       "      <th>passenger_count</th>\n",
       "      <th>pickup_longitude</th>\n",
       "      <th>pickup_latitude</th>\n",
       "      <th>dropoff_longitude</th>\n",
       "      <th>dropoff_latitude</th>\n",
       "      <th>store_and_fwd_flag</th>\n",
       "      <th>trip_duration</th>\n",
       "      <th>vendor_id_1</th>\n",
       "      <th>vendor_id_2</th>\n",
       "      <th>store_and_fwd_flag_N</th>\n",
       "      <th>store_and_fwd_flag_Y</th>\n",
       "      <th>trip_duration_min</th>\n",
       "      <th>trip_duration_hr</th>\n",
       "      <th>trip_duration_hr_round</th>\n",
       "      <th>within_manhattan</th>\n",
       "      <th>pickup_hour</th>\n",
       "      <th>pickup_week</th>\n",
       "      <th>pickup_month</th>\n",
       "      <th>pickup_hour_cat</th>\n",
       "      <th>pickup_is_weekend</th>\n",
       "      <th>pickup_hour_cat_afternoon</th>\n",
       "      <th>pickup_hour_cat_evening</th>\n",
       "      <th>pickup_hour_cat_late_night</th>\n",
       "      <th>pickup_hour_cat_morning</th>\n",
       "      <th>pickup_hour_cat_night</th>\n",
       "    </tr>\n",
       "  </thead>\n",
       "  <tbody>\n",
       "    <tr>\n",
       "      <th>583100</th>\n",
       "      <td>id3879397</td>\n",
       "      <td>1</td>\n",
       "      <td>2016-06-02 17:46:16</td>\n",
       "      <td>2016-06-02 18:22:26</td>\n",
       "      <td>1</td>\n",
       "      <td>-73.99</td>\n",
       "      <td>40.73</td>\n",
       "      <td>-73.97</td>\n",
       "      <td>40.78</td>\n",
       "      <td>N</td>\n",
       "      <td>2170</td>\n",
       "      <td>1</td>\n",
       "      <td>0</td>\n",
       "      <td>1</td>\n",
       "      <td>0</td>\n",
       "      <td>36.17</td>\n",
       "      <td>0.60</td>\n",
       "      <td>1.00</td>\n",
       "      <td>1</td>\n",
       "      <td>17</td>\n",
       "      <td>3</td>\n",
       "      <td>6</td>\n",
       "      <td>evening</td>\n",
       "      <td>0</td>\n",
       "      <td>0</td>\n",
       "      <td>1</td>\n",
       "      <td>0</td>\n",
       "      <td>0</td>\n",
       "      <td>0</td>\n",
       "    </tr>\n",
       "    <tr>\n",
       "      <th>1320440</th>\n",
       "      <td>id0701659</td>\n",
       "      <td>1</td>\n",
       "      <td>2016-03-02 10:07:11</td>\n",
       "      <td>2016-03-02 10:20:39</td>\n",
       "      <td>1</td>\n",
       "      <td>-73.98</td>\n",
       "      <td>40.76</td>\n",
       "      <td>-73.99</td>\n",
       "      <td>40.75</td>\n",
       "      <td>N</td>\n",
       "      <td>808</td>\n",
       "      <td>1</td>\n",
       "      <td>0</td>\n",
       "      <td>1</td>\n",
       "      <td>0</td>\n",
       "      <td>13.47</td>\n",
       "      <td>0.22</td>\n",
       "      <td>0.00</td>\n",
       "      <td>1</td>\n",
       "      <td>10</td>\n",
       "      <td>2</td>\n",
       "      <td>3</td>\n",
       "      <td>morning</td>\n",
       "      <td>0</td>\n",
       "      <td>0</td>\n",
       "      <td>0</td>\n",
       "      <td>0</td>\n",
       "      <td>1</td>\n",
       "      <td>0</td>\n",
       "    </tr>\n",
       "    <tr>\n",
       "      <th>358078</th>\n",
       "      <td>id3093367</td>\n",
       "      <td>2</td>\n",
       "      <td>2016-02-17 17:18:27</td>\n",
       "      <td>2016-02-17 18:21:34</td>\n",
       "      <td>2</td>\n",
       "      <td>-73.78</td>\n",
       "      <td>40.64</td>\n",
       "      <td>-73.99</td>\n",
       "      <td>40.75</td>\n",
       "      <td>N</td>\n",
       "      <td>3787</td>\n",
       "      <td>0</td>\n",
       "      <td>1</td>\n",
       "      <td>1</td>\n",
       "      <td>0</td>\n",
       "      <td>63.12</td>\n",
       "      <td>1.05</td>\n",
       "      <td>1.00</td>\n",
       "      <td>0</td>\n",
       "      <td>17</td>\n",
       "      <td>2</td>\n",
       "      <td>2</td>\n",
       "      <td>evening</td>\n",
       "      <td>0</td>\n",
       "      <td>0</td>\n",
       "      <td>1</td>\n",
       "      <td>0</td>\n",
       "      <td>0</td>\n",
       "      <td>0</td>\n",
       "    </tr>\n",
       "    <tr>\n",
       "      <th>1118733</th>\n",
       "      <td>id0727316</td>\n",
       "      <td>2</td>\n",
       "      <td>2016-03-17 07:30:59</td>\n",
       "      <td>2016-03-17 07:42:18</td>\n",
       "      <td>1</td>\n",
       "      <td>-73.96</td>\n",
       "      <td>40.78</td>\n",
       "      <td>-73.98</td>\n",
       "      <td>40.74</td>\n",
       "      <td>N</td>\n",
       "      <td>679</td>\n",
       "      <td>0</td>\n",
       "      <td>1</td>\n",
       "      <td>1</td>\n",
       "      <td>0</td>\n",
       "      <td>11.32</td>\n",
       "      <td>0.19</td>\n",
       "      <td>0.00</td>\n",
       "      <td>1</td>\n",
       "      <td>7</td>\n",
       "      <td>3</td>\n",
       "      <td>3</td>\n",
       "      <td>morning</td>\n",
       "      <td>0</td>\n",
       "      <td>0</td>\n",
       "      <td>0</td>\n",
       "      <td>0</td>\n",
       "      <td>1</td>\n",
       "      <td>0</td>\n",
       "    </tr>\n",
       "    <tr>\n",
       "      <th>110409</th>\n",
       "      <td>id2137873</td>\n",
       "      <td>2</td>\n",
       "      <td>2016-04-20 17:15:26</td>\n",
       "      <td>2016-04-20 18:01:57</td>\n",
       "      <td>6</td>\n",
       "      <td>-73.79</td>\n",
       "      <td>40.65</td>\n",
       "      <td>-73.95</td>\n",
       "      <td>40.81</td>\n",
       "      <td>N</td>\n",
       "      <td>2791</td>\n",
       "      <td>0</td>\n",
       "      <td>1</td>\n",
       "      <td>1</td>\n",
       "      <td>0</td>\n",
       "      <td>46.52</td>\n",
       "      <td>0.78</td>\n",
       "      <td>1.00</td>\n",
       "      <td>0</td>\n",
       "      <td>17</td>\n",
       "      <td>2</td>\n",
       "      <td>4</td>\n",
       "      <td>evening</td>\n",
       "      <td>0</td>\n",
       "      <td>0</td>\n",
       "      <td>1</td>\n",
       "      <td>0</td>\n",
       "      <td>0</td>\n",
       "      <td>0</td>\n",
       "    </tr>\n",
       "  </tbody>\n",
       "</table>\n",
       "</div>"
      ],
      "text/plain": [
       "                id vendor_id     pickup_datetime    dropoff_datetime  \\\n",
       "583100   id3879397         1 2016-06-02 17:46:16 2016-06-02 18:22:26   \n",
       "1320440  id0701659         1 2016-03-02 10:07:11 2016-03-02 10:20:39   \n",
       "358078   id3093367         2 2016-02-17 17:18:27 2016-02-17 18:21:34   \n",
       "1118733  id0727316         2 2016-03-17 07:30:59 2016-03-17 07:42:18   \n",
       "110409   id2137873         2 2016-04-20 17:15:26 2016-04-20 18:01:57   \n",
       "\n",
       "         passenger_count  pickup_longitude  pickup_latitude  \\\n",
       "583100                 1            -73.99            40.73   \n",
       "1320440                1            -73.98            40.76   \n",
       "358078                 2            -73.78            40.64   \n",
       "1118733                1            -73.96            40.78   \n",
       "110409                 6            -73.79            40.65   \n",
       "\n",
       "         dropoff_longitude  dropoff_latitude store_and_fwd_flag  \\\n",
       "583100              -73.97             40.78                  N   \n",
       "1320440             -73.99             40.75                  N   \n",
       "358078              -73.99             40.75                  N   \n",
       "1118733             -73.98             40.74                  N   \n",
       "110409              -73.95             40.81                  N   \n",
       "\n",
       "         trip_duration  vendor_id_1  vendor_id_2  store_and_fwd_flag_N  \\\n",
       "583100            2170            1            0                     1   \n",
       "1320440            808            1            0                     1   \n",
       "358078            3787            0            1                     1   \n",
       "1118733            679            0            1                     1   \n",
       "110409            2791            0            1                     1   \n",
       "\n",
       "         store_and_fwd_flag_Y  trip_duration_min  trip_duration_hr  \\\n",
       "583100                      0              36.17              0.60   \n",
       "1320440                     0              13.47              0.22   \n",
       "358078                      0              63.12              1.05   \n",
       "1118733                     0              11.32              0.19   \n",
       "110409                      0              46.52              0.78   \n",
       "\n",
       "         trip_duration_hr_round  within_manhattan  pickup_hour  pickup_week  \\\n",
       "583100                     1.00                 1           17            3   \n",
       "1320440                    0.00                 1           10            2   \n",
       "358078                     1.00                 0           17            2   \n",
       "1118733                    0.00                 1            7            3   \n",
       "110409                     1.00                 0           17            2   \n",
       "\n",
       "         pickup_month pickup_hour_cat  pickup_is_weekend  \\\n",
       "583100              6         evening                  0   \n",
       "1320440             3         morning                  0   \n",
       "358078              2         evening                  0   \n",
       "1118733             3         morning                  0   \n",
       "110409              4         evening                  0   \n",
       "\n",
       "         pickup_hour_cat_afternoon  pickup_hour_cat_evening  \\\n",
       "583100                           0                        1   \n",
       "1320440                          0                        0   \n",
       "358078                           0                        1   \n",
       "1118733                          0                        0   \n",
       "110409                           0                        1   \n",
       "\n",
       "         pickup_hour_cat_late_night  pickup_hour_cat_morning  \\\n",
       "583100                            0                        0   \n",
       "1320440                           0                        1   \n",
       "358078                            0                        0   \n",
       "1118733                           0                        1   \n",
       "110409                            0                        0   \n",
       "\n",
       "         pickup_hour_cat_night  \n",
       "583100                       0  \n",
       "1320440                      0  \n",
       "358078                       0  \n",
       "1118733                      0  \n",
       "110409                       0  "
      ]
     },
     "execution_count": 40,
     "metadata": {},
     "output_type": "execute_result"
    }
   ],
   "source": [
    "pd.options.display.max_columns = 50\n",
    "data.head()"
   ]
  },
  {
   "cell_type": "code",
   "execution_count": null,
   "metadata": {
    "collapsed": true
   },
   "outputs": [],
   "source": []
  },
  {
   "cell_type": "markdown",
   "metadata": {},
   "source": [
    "# Model 2"
   ]
  },
  {
   "cell_type": "code",
   "execution_count": 41,
   "metadata": {},
   "outputs": [
    {
     "data": {
      "text/plain": [
       "Index(['id', 'vendor_id', 'pickup_datetime', 'dropoff_datetime',\n",
       "       'passenger_count', 'pickup_longitude', 'pickup_latitude',\n",
       "       'dropoff_longitude', 'dropoff_latitude', 'store_and_fwd_flag',\n",
       "       'trip_duration', 'vendor_id_1', 'vendor_id_2', 'store_and_fwd_flag_N',\n",
       "       'store_and_fwd_flag_Y', 'trip_duration_min', 'trip_duration_hr',\n",
       "       'trip_duration_hr_round', 'within_manhattan', 'pickup_hour',\n",
       "       'pickup_week', 'pickup_month', 'pickup_hour_cat', 'pickup_is_weekend',\n",
       "       'pickup_hour_cat_afternoon', 'pickup_hour_cat_evening',\n",
       "       'pickup_hour_cat_late_night', 'pickup_hour_cat_morning',\n",
       "       'pickup_hour_cat_night'],\n",
       "      dtype='object')"
      ]
     },
     "execution_count": 41,
     "metadata": {},
     "output_type": "execute_result"
    }
   ],
   "source": [
    "data.columns"
   ]
  },
  {
   "cell_type": "code",
   "execution_count": 42,
   "metadata": {
    "collapsed": true
   },
   "outputs": [],
   "source": [
    "# Add the newly added features\n",
    "\n",
    "input_variables = ['pickup_longitude', 'pickup_latitude',\n",
    "                   'dropoff_longitude', 'dropoff_latitude',\n",
    "                   'vendor_id_1', 'vendor_id_2',\n",
    "                   'store_and_fwd_flag_N', 'store_and_fwd_flag_Y',\n",
    "                   'within_manhattan', 'pickup_is_weekend',\n",
    "                   'pickup_hour_cat_afternoon',\n",
    "                   'pickup_hour_cat_evening', \n",
    "                   'pickup_hour_cat_late_night',\n",
    "                   'pickup_hour_cat_morning', \n",
    "                   'pickup_hour_cat_night',\n",
    "                   'passenger_count']\n",
    "\n",
    "y = data.trip_duration_hr\n",
    "\n",
    "X = data[input_variables].values"
   ]
  },
  {
   "cell_type": "code",
   "execution_count": 43,
   "metadata": {
    "collapsed": true
   },
   "outputs": [],
   "source": [
    "X_train, X_test, y_train, y_test = train_test_split( X, y, \n",
    "                                                    test_size=0.10, \n",
    "                                                    random_state=42)"
   ]
  },
  {
   "cell_type": "code",
   "execution_count": 44,
   "metadata": {
    "collapsed": true
   },
   "outputs": [],
   "source": [
    "# Doc: http://scikit-learn.org/stable/auto_examples/linear_model/plot_ols.html\n",
    "from sklearn.linear_model import LinearRegression"
   ]
  },
  {
   "cell_type": "code",
   "execution_count": 45,
   "metadata": {
    "collapsed": true
   },
   "outputs": [],
   "source": [
    "regression = LinearRegression()"
   ]
  },
  {
   "cell_type": "code",
   "execution_count": 46,
   "metadata": {},
   "outputs": [
    {
     "data": {
      "text/plain": [
       "LinearRegression(copy_X=True, fit_intercept=True, n_jobs=1, normalize=False)"
      ]
     },
     "execution_count": 46,
     "metadata": {},
     "output_type": "execute_result"
    }
   ],
   "source": [
    "# Train the model using the training sets\n",
    "regression.fit(X_train, y_train)"
   ]
  },
  {
   "cell_type": "code",
   "execution_count": 47,
   "metadata": {},
   "outputs": [
    {
     "name": "stdout",
     "output_type": "stream",
     "text": [
      "Variables names: \n",
      " ['pickup_longitude', 'pickup_latitude', 'dropoff_longitude', 'dropoff_latitude', 'vendor_id_1', 'vendor_id_2', 'store_and_fwd_flag_N', 'store_and_fwd_flag_Y', 'within_manhattan', 'pickup_is_weekend', 'pickup_hour_cat_afternoon', 'pickup_hour_cat_evening', 'pickup_hour_cat_late_night', 'pickup_hour_cat_morning', 'pickup_hour_cat_night', 'passenger_count']\n",
      "Coefficients: \n",
      " [ 0.23665564 -0.67161887 -0.16473236 -0.11202201 -0.02986939  0.02986939\n",
      " -0.01471312  0.01471312 -0.25496928 -0.00864628  0.08655021  0.05188896\n",
      " -0.00103421  0.044298    0.03445019  0.00191655]\n"
     ]
    }
   ],
   "source": [
    "# The coefficients\n",
    "print(\"Variables names: \\n\", input_variables )\n",
    "print('Coefficients: \\n', regression.coef_)"
   ]
  },
  {
   "cell_type": "code",
   "execution_count": null,
   "metadata": {
    "collapsed": true
   },
   "outputs": [],
   "source": []
  },
  {
   "cell_type": "markdown",
   "metadata": {},
   "source": [
    "# Evaluation"
   ]
  },
  {
   "cell_type": "code",
   "execution_count": 48,
   "metadata": {
    "collapsed": true
   },
   "outputs": [],
   "source": [
    "# Doc: http://scikit-learn.org/stable/auto_examples/linear_model/plot_ols.html\n",
    "from sklearn.metrics import mean_squared_error, r2_score"
   ]
  },
  {
   "cell_type": "code",
   "execution_count": 49,
   "metadata": {},
   "outputs": [
    {
     "name": "stdout",
     "output_type": "stream",
     "text": [
      "Mean R2 on 10-CV: 0.0150469459826\n",
      "Mean MSE on 10-CV: -0.755069797778\n"
     ]
    }
   ],
   "source": [
    "# Doc: http://scikit-learn.org/stable/modules/generated/sklearn.model_selection.cross_validate.html\n",
    "scores = cross_val_score(regression, X_train, y_train, \n",
    "                        cv=10,\n",
    "                        scoring='r2')\n",
    "print(\"Mean R2 on 10-CV: \" + str(np.mean(scores)))\n",
    "scores = cross_val_score(regression, X_train, y_train, \n",
    "                        cv=10,\n",
    "                        scoring='neg_mean_squared_error')\n",
    "print(\"Mean MSE on 10-CV: \" + str(np.mean(scores)))"
   ]
  },
  {
   "cell_type": "code",
   "execution_count": 50,
   "metadata": {
    "collapsed": true
   },
   "outputs": [],
   "source": [
    "# Train data predictions\n",
    "train_y_pred = regression.predict(X_train)\n",
    "# Testing data predictions\n",
    "test_y_pred = regression.predict(X_test)"
   ]
  },
  {
   "cell_type": "code",
   "execution_count": 51,
   "metadata": {},
   "outputs": [
    {
     "name": "stdout",
     "output_type": "stream",
     "text": [
      "Mean squared error: 0.75500\n",
      "Variance score: 0.01494\n"
     ]
    }
   ],
   "source": [
    "# Evaluation on training data\n",
    "print(\"Mean squared error: %.5f\"\n",
    "      % mean_squared_error(y_train, train_y_pred))\n",
    "# Explained variance score: 1 is perfect prediction\n",
    "print('Variance score: %.5f' % r2_score(y_train, train_y_pred))"
   ]
  },
  {
   "cell_type": "code",
   "execution_count": 52,
   "metadata": {},
   "outputs": [
    {
     "name": "stdout",
     "output_type": "stream",
     "text": [
      "Mean squared error: 0.88024\n",
      "Variance score: 0.01306\n"
     ]
    }
   ],
   "source": [
    "# Evaluation on testing data\n",
    "print(\"Mean squared error: %.5f\"\n",
    "      % mean_squared_error(y_test, test_y_pred))\n",
    "# Explained variance score: 1 is perfect prediction\n",
    "print('Variance score: %.5f' % r2_score(y_test, test_y_pred))"
   ]
  },
  {
   "cell_type": "markdown",
   "metadata": {},
   "source": [
    "**Observations**\n",
    " - Improvement in MSE and R^2 with the new features."
   ]
  },
  {
   "cell_type": "code",
   "execution_count": null,
   "metadata": {
    "collapsed": true
   },
   "outputs": [],
   "source": []
  },
  {
   "cell_type": "markdown",
   "metadata": {},
   "source": [
    "# Further Investigation/Exploration"
   ]
  },
  {
   "cell_type": "code",
   "execution_count": 53,
   "metadata": {},
   "outputs": [
    {
     "data": {
      "text/plain": [
       "Lasso(alpha=1.0, copy_X=True, fit_intercept=True, max_iter=1000,\n",
       "   normalize=False, positive=False, precompute=False, random_state=None,\n",
       "   selection='cyclic', tol=0.0001, warm_start=False)"
      ]
     },
     "execution_count": 53,
     "metadata": {},
     "output_type": "execute_result"
    }
   ],
   "source": [
    "# Try different models - Lasso regression\n",
    "## http://scikit-learn.org/stable/modules/generated/sklearn.linear_model.Lasso.html\n",
    "from sklearn.linear_model import Lasso\n",
    "\n",
    "lasso = Lasso()\n",
    "lasso.fit(X_train, y_train)"
   ]
  },
  {
   "cell_type": "code",
   "execution_count": 54,
   "metadata": {},
   "outputs": [
    {
     "name": "stdout",
     "output_type": "stream",
     "text": [
      "['pickup_longitude', 'pickup_latitude', 'dropoff_longitude', 'dropoff_latitude', 'vendor_id_1', 'vendor_id_2', 'store_and_fwd_flag_N', 'store_and_fwd_flag_Y', 'within_manhattan', 'pickup_is_weekend', 'pickup_hour_cat_afternoon', 'pickup_hour_cat_evening', 'pickup_hour_cat_late_night', 'pickup_hour_cat_morning', 'pickup_hour_cat_night', 'passenger_count']\n",
      "[ 0. -0.  0. -0. -0.  0. -0.  0. -0. -0.  0. -0. -0. -0. -0.  0.]\n"
     ]
    }
   ],
   "source": [
    "print(input_variables)\n",
    "print(lasso.coef_)"
   ]
  },
  {
   "cell_type": "code",
   "execution_count": 55,
   "metadata": {},
   "outputs": [
    {
     "name": "stdout",
     "output_type": "stream",
     "text": [
      "Mean R2 on 10-CV: -3.05395162663e-05\n",
      "Mean MSE on 10-CV: -0.766457154208\n"
     ]
    }
   ],
   "source": [
    "scores = cross_val_score(lasso, X_train, y_train, \n",
    "                        cv=10,\n",
    "                        scoring='r2')\n",
    "print(\"Mean R2 on 10-CV: \" + str(np.mean(scores)))\n",
    "scores = cross_val_score(lasso, X_train, y_train,\n",
    "                        cv=10,\n",
    "                        scoring='neg_mean_squared_error')\n",
    "print(\"Mean MSE on 10-CV: \" + str(np.mean(scores)))"
   ]
  },
  {
   "cell_type": "code",
   "execution_count": null,
   "metadata": {
    "collapsed": true
   },
   "outputs": [],
   "source": []
  },
  {
   "cell_type": "code",
   "execution_count": null,
   "metadata": {
    "collapsed": true
   },
   "outputs": [],
   "source": []
  },
  {
   "cell_type": "code",
   "execution_count": 56,
   "metadata": {},
   "outputs": [
    {
     "data": {
      "text/plain": [
       "Ridge(alpha=1.0, copy_X=True, fit_intercept=True, max_iter=None,\n",
       "   normalize=False, random_state=None, solver='auto', tol=0.001)"
      ]
     },
     "execution_count": 56,
     "metadata": {},
     "output_type": "execute_result"
    }
   ],
   "source": [
    "# Try different models - Ridge regression\n",
    "## http://scikit-learn.org/stable/modules/generated/sklearn.linear_model.Ridge.html\n",
    "from sklearn.linear_model import Ridge\n",
    "\n",
    "ridge = Ridge()\n",
    "ridge.fit(X_train, y_train)"
   ]
  },
  {
   "cell_type": "code",
   "execution_count": 57,
   "metadata": {},
   "outputs": [
    {
     "name": "stdout",
     "output_type": "stream",
     "text": [
      "['pickup_longitude', 'pickup_latitude', 'dropoff_longitude', 'dropoff_latitude', 'vendor_id_1', 'vendor_id_2', 'store_and_fwd_flag_N', 'store_and_fwd_flag_Y', 'within_manhattan', 'pickup_is_weekend', 'pickup_hour_cat_afternoon', 'pickup_hour_cat_evening', 'pickup_hour_cat_late_night', 'pickup_hour_cat_morning', 'pickup_hour_cat_night', 'passenger_count']\n",
      "[ 0.23640239 -0.66996305 -0.16453957 -0.11255872 -0.02986918  0.02986918\n",
      " -0.01471193  0.01471193 -0.25499008 -0.00864559  0.08653044  0.0518719\n",
      " -0.0010475   0.04427677  0.03443682  0.00191675]\n"
     ]
    }
   ],
   "source": [
    "print(input_variables)\n",
    "print(ridge.coef_)"
   ]
  },
  {
   "cell_type": "code",
   "execution_count": 58,
   "metadata": {},
   "outputs": [
    {
     "name": "stdout",
     "output_type": "stream",
     "text": [
      "Mean R2 on 10-CV: 0.0150470902956\n",
      "Mean MSE on 10-CV: -0.755069676091\n"
     ]
    }
   ],
   "source": [
    "scores = cross_val_score(ridge, X_train, y_train, \n",
    "                        cv=10,\n",
    "                        scoring='r2')\n",
    "print(\"Mean R2 on 10-CV: \" + str(np.mean(scores)))\n",
    "scores = cross_val_score(ridge, X_train, y_train, \n",
    "                        cv=10,\n",
    "                        scoring='neg_mean_squared_error')\n",
    "print(\"Mean MSE on 10-CV: \" + str(np.mean(scores)))"
   ]
  },
  {
   "cell_type": "code",
   "execution_count": null,
   "metadata": {
    "collapsed": true
   },
   "outputs": [],
   "source": []
  },
  {
   "cell_type": "code",
   "execution_count": null,
   "metadata": {
    "collapsed": true
   },
   "outputs": [],
   "source": [
    "# Model Tuning"
   ]
  },
  {
   "cell_type": "code",
   "execution_count": 59,
   "metadata": {
    "scrolled": true
   },
   "outputs": [
    {
     "name": "stderr",
     "output_type": "stream",
     "text": [
      "/home/skye/.local/share/canopy/edm/envs/User/lib/python3.5/site-packages/scipy/linalg/basic.py:223: RuntimeWarning: scipy.linalg.solve\n",
      "Ill-conditioned matrix detected. Result is not guaranteed to be accurate.\n",
      "Reciprocal condition number: 7.053278848767349e-33\n",
      "  ' condition number: {}'.format(rcond), RuntimeWarning)\n",
      "/home/skye/.local/share/canopy/edm/envs/User/lib/python3.5/site-packages/scipy/linalg/basic.py:223: RuntimeWarning: scipy.linalg.solve\n",
      "Ill-conditioned matrix detected. Result is not guaranteed to be accurate.\n",
      "Reciprocal condition number: 2.7212069784482325e-17\n",
      "  ' condition number: {}'.format(rcond), RuntimeWarning)\n",
      "/home/skye/.local/share/canopy/edm/envs/User/lib/python3.5/site-packages/scipy/linalg/basic.py:223: RuntimeWarning: scipy.linalg.solve\n",
      "Ill-conditioned matrix detected. Result is not guaranteed to be accurate.\n",
      "Reciprocal condition number: 1.3977796332825424e-32\n",
      "  ' condition number: {}'.format(rcond), RuntimeWarning)\n",
      "/home/skye/.local/share/canopy/edm/envs/User/lib/python3.5/site-packages/scipy/linalg/basic.py:223: RuntimeWarning: scipy.linalg.solve\n",
      "Ill-conditioned matrix detected. Result is not guaranteed to be accurate.\n",
      "Reciprocal condition number: 1.0905121940024934e-17\n",
      "  ' condition number: {}'.format(rcond), RuntimeWarning)\n",
      "/home/skye/.local/share/canopy/edm/envs/User/lib/python3.5/site-packages/scipy/linalg/basic.py:223: RuntimeWarning: scipy.linalg.solve\n",
      "Ill-conditioned matrix detected. Result is not guaranteed to be accurate.\n",
      "Reciprocal condition number: 1.800601006628052e-33\n",
      "  ' condition number: {}'.format(rcond), RuntimeWarning)\n"
     ]
    },
    {
     "name": "stdout",
     "output_type": "stream",
     "text": [
      "GridSearchCV(cv=None, error_score='raise',\n",
      "       estimator=Ridge(alpha=1.0, copy_X=True, fit_intercept=True, max_iter=None,\n",
      "   normalize=False, random_state=None, solver='auto', tol=0.001),\n",
      "       fit_params={}, iid=True, n_jobs=1,\n",
      "       param_grid={'normalize': [True, False], 'alpha': [1, 0.1, 0.01, 0.001, 0.0001, 0, 0.5]},\n",
      "       pre_dispatch='2*n_jobs', refit=True, return_train_score=True,\n",
      "       scoring=None, verbose=0)\n"
     ]
    }
   ],
   "source": [
    "from sklearn.model_selection import GridSearchCV\n",
    "params = {'alpha': [1,0.1,0.01,0.001,0.0001,0, 0.5], \n",
    "          'normalize' : [True, False]}\n",
    "grid = GridSearchCV(estimator=ridge, param_grid=params)\n",
    "grid.fit(X_train, y_train)\n",
    "print(grid)"
   ]
  },
  {
   "cell_type": "code",
   "execution_count": 60,
   "metadata": {},
   "outputs": [
    {
     "name": "stdout",
     "output_type": "stream",
     "text": [
      "0.0148758502012\n",
      "Ridge(alpha=1, copy_X=True, fit_intercept=True, max_iter=None,\n",
      "   normalize=False, random_state=None, solver='auto', tol=0.001)\n"
     ]
    }
   ],
   "source": [
    "# summarize the results of the grid search\n",
    "print(grid.best_score_)\n",
    "print(grid.best_estimator_)"
   ]
  },
  {
   "cell_type": "code",
   "execution_count": 61,
   "metadata": {
    "collapsed": true
   },
   "outputs": [],
   "source": [
    "# Train data predictions\n",
    "train_y_pred = ridge.predict(X_train)\n",
    "# Testing data predictions\n",
    "test_y_pred = ridge.predict(X_test)"
   ]
  },
  {
   "cell_type": "code",
   "execution_count": 62,
   "metadata": {},
   "outputs": [
    {
     "name": "stdout",
     "output_type": "stream",
     "text": [
      "Mean squared error: 0.75500\n",
      "Variance score: 0.01494\n"
     ]
    }
   ],
   "source": [
    "# Evaluation on training data\n",
    "print(\"Mean squared error: %.5f\"\n",
    "      % mean_squared_error(y_train, train_y_pred))\n",
    "# Explained variance score: 1 is perfect prediction\n",
    "print('Variance score: %.5f' % r2_score(y_train, train_y_pred))"
   ]
  },
  {
   "cell_type": "code",
   "execution_count": 63,
   "metadata": {},
   "outputs": [
    {
     "name": "stdout",
     "output_type": "stream",
     "text": [
      "Mean squared error: 0.88024\n",
      "Variance score: 0.01306\n"
     ]
    }
   ],
   "source": [
    "# Evaluation on testing data\n",
    "print(\"Mean squared error: %.5f\"\n",
    "      % mean_squared_error(y_test, test_y_pred))\n",
    "# Explained variance score: 1 is perfect prediction\n",
    "print('Variance score: %.5f' % r2_score(y_test, test_y_pred))"
   ]
  },
  {
   "cell_type": "markdown",
   "metadata": {
    "collapsed": true
   },
   "source": [
    "**Observations**\n",
    " - No improvement via lasso and ridge regression.\n",
    " - Ridge regression with the parameter tuning for the alpha and normalize parameter of the ridge regression. "
   ]
  },
  {
   "cell_type": "code",
   "execution_count": 65,
   "metadata": {
    "collapsed": true
   },
   "outputs": [],
   "source": [
    "# Try different models - Random Forest regressor(ensemble model)\n",
    "## http://scikit-learn.org/stable/modules/generated/sklearn.ensemble.RandomForestRegressor.html#sklearn.ensemble.RandomForestRegressor\n",
    "from sklearn.ensemble import RandomForestRegressor\n",
    "\n",
    "rf = RandomForestRegressor(max_depth=5, random_state=0,\n",
    "                           n_estimators=100)"
   ]
  },
  {
   "cell_type": "code",
   "execution_count": 66,
   "metadata": {},
   "outputs": [
    {
     "data": {
      "text/plain": [
       "RandomForestRegressor(bootstrap=True, criterion='mse', max_depth=5,\n",
       "           max_features='auto', max_leaf_nodes=None,\n",
       "           min_impurity_split=1e-07, min_samples_leaf=1,\n",
       "           min_samples_split=2, min_weight_fraction_leaf=0.0,\n",
       "           n_estimators=100, n_jobs=1, oob_score=False, random_state=0,\n",
       "           verbose=0, warm_start=False)"
      ]
     },
     "execution_count": 66,
     "metadata": {},
     "output_type": "execute_result"
    }
   ],
   "source": [
    "rf.fit(X_train, y_train)"
   ]
  },
  {
   "cell_type": "code",
   "execution_count": 68,
   "metadata": {},
   "outputs": [
    {
     "name": "stdout",
     "output_type": "stream",
     "text": [
      "['pickup_longitude', 'pickup_latitude', 'dropoff_longitude', 'dropoff_latitude', 'vendor_id_1', 'vendor_id_2', 'store_and_fwd_flag_N', 'store_and_fwd_flag_Y', 'within_manhattan', 'pickup_is_weekend', 'pickup_hour_cat_afternoon', 'pickup_hour_cat_evening', 'pickup_hour_cat_late_night', 'pickup_hour_cat_morning', 'pickup_hour_cat_night', 'passenger_count']\n",
      "[ 0.08409957  0.1455429   0.18298747  0.11630002  0.0268468   0.00785499\n",
      "  0.          0.          0.41142846  0.00231043  0.00984969  0.00198761\n",
      "  0.00160476  0.00116347  0.00070072  0.00732311]\n"
     ]
    }
   ],
   "source": [
    "print(input_variables)\n",
    "print(rf.feature_importances_)"
   ]
  },
  {
   "cell_type": "code",
   "execution_count": 69,
   "metadata": {
    "collapsed": true
   },
   "outputs": [],
   "source": [
    "# Train data predictions\n",
    "train_y_pred = rf.predict(X_train)\n",
    "# Testing data predictions\n",
    "test_y_pred = rf.predict(X_test)"
   ]
  },
  {
   "cell_type": "code",
   "execution_count": 70,
   "metadata": {},
   "outputs": [
    {
     "name": "stdout",
     "output_type": "stream",
     "text": [
      "Mean squared error: 0.74497\n",
      "Variance score: 0.02803\n"
     ]
    }
   ],
   "source": [
    "# Evaluation on training data\n",
    "print(\"Mean squared error: %.5f\"\n",
    "      % mean_squared_error(y_train, train_y_pred))\n",
    "# Explained variance score: 1 is perfect prediction\n",
    "print('Variance score: %.5f' % r2_score(y_train, train_y_pred))"
   ]
  },
  {
   "cell_type": "code",
   "execution_count": 71,
   "metadata": {},
   "outputs": [
    {
     "name": "stdout",
     "output_type": "stream",
     "text": [
      "Mean squared error: 0.87550\n",
      "Variance score: 0.01838\n"
     ]
    }
   ],
   "source": [
    "# Evaluation on testing data\n",
    "print(\"Mean squared error: %.5f\"\n",
    "      % mean_squared_error(y_test, test_y_pred))\n",
    "# Explained variance score: 1 is perfect prediction\n",
    "print('Variance score: %.5f' % r2_score(y_test, test_y_pred))"
   ]
  },
  {
   "cell_type": "markdown",
   "metadata": {},
   "source": [
    "**Observations**\n",
    " - Improvement in MSE and R^2 via the Random Forest regressor."
   ]
  },
  {
   "cell_type": "code",
   "execution_count": null,
   "metadata": {
    "collapsed": true
   },
   "outputs": [],
   "source": []
  },
  {
   "cell_type": "markdown",
   "metadata": {
    "collapsed": true
   },
   "source": [
    "**Suggestions**\n",
    " - Add more features based on datasets that might be related: weather data for that particular day (i.e., temperature, humidity, weather condition)\n",
    " - Engineer more location features based on latitude and longitude.\n",
    " - Add more passenger count bins.\n",
    " - Use another regressor type."
   ]
  },
  {
   "cell_type": "code",
   "execution_count": null,
   "metadata": {
    "collapsed": true
   },
   "outputs": [],
   "source": []
  },
  {
   "cell_type": "code",
   "execution_count": null,
   "metadata": {
    "collapsed": true
   },
   "outputs": [],
   "source": []
  }
 ],
 "metadata": {
  "kernelspec": {
   "display_name": "Python 3",
   "language": "python",
   "name": "python3"
  },
  "language_info": {
   "codemirror_mode": {
    "name": "ipython",
    "version": 3
   },
   "file_extension": ".py",
   "mimetype": "text/x-python",
   "name": "python",
   "nbconvert_exporter": "python",
   "pygments_lexer": "ipython3",
   "version": "3.7.0"
  }
 },
 "nbformat": 4,
 "nbformat_minor": 2
}
